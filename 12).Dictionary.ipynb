{
 "cells": [
  {
   "cell_type": "markdown",
   "id": "907fc465-0330-45d9-82d3-f73584147253",
   "metadata": {},
   "source": [
    "# Dictionary "
   ]
  },
  {
   "cell_type": "markdown",
   "id": "4c52ff9c-1162-4963-a8e2-0af4ae9b0c9f",
   "metadata": {},
   "source": [
    "Dictionary - {keys: value}"
   ]
  },
  {
   "cell_type": "markdown",
   "id": "813b7d6c-7648-496d-9619-57edeec49d5f",
   "metadata": {},
   "source": [
    "Dictionary contains dupliacte values. It can be mutable we can change both keys and values.\n",
    "\n",
    "It can contain duplicate values."
   ]
  },
  {
   "cell_type": "markdown",
   "id": "d4375153-231a-49f1-982e-d15d60fff3df",
   "metadata": {},
   "source": [
    "Dictionary functions:\n",
    "\n",
    "Method--Description\n",
    "\n",
    "clear()--Removes all the elements from the dictionary\n",
    "\n",
    "copy()--Returns a copy of the dictionary\n",
    "\n",
    "fromkeys()--Returns a dictionary with the specified keys and value\n",
    "\n",
    "get()--Returns the value of the specified key\n",
    "\n",
    "items()--Returns a list containing a tuple for each key value pair\n",
    "\n",
    "keys()--Returns a list containing the dictionary's keys\n",
    "\n",
    "pop()--Removes the element with the specified key\n",
    "\n",
    "popitem()--Removes the last inserted key-value pair\n",
    "\n",
    "setdefault()--Returns the value of the specified key. If the key does not exist: insert the key, with the specified value\n",
    "\n",
    "update()--Updates the dictionary with the specified key-value pairs\n",
    "\n",
    "values()--Returns a list of all the values in the dictionary dictionary"
   ]
  },
  {
   "cell_type": "code",
   "execution_count": 8,
   "id": "72aea85d-f4eb-4103-abb8-f01408912e27",
   "metadata": {},
   "outputs": [
    {
     "data": {
      "text/plain": [
       "{1: 'one', 2: 'two', 3: 'three', 4: 'four', 5: 'five'}"
      ]
     },
     "execution_count": 8,
     "metadata": {},
     "output_type": "execute_result"
    }
   ],
   "source": [
    "my_dict={1:'one',2:'two',3:'three',4:'four',5:'five'}\n",
    "my_dict"
   ]
  },
  {
   "cell_type": "code",
   "execution_count": 10,
   "id": "ec3fd097-7421-4355-b5bd-b5391af78785",
   "metadata": {},
   "outputs": [
    {
     "data": {
      "text/plain": [
       "dict_keys([1, 2, 3, 4, 5])"
      ]
     },
     "execution_count": 10,
     "metadata": {},
     "output_type": "execute_result"
    }
   ],
   "source": [
    "my_dict.keys()"
   ]
  },
  {
   "cell_type": "code",
   "execution_count": 12,
   "id": "9539f8b9-46a1-4a7e-9f4e-d52bd6581ebf",
   "metadata": {},
   "outputs": [
    {
     "data": {
      "text/plain": [
       "dict_values(['one', 'two', 'three', 'four', 'five'])"
      ]
     },
     "execution_count": 12,
     "metadata": {},
     "output_type": "execute_result"
    }
   ],
   "source": [
    "my_dict.values()"
   ]
  },
  {
   "cell_type": "code",
   "execution_count": 14,
   "id": "7c95e233-a110-4f36-bc8a-602648553dc3",
   "metadata": {},
   "outputs": [
    {
     "data": {
      "text/plain": [
       "dict_items([(1, 'one'), (2, 'two'), (3, 'three'), (4, 'four'), (5, 'five')])"
      ]
     },
     "execution_count": 14,
     "metadata": {},
     "output_type": "execute_result"
    }
   ],
   "source": [
    "my_dict.items()"
   ]
  },
  {
   "cell_type": "code",
   "execution_count": 20,
   "id": "fdcac9a5-b922-4dd9-8327-4d7e19cea5e9",
   "metadata": {},
   "outputs": [
    {
     "data": {
      "text/plain": [
       "{1: 'apple', 2: 'two', 3: 'three', 4: 'four', 5: 'five'}"
      ]
     },
     "execution_count": 20,
     "metadata": {},
     "output_type": "execute_result"
    }
   ],
   "source": [
    "my_dict[1]='apple' # changing of the values\n",
    "my_dict      "
   ]
  },
  {
   "cell_type": "code",
   "execution_count": 22,
   "id": "f7796b40-e2a5-4096-8ed8-4ab0e113dd96",
   "metadata": {},
   "outputs": [
    {
     "data": {
      "text/plain": [
       "{1: 'apple', 2: 'two', 3: 'three', 4: 'dog', 5: 'five'}"
      ]
     },
     "execution_count": 22,
     "metadata": {},
     "output_type": "execute_result"
    }
   ],
   "source": [
    "my_dict[4]='dog' # changing of the values\n",
    "my_dict  "
   ]
  },
  {
   "cell_type": "code",
   "execution_count": 26,
   "id": "bd9dde7d-594f-484c-85d9-9c86c76b331e",
   "metadata": {},
   "outputs": [
    {
     "data": {
      "text/plain": [
       "'two'"
      ]
     },
     "execution_count": 26,
     "metadata": {},
     "output_type": "execute_result"
    }
   ],
   "source": [
    "my_dict.pop(2)  # pop -- deleting the value from the key "
   ]
  },
  {
   "cell_type": "code",
   "execution_count": 28,
   "id": "eb4ef941-73e3-491a-9309-38263323a724",
   "metadata": {},
   "outputs": [
    {
     "data": {
      "text/plain": [
       "{1: 'apple', 3: 'three', 4: 'dog', 5: 'five'}"
      ]
     },
     "execution_count": 28,
     "metadata": {},
     "output_type": "execute_result"
    }
   ],
   "source": [
    "my_dict"
   ]
  },
  {
   "cell_type": "code",
   "execution_count": 36,
   "id": "20268709-89e8-4c14-9ad5-6ec32909e80c",
   "metadata": {},
   "outputs": [
    {
     "data": {
      "text/plain": [
       "(5, 'five')"
      ]
     },
     "execution_count": 36,
     "metadata": {},
     "output_type": "execute_result"
    }
   ],
   "source": [
    "my_dict.popitem()"
   ]
  },
  {
   "cell_type": "code",
   "execution_count": 40,
   "id": "aea3763e-ba30-4409-87be-6d97b6832d6b",
   "metadata": {},
   "outputs": [
    {
     "data": {
      "text/plain": [
       "{1: 'apple', 3: 'three', 4: 'dog'}"
      ]
     },
     "execution_count": 40,
     "metadata": {},
     "output_type": "execute_result"
    }
   ],
   "source": [
    "my_dict"
   ]
  },
  {
   "cell_type": "code",
   "execution_count": 63,
   "id": "62f0da1c-43b2-47c6-a006-1a2d81ed95c4",
   "metadata": {},
   "outputs": [
    {
     "data": {
      "text/plain": [
       "3"
      ]
     },
     "execution_count": 63,
     "metadata": {},
     "output_type": "execute_result"
    }
   ],
   "source": [
    "len(my_dict)"
   ]
  },
  {
   "cell_type": "code",
   "execution_count": 71,
   "id": "5e1e24a7-3e3c-4b0a-9e91-efac1e0357e1",
   "metadata": {},
   "outputs": [
    {
     "data": {
      "text/plain": [
       "True"
      ]
     },
     "execution_count": 71,
     "metadata": {},
     "output_type": "execute_result"
    }
   ],
   "source": [
    "# memebership\n",
    "3 in my_dict"
   ]
  },
  {
   "cell_type": "code",
   "execution_count": 73,
   "id": "56383505-1187-4c3c-91f8-98f28ab08c7c",
   "metadata": {},
   "outputs": [
    {
     "data": {
      "text/plain": [
       "False"
      ]
     },
     "execution_count": 73,
     "metadata": {},
     "output_type": "execute_result"
    }
   ],
   "source": [
    "7 in my_dict"
   ]
  },
  {
   "cell_type": "code",
   "execution_count": 75,
   "id": "72690933-b9b9-4fa3-b389-c1eb8dac1b14",
   "metadata": {},
   "outputs": [
    {
     "data": {
      "text/plain": [
       "{1: 'one', 2: 'two', 3: 'three', 4: 'four', 5: 'five', 6: 'six', 7: 'seven'}"
      ]
     },
     "execution_count": 75,
     "metadata": {},
     "output_type": "execute_result"
    }
   ],
   "source": [
    "my_dict1={1:'one',2:'two',3:'three',4:'four',5:'five',6:'six',7:'seven'}\n",
    "my_dict1"
   ]
  },
  {
   "cell_type": "code",
   "execution_count": 77,
   "id": "016e1d41-1c6a-4b1f-a2af-9ab5ea4b3fc1",
   "metadata": {},
   "outputs": [
    {
     "data": {
      "text/plain": [
       "'five'"
      ]
     },
     "execution_count": 77,
     "metadata": {},
     "output_type": "execute_result"
    }
   ],
   "source": [
    "#indexing\n",
    "my_dict1[5]"
   ]
  },
  {
   "cell_type": "code",
   "execution_count": 83,
   "id": "41f95401-e436-4d2e-bcb3-e4a07644ede1",
   "metadata": {},
   "outputs": [
    {
     "data": {
      "text/plain": [
       "'four'"
      ]
     },
     "execution_count": 83,
     "metadata": {},
     "output_type": "execute_result"
    }
   ],
   "source": [
    "my_dict1[4]"
   ]
  },
  {
   "cell_type": "code",
   "execution_count": 97,
   "id": "83ecec91-a375-4478-9fe0-3fabc4481f92",
   "metadata": {},
   "outputs": [],
   "source": [
    "my_dict.clear()  # clear-- removes all the elements from the dict"
   ]
  },
  {
   "cell_type": "code",
   "execution_count": 99,
   "id": "55743274-696f-4610-9192-1daaa5fbfec6",
   "metadata": {},
   "outputs": [
    {
     "data": {
      "text/plain": [
       "{}"
      ]
     },
     "execution_count": 99,
     "metadata": {},
     "output_type": "execute_result"
    }
   ],
   "source": [
    "my_dict"
   ]
  },
  {
   "cell_type": "code",
   "execution_count": 101,
   "id": "1fa5f089-3b85-4907-8b0a-89c0f5a61132",
   "metadata": {},
   "outputs": [
    {
     "data": {
      "text/plain": [
       "'two'"
      ]
     },
     "execution_count": 101,
     "metadata": {},
     "output_type": "execute_result"
    }
   ],
   "source": [
    "my_dict1.get(2)    # get--gives the values of the specific key"
   ]
  },
  {
   "cell_type": "code",
   "execution_count": 113,
   "id": "37c7e5b1-0e74-46ad-ab3a-8623deb92d06",
   "metadata": {},
   "outputs": [
    {
     "name": "stdout",
     "output_type": "stream",
     "text": [
      "1\n",
      "2\n",
      "3\n",
      "4\n",
      "5\n",
      "6\n",
      "7\n"
     ]
    }
   ],
   "source": [
    "# for loop is acceptable in dict\n",
    "for i in my_dict1:\n",
    "    print(i)"
   ]
  },
  {
   "cell_type": "code",
   "execution_count": 115,
   "id": "40ed8585-f573-456b-821b-d5f29f367b39",
   "metadata": {},
   "outputs": [
    {
     "name": "stdout",
     "output_type": "stream",
     "text": [
      "(0, 1)\n",
      "(1, 2)\n",
      "(2, 3)\n",
      "(3, 4)\n",
      "(4, 5)\n",
      "(5, 6)\n",
      "(6, 7)\n"
     ]
    }
   ],
   "source": [
    "for i in enumerate(my_dict1):\n",
    "    print(i)"
   ]
  },
  {
   "cell_type": "code",
   "execution_count": 127,
   "id": "10a44035-b1fb-4e54-bf62-881da7ee60f5",
   "metadata": {},
   "outputs": [
    {
     "data": {
      "text/plain": [
       "{1: 'two'}"
      ]
     },
     "execution_count": 127,
     "metadata": {},
     "output_type": "execute_result"
    }
   ],
   "source": [
    "my_dict1={1:'two'}     # update-- updating the value of key\n",
    "my_dict1.update(my_dict1)\n",
    "my_dict1"
   ]
  },
  {
   "cell_type": "code",
   "execution_count": null,
   "id": "77b4be96-2b80-481b-bec2-3f17d33050b2",
   "metadata": {},
   "outputs": [],
   "source": []
  }
 ],
 "metadata": {
  "kernelspec": {
   "display_name": "Python 3 (ipykernel)",
   "language": "python",
   "name": "python3"
  },
  "language_info": {
   "codemirror_mode": {
    "name": "ipython",
    "version": 3
   },
   "file_extension": ".py",
   "mimetype": "text/x-python",
   "name": "python",
   "nbconvert_exporter": "python",
   "pygments_lexer": "ipython3",
   "version": "3.12.4"
  }
 },
 "nbformat": 4,
 "nbformat_minor": 5
}
