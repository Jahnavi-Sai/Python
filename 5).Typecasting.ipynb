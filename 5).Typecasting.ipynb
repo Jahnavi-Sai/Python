{
 "cells": [
  {
   "cell_type": "markdown",
   "id": "f20d9cdd-76be-4291-b9af-b32be19978e4",
   "metadata": {},
   "source": [
    "# Typecasting"
   ]
  },
  {
   "cell_type": "markdown",
   "id": "331fad1b-2ef0-479c-bb40-87fd78cf93ed",
   "metadata": {},
   "source": [
    "typecasting means changing one datatype to other datatype \n",
    "\n",
    "datatypes are:\n",
    "int,float,boolean,complex,string"
   ]
  },
  {
   "cell_type": "markdown",
   "id": "e270aeb6-8d41-43b7-b04e-647196281ee1",
   "metadata": {},
   "source": [
    "# integer \n",
    "int-->float,boolean string numbers are possible\n",
    "\n",
    "int-->complex,strings are not possible"
   ]
  },
  {
   "cell_type": "code",
   "execution_count": 6,
   "id": "c3ef4dd4-9e4f-4b86-8601-73249f073bd8",
   "metadata": {},
   "outputs": [
    {
     "data": {
      "text/plain": [
       "2"
      ]
     },
     "execution_count": 6,
     "metadata": {},
     "output_type": "execute_result"
    }
   ],
   "source": [
    "int(2.4) # converting float to integer"
   ]
  },
  {
   "cell_type": "code",
   "execution_count": 11,
   "id": "207fb7fb-e887-4c7b-b0d5-e63de6286354",
   "metadata": {},
   "outputs": [
    {
     "data": {
      "text/plain": [
       "1"
      ]
     },
     "execution_count": 11,
     "metadata": {},
     "output_type": "execute_result"
    }
   ],
   "source": [
    "int(True)  #converting boolean to int"
   ]
  },
  {
   "cell_type": "code",
   "execution_count": 13,
   "id": "30b3ed16-9abf-488a-9879-c5fb4ba35428",
   "metadata": {},
   "outputs": [
    {
     "ename": "TypeError",
     "evalue": "int() argument must be a string, a bytes-like object or a real number, not 'complex'",
     "output_type": "error",
     "traceback": [
      "\u001b[1;31m---------------------------------------------------------------------------\u001b[0m",
      "\u001b[1;31mTypeError\u001b[0m                                 Traceback (most recent call last)",
      "Cell \u001b[1;32mIn[13], line 1\u001b[0m\n\u001b[1;32m----> 1\u001b[0m \u001b[38;5;28mint\u001b[39m(\u001b[38;5;241m1\u001b[39m\u001b[38;5;241m+\u001b[39m\u001b[38;5;241m2\u001b[39mj)\n",
      "\u001b[1;31mTypeError\u001b[0m: int() argument must be a string, a bytes-like object or a real number, not 'complex'"
     ]
    }
   ],
   "source": [
    "int(1+2j) #converting complex to int its is not possible"
   ]
  },
  {
   "cell_type": "code",
   "execution_count": 15,
   "id": "bcbd02c6-f8ea-4fcc-86a1-4d3723fd838d",
   "metadata": {},
   "outputs": [
    {
     "data": {
      "text/plain": [
       "10"
      ]
     },
     "execution_count": 15,
     "metadata": {},
     "output_type": "execute_result"
    }
   ],
   "source": [
    "int(\"10\") #converting string to integer"
   ]
  },
  {
   "cell_type": "code",
   "execution_count": 17,
   "id": "f9447fc4-ecd9-4ca7-850a-410fad03d22b",
   "metadata": {},
   "outputs": [
    {
     "ename": "ValueError",
     "evalue": "invalid literal for int() with base 10: 'chanu'",
     "output_type": "error",
     "traceback": [
      "\u001b[1;31m---------------------------------------------------------------------------\u001b[0m",
      "\u001b[1;31mValueError\u001b[0m                                Traceback (most recent call last)",
      "Cell \u001b[1;32mIn[17], line 1\u001b[0m\n\u001b[1;32m----> 1\u001b[0m \u001b[38;5;28mint\u001b[39m(\u001b[38;5;124m\"\u001b[39m\u001b[38;5;124mchanu\u001b[39m\u001b[38;5;124m\"\u001b[39m)\n",
      "\u001b[1;31mValueError\u001b[0m: invalid literal for int() with base 10: 'chanu'"
     ]
    }
   ],
   "source": [
    "int(\"chanu\")  # converting string to int if it has characters or names it is not possible"
   ]
  },
  {
   "cell_type": "markdown",
   "id": "70c54c45-6904-429c-af59-073023d3015a",
   "metadata": {},
   "source": [
    "# Float\n",
    "float-->int,boolean string numbers are possible\n",
    "\n",
    "float-->complex,strings are not possible"
   ]
  },
  {
   "cell_type": "code",
   "execution_count": 22,
   "id": "a2eb3434-c9b4-4c83-a857-d242ab2dbe2b",
   "metadata": {},
   "outputs": [
    {
     "data": {
      "text/plain": [
       "2.0"
      ]
     },
     "execution_count": 22,
     "metadata": {},
     "output_type": "execute_result"
    }
   ],
   "source": [
    "float(2) #converting int to float"
   ]
  },
  {
   "cell_type": "code",
   "execution_count": 24,
   "id": "16841ba9-76ea-452c-ae73-62c94390da9d",
   "metadata": {},
   "outputs": [
    {
     "data": {
      "text/plain": [
       "1.0"
      ]
     },
     "execution_count": 24,
     "metadata": {},
     "output_type": "execute_result"
    }
   ],
   "source": [
    "float(True)  # converting boolean to float"
   ]
  },
  {
   "cell_type": "code",
   "execution_count": 26,
   "id": "6cd9c433-33ac-45a8-8e67-c65fe80b82fe",
   "metadata": {},
   "outputs": [
    {
     "ename": "TypeError",
     "evalue": "float() argument must be a string or a real number, not 'complex'",
     "output_type": "error",
     "traceback": [
      "\u001b[1;31m---------------------------------------------------------------------------\u001b[0m",
      "\u001b[1;31mTypeError\u001b[0m                                 Traceback (most recent call last)",
      "Cell \u001b[1;32mIn[26], line 1\u001b[0m\n\u001b[1;32m----> 1\u001b[0m \u001b[38;5;28mfloat\u001b[39m(\u001b[38;5;241m1\u001b[39m\u001b[38;5;241m+\u001b[39m\u001b[38;5;241m2\u001b[39mj)\n",
      "\u001b[1;31mTypeError\u001b[0m: float() argument must be a string or a real number, not 'complex'"
     ]
    }
   ],
   "source": [
    "float(1+2j)  #converting complex to float not possibble"
   ]
  },
  {
   "cell_type": "code",
   "execution_count": 28,
   "id": "58d9a7c7-f66a-4e59-9a3c-adfd89b6ee4e",
   "metadata": {},
   "outputs": [
    {
     "data": {
      "text/plain": [
       "10.0"
      ]
     },
     "execution_count": 28,
     "metadata": {},
     "output_type": "execute_result"
    }
   ],
   "source": [
    "float(\"10\") #converting string numbers to float"
   ]
  },
  {
   "cell_type": "code",
   "execution_count": 30,
   "id": "5708216c-6f91-4f16-a3ec-f552857a6384",
   "metadata": {},
   "outputs": [
    {
     "ename": "ValueError",
     "evalue": "could not convert string to float: 'chanu'",
     "output_type": "error",
     "traceback": [
      "\u001b[1;31m---------------------------------------------------------------------------\u001b[0m",
      "\u001b[1;31mValueError\u001b[0m                                Traceback (most recent call last)",
      "Cell \u001b[1;32mIn[30], line 1\u001b[0m\n\u001b[1;32m----> 1\u001b[0m \u001b[38;5;28mfloat\u001b[39m(\u001b[38;5;124m\"\u001b[39m\u001b[38;5;124mchanu\u001b[39m\u001b[38;5;124m\"\u001b[39m)\n",
      "\u001b[1;31mValueError\u001b[0m: could not convert string to float: 'chanu'"
     ]
    }
   ],
   "source": [
    "float(\"chanu\") #converting string to float not possible"
   ]
  },
  {
   "cell_type": "markdown",
   "id": "a59dd5b8-948b-465f-9de7-e0106ee01032",
   "metadata": {},
   "source": [
    "# Boolean\n",
    "boolean-->int,float,complex,string(numbers,characters) all are possible"
   ]
  },
  {
   "cell_type": "code",
   "execution_count": 35,
   "id": "06a8a02f-e7d0-4397-abef-08933b6df823",
   "metadata": {},
   "outputs": [
    {
     "data": {
      "text/plain": [
       "True"
      ]
     },
     "execution_count": 35,
     "metadata": {},
     "output_type": "execute_result"
    }
   ],
   "source": [
    "bool(1) #converting int to bool"
   ]
  },
  {
   "cell_type": "code",
   "execution_count": 37,
   "id": "15234d67-52d7-4367-8127-f08088f783a1",
   "metadata": {},
   "outputs": [
    {
     "data": {
      "text/plain": [
       "True"
      ]
     },
     "execution_count": 37,
     "metadata": {},
     "output_type": "execute_result"
    }
   ],
   "source": [
    "bool(3.4) #converting float to bool"
   ]
  },
  {
   "cell_type": "code",
   "execution_count": 39,
   "id": "998e7db4-61b5-493d-b975-27d1458e1517",
   "metadata": {},
   "outputs": [
    {
     "data": {
      "text/plain": [
       "True"
      ]
     },
     "execution_count": 39,
     "metadata": {},
     "output_type": "execute_result"
    }
   ],
   "source": [
    "bool(1+2j) #converting complex to bool"
   ]
  },
  {
   "cell_type": "code",
   "execution_count": 41,
   "id": "262f9671-fec3-4c86-8a21-24ffe25862ed",
   "metadata": {},
   "outputs": [
    {
     "data": {
      "text/plain": [
       "True"
      ]
     },
     "execution_count": 41,
     "metadata": {},
     "output_type": "execute_result"
    }
   ],
   "source": [
    "bool(\"10\") # converting string numbers to bool"
   ]
  },
  {
   "cell_type": "code",
   "execution_count": 43,
   "id": "c365e13a-9c67-4086-9990-c96774973f78",
   "metadata": {},
   "outputs": [
    {
     "data": {
      "text/plain": [
       "True"
      ]
     },
     "execution_count": 43,
     "metadata": {},
     "output_type": "execute_result"
    }
   ],
   "source": [
    "bool(\"chanu\") # converting string to bool"
   ]
  },
  {
   "cell_type": "markdown",
   "id": "a42d5c63-345c-4634-90c8-2a7aa1aa9528",
   "metadata": {},
   "source": [
    "# Complex\n",
    "complex-->int,float,boolean string numbers are possible\n",
    "\n",
    "complex-->strings chracters are not possible"
   ]
  },
  {
   "cell_type": "code",
   "execution_count": 48,
   "id": "17575fe3-540f-43d2-b5aa-b6f3f4c97a89",
   "metadata": {},
   "outputs": [
    {
     "data": {
      "text/plain": [
       "(1+0j)"
      ]
     },
     "execution_count": 48,
     "metadata": {},
     "output_type": "execute_result"
    }
   ],
   "source": [
    "complex(1) #converting int to complex"
   ]
  },
  {
   "cell_type": "code",
   "execution_count": 50,
   "id": "68b3107b-8040-4a43-b221-9f279a91f420",
   "metadata": {},
   "outputs": [
    {
     "data": {
      "text/plain": [
       "(2.5+0j)"
      ]
     },
     "execution_count": 50,
     "metadata": {},
     "output_type": "execute_result"
    }
   ],
   "source": [
    "complex(2.5) # converting float to complex"
   ]
  },
  {
   "cell_type": "code",
   "execution_count": 52,
   "id": "a8daae99-be0d-4833-a23a-81b0b9b2d3a4",
   "metadata": {},
   "outputs": [
    {
     "data": {
      "text/plain": [
       "(1+0j)"
      ]
     },
     "execution_count": 52,
     "metadata": {},
     "output_type": "execute_result"
    }
   ],
   "source": [
    "complex(True) # converting boolean to complex"
   ]
  },
  {
   "cell_type": "code",
   "execution_count": 54,
   "id": "abad5585-6bcc-4c4c-a1b2-b77d1740e093",
   "metadata": {},
   "outputs": [
    {
     "data": {
      "text/plain": [
       "(10+0j)"
      ]
     },
     "execution_count": 54,
     "metadata": {},
     "output_type": "execute_result"
    }
   ],
   "source": [
    "complex(\"10\") # converting string number to complex"
   ]
  },
  {
   "cell_type": "code",
   "execution_count": 56,
   "id": "9811887c-6da7-4281-9412-d648241f2e9f",
   "metadata": {},
   "outputs": [
    {
     "ename": "ValueError",
     "evalue": "complex() arg is a malformed string",
     "output_type": "error",
     "traceback": [
      "\u001b[1;31m---------------------------------------------------------------------------\u001b[0m",
      "\u001b[1;31mValueError\u001b[0m                                Traceback (most recent call last)",
      "Cell \u001b[1;32mIn[56], line 1\u001b[0m\n\u001b[1;32m----> 1\u001b[0m \u001b[38;5;28mcomplex\u001b[39m(\u001b[38;5;124m\"\u001b[39m\u001b[38;5;124mchanu\u001b[39m\u001b[38;5;124m\"\u001b[39m)\n",
      "\u001b[1;31mValueError\u001b[0m: complex() arg is a malformed string"
     ]
    }
   ],
   "source": [
    "complex(\"chanu\") # converting string to complex not possible"
   ]
  },
  {
   "cell_type": "markdown",
   "id": "04ddad3c-bbbc-4bee-98d9-abdcb594ddbc",
   "metadata": {},
   "source": [
    "# string\n",
    "string-->int,float,complex,boolean all are possible"
   ]
  },
  {
   "cell_type": "code",
   "execution_count": 62,
   "id": "344f967c-2c9a-4b7b-aa71-019ac7966f6f",
   "metadata": {},
   "outputs": [
    {
     "data": {
      "text/plain": [
       "'1'"
      ]
     },
     "execution_count": 62,
     "metadata": {},
     "output_type": "execute_result"
    }
   ],
   "source": [
    "str(1) # converting int to string"
   ]
  },
  {
   "cell_type": "code",
   "execution_count": 68,
   "id": "b2a83869-514a-4eab-b4fb-4744ca10c38b",
   "metadata": {},
   "outputs": [
    {
     "data": {
      "text/plain": [
       "'1.4'"
      ]
     },
     "execution_count": 68,
     "metadata": {},
     "output_type": "execute_result"
    }
   ],
   "source": [
    "str(1.4) # converting float to string"
   ]
  },
  {
   "cell_type": "code",
   "execution_count": 70,
   "id": "1357d07d-27f4-49d8-8a43-575359f79a40",
   "metadata": {},
   "outputs": [
    {
     "data": {
      "text/plain": [
       "'True'"
      ]
     },
     "execution_count": 70,
     "metadata": {},
     "output_type": "execute_result"
    }
   ],
   "source": [
    "str(True) # converting boolean to string"
   ]
  },
  {
   "cell_type": "code",
   "execution_count": 72,
   "id": "c574f6eb-701b-4eb0-861f-7a4ee22eff5e",
   "metadata": {},
   "outputs": [
    {
     "data": {
      "text/plain": [
       "'(1+3j)'"
      ]
     },
     "execution_count": 72,
     "metadata": {},
     "output_type": "execute_result"
    }
   ],
   "source": [
    "str(1+3j) # converting complex to string"
   ]
  },
  {
   "cell_type": "code",
   "execution_count": null,
   "id": "2a9876ad-1d73-4f49-91e6-deeb6b9e5097",
   "metadata": {},
   "outputs": [],
   "source": []
  }
 ],
 "metadata": {
  "kernelspec": {
   "display_name": "Python 3 (ipykernel)",
   "language": "python",
   "name": "python3"
  },
  "language_info": {
   "codemirror_mode": {
    "name": "ipython",
    "version": 3
   },
   "file_extension": ".py",
   "mimetype": "text/x-python",
   "name": "python",
   "nbconvert_exporter": "python",
   "pygments_lexer": "ipython3",
   "version": "3.12.4"
  }
 },
 "nbformat": 4,
 "nbformat_minor": 5
}
