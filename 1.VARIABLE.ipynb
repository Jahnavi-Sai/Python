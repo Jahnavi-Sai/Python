{
 "cells": [
  {
   "cell_type": "markdown",
   "id": "ecdca038-940e-4fff-81c3-f4641580622f",
   "metadata": {},
   "source": [
    "# PYTHON\n",
    "\n",
    "Python is a fast and easiest programming language which we can run the code either in interpreter or compiler it \n",
    "can support both.\n",
    "\n",
    "Father of python is --gudio van rosam. It can be used in machine Learning and deep learning, Artifical intelligence, \n",
    "Datascience and many more python is everywhere nowadays it is the popular.\n",
    "\n",
    "Compare to java python is oldest coding language it was released in 1989. Java is invented at 1995.\n",
    "\n",
    "Python software - vscode, pycharm, jupyter Notebook, google colab, python(IDE).\n"
   ]
  },
  {
   "cell_type": "code",
   "execution_count": 10,
   "id": "e0e6dc19-2ab8-416d-bf6a-59b942a9bd7f",
   "metadata": {},
   "outputs": [
    {
     "data": {
      "text/plain": [
       "'3.12.4 | packaged by Anaconda, Inc. | (main, Jun 18 2024, 15:03:56) [MSC v.1929 64 bit (AMD64)]'"
      ]
     },
     "execution_count": 10,
     "metadata": {},
     "output_type": "execute_result"
    }
   ],
   "source": [
    "# to know about the version\n",
    "import sys\n",
    "sys.version"
   ]
  },
  {
   "cell_type": "code",
   "execution_count": 14,
   "id": "f48d8cf2-1d40-4171-9265-0f5056f8553b",
   "metadata": {},
   "outputs": [
    {
     "data": {
      "text/plain": [
       "['False',\n",
       " 'None',\n",
       " 'True',\n",
       " 'and',\n",
       " 'as',\n",
       " 'assert',\n",
       " 'async',\n",
       " 'await',\n",
       " 'break',\n",
       " 'class',\n",
       " 'continue',\n",
       " 'def',\n",
       " 'del',\n",
       " 'elif',\n",
       " 'else',\n",
       " 'except',\n",
       " 'finally',\n",
       " 'for',\n",
       " 'from',\n",
       " 'global',\n",
       " 'if',\n",
       " 'import',\n",
       " 'in',\n",
       " 'is',\n",
       " 'lambda',\n",
       " 'nonlocal',\n",
       " 'not',\n",
       " 'or',\n",
       " 'pass',\n",
       " 'raise',\n",
       " 'return',\n",
       " 'try',\n",
       " 'while',\n",
       " 'with',\n",
       " 'yield']"
      ]
     },
     "execution_count": 14,
     "metadata": {},
     "output_type": "execute_result"
    }
   ],
   "source": [
    "# to know the keywords\n",
    "import keyword\n",
    "keyword.kwlist"
   ]
  },
  {
   "cell_type": "markdown",
   "id": "19a0b3a6-6de0-4adc-831a-078e168b979e",
   "metadata": {},
   "source": [
    "BASIC CALCULATION"
   ]
  },
  {
   "cell_type": "code",
   "execution_count": 20,
   "id": "2548d46e-2629-4d4b-9ee4-3a9b1d65f12c",
   "metadata": {},
   "outputs": [
    {
     "data": {
      "text/plain": [
       "20"
      ]
     },
     "execution_count": 20,
     "metadata": {},
     "output_type": "execute_result"
    }
   ],
   "source": [
    "12+8 # addition"
   ]
  },
  {
   "cell_type": "code",
   "execution_count": 22,
   "id": "f9ff9e01-db24-4439-b120-25c8ff82b9f3",
   "metadata": {},
   "outputs": [
    {
     "data": {
      "text/plain": [
       "7"
      ]
     },
     "execution_count": 22,
     "metadata": {},
     "output_type": "execute_result"
    }
   ],
   "source": [
    "12-5 # subtraction"
   ]
  },
  {
   "cell_type": "code",
   "execution_count": 24,
   "id": "f55f1ccd-f0bb-4a32-a528-cbe06195b5ca",
   "metadata": {},
   "outputs": [
    {
     "data": {
      "text/plain": [
       "60"
      ]
     },
     "execution_count": 24,
     "metadata": {},
     "output_type": "execute_result"
    }
   ],
   "source": [
    "12*5 # multiplication"
   ]
  },
  {
   "cell_type": "code",
   "execution_count": 26,
   "id": "5eebd56c-a868-4678-9a96-bd8eca54adb0",
   "metadata": {},
   "outputs": [
    {
     "data": {
      "text/plain": [
       "3.0"
      ]
     },
     "execution_count": 26,
     "metadata": {},
     "output_type": "execute_result"
    }
   ],
   "source": [
    "12/4 # float division"
   ]
  },
  {
   "cell_type": "code",
   "execution_count": 28,
   "id": "48fb88d2-0e39-453b-a7c4-967ce24dc715",
   "metadata": {},
   "outputs": [
    {
     "data": {
      "text/plain": [
       "3"
      ]
     },
     "execution_count": 28,
     "metadata": {},
     "output_type": "execute_result"
    }
   ],
   "source": [
    "12//4 # int division"
   ]
  },
  {
   "cell_type": "code",
   "execution_count": 30,
   "id": "c36cbe1b-9268-44e8-a84a-285a3a683942",
   "metadata": {},
   "outputs": [
    {
     "data": {
      "text/plain": [
       "0"
      ]
     },
     "execution_count": 30,
     "metadata": {},
     "output_type": "execute_result"
    }
   ],
   "source": [
    "12%4 # modules division"
   ]
  },
  {
   "cell_type": "code",
   "execution_count": 42,
   "id": "872bab8e-1e94-4e05-aee8-1231f4ff52ac",
   "metadata": {},
   "outputs": [
    {
     "data": {
      "text/plain": [
       "44"
      ]
     },
     "execution_count": 42,
     "metadata": {},
     "output_type": "execute_result"
    }
   ],
   "source": [
    "(12+10)*2 # we use BODMAS rule for the calculation "
   ]
  },
  {
   "cell_type": "code",
   "execution_count": 44,
   "id": "80713fbe-8f33-4598-ac44-a8b1e09686eb",
   "metadata": {},
   "outputs": [
    {
     "data": {
      "text/plain": [
       "32"
      ]
     },
     "execution_count": 44,
     "metadata": {},
     "output_type": "execute_result"
    }
   ],
   "source": [
    "12+10*2 # Bodmas means barckets, order, division, multiplication, addition, subtraction"
   ]
  },
  {
   "cell_type": "code",
   "execution_count": 52,
   "id": "7dd40845-1043-4a65-8971-17a1bae86ea2",
   "metadata": {},
   "outputs": [
    {
     "data": {
      "text/plain": [
       "2.0"
      ]
     },
     "execution_count": 52,
     "metadata": {},
     "output_type": "execute_result"
    }
   ],
   "source": [
    "12+4-7/(4-3)*2"
   ]
  },
  {
   "cell_type": "markdown",
   "id": "269d6ea1-8f0c-481e-9390-6e358f2e099c",
   "metadata": {},
   "source": [
    "# VARIABLE"
   ]
  },
  {
   "cell_type": "markdown",
   "id": "a955ef4a-25c5-402b-82d7-4e5ede55a4c6",
   "metadata": {},
   "source": [
    "a varaiable is a name or value which is to store the value in memory\n",
    "\n",
    "syntax:  \n",
    "\n",
    "varaible_name = value;\n",
    "\n",
    "a=5;\n",
    "\n",
    "# Rules for variable:\n",
    "\n",
    "1. It only start with (a-z) or (A-Z) or with (_) underscore.\n",
    "\n",
    "2. It can't start with numbers (0-9).\n",
    "\n",
    "3. It is a case sensitive Either we start with only ( chikki or CHIKKI).\n",
    "\n",
    "4. we can't start with keywords.\n"
   ]
  },
  {
   "cell_type": "code",
   "execution_count": 4,
   "id": "dfd64e4d-d639-4b97-87e8-016ea7da611d",
   "metadata": {},
   "outputs": [
    {
     "name": "stdout",
     "output_type": "stream",
     "text": [
      "12\n"
     ]
    }
   ],
   "source": [
    "a=12       # int variable\n",
    "print(a)  "
   ]
  },
  {
   "cell_type": "code",
   "execution_count": 6,
   "id": "a97b240e-fc28-497c-b33b-8362dd1f5ffb",
   "metadata": {},
   "outputs": [
    {
     "name": "stdout",
     "output_type": "stream",
     "text": [
      "23.5\n"
     ]
    }
   ],
   "source": [
    "b=23.5   # float variable\n",
    "print(b)"
   ]
  },
  {
   "cell_type": "code",
   "execution_count": 55,
   "id": "6a9b3f2d-a304-4101-b559-0e9ec0389a7b",
   "metadata": {},
   "outputs": [
    {
     "name": "stdout",
     "output_type": "stream",
     "text": [
      "True\n"
     ]
    }
   ],
   "source": [
    "c=True    # bool variable \n",
    "print(c)"
   ]
  },
  {
   "cell_type": "code",
   "execution_count": 57,
   "id": "3e94a66f-9b13-4fe8-999f-ff08ebe873dd",
   "metadata": {},
   "outputs": [
    {
     "name": "stdout",
     "output_type": "stream",
     "text": [
      "chikki\n"
     ]
    }
   ],
   "source": [
    "d=\"chikki\"  # string varaiable\n",
    "print(d)"
   ]
  },
  {
   "cell_type": "markdown",
   "id": "7e99fdec-d88e-49d8-bc1e-4e091e9aca6d",
   "metadata": {},
   "source": [
    "Storing and Printing a variable"
   ]
  },
  {
   "cell_type": "code",
   "execution_count": 64,
   "id": "c28a5e33-d70d-4598-b355-326dc69b45dd",
   "metadata": {},
   "outputs": [
    {
     "name": "stdout",
     "output_type": "stream",
     "text": [
      "chikki\n",
      "34\n"
     ]
    }
   ],
   "source": [
    "a=\"chikki\"\n",
    "print(a)\n",
    "\n",
    "b=34\n",
    "print(b)"
   ]
  },
  {
   "cell_type": "markdown",
   "id": "f78ec562-8ecd-4395-a7bc-41f5802fc925",
   "metadata": {},
   "source": [
    "using variable in the Expression"
   ]
  },
  {
   "cell_type": "code",
   "execution_count": 73,
   "id": "15154fee-5089-4d6d-b065-54151f4f98bc",
   "metadata": {},
   "outputs": [
    {
     "name": "stdout",
     "output_type": "stream",
     "text": [
      "Ramu 12\n"
     ]
    }
   ],
   "source": [
    "a=\"Ramu\"\n",
    "b=\" 12\"\n",
    "c=a+b\n",
    "print(c)"
   ]
  },
  {
   "cell_type": "markdown",
   "id": "05743b7e-9891-4974-8a88-5718a219782f",
   "metadata": {},
   "source": [
    "changing the value of a variable"
   ]
  },
  {
   "cell_type": "code",
   "execution_count": 80,
   "id": "e77335b5-d898-460b-a3d5-0ef25cf14e12",
   "metadata": {},
   "outputs": [
    {
     "name": "stdout",
     "output_type": "stream",
     "text": [
      "22\n"
     ]
    }
   ],
   "source": [
    "marks=22\n",
    "print(marks)"
   ]
  },
  {
   "cell_type": "code",
   "execution_count": 82,
   "id": "9a76a3af-369f-46e2-b05b-6a076c378327",
   "metadata": {},
   "outputs": [
    {
     "name": "stdout",
     "output_type": "stream",
     "text": [
      "33\n"
     ]
    }
   ],
   "source": [
    "marks=33\n",
    "print(marks)"
   ]
  },
  {
   "cell_type": "code",
   "execution_count": 84,
   "id": "c990544b-f03c-49c3-9ca6-c38a1e4df63d",
   "metadata": {},
   "outputs": [
    {
     "data": {
      "text/plain": [
       "33"
      ]
     },
     "execution_count": 84,
     "metadata": {},
     "output_type": "execute_result"
    }
   ],
   "source": [
    "marks"
   ]
  },
  {
   "cell_type": "markdown",
   "id": "a59a0985-8741-44a4-bb0a-98dd52679e97",
   "metadata": {},
   "source": [
    "Concatenation of string using varaiables"
   ]
  },
  {
   "cell_type": "code",
   "execution_count": 87,
   "id": "4b39608b-0380-4dd3-8984-46adde5e2800",
   "metadata": {},
   "outputs": [],
   "source": [
    "a=\"chanu\"\n",
    "b=\"chinni\"\n",
    "c=a+b"
   ]
  },
  {
   "cell_type": "code",
   "execution_count": 89,
   "id": "7db30353-0990-4c8b-99d8-d1a6dce16dcc",
   "metadata": {},
   "outputs": [
    {
     "data": {
      "text/plain": [
       "'chanuchinni'"
      ]
     },
     "execution_count": 89,
     "metadata": {},
     "output_type": "execute_result"
    }
   ],
   "source": [
    "c"
   ]
  },
  {
   "cell_type": "markdown",
   "id": "b3df7b5e-2a5f-430f-856b-ec61cc108eaf",
   "metadata": {},
   "source": [
    "Resassigning of a varaiable"
   ]
  },
  {
   "cell_type": "code",
   "execution_count": 94,
   "id": "288dd320-d401-44f3-9897-ad66c7d41529",
   "metadata": {},
   "outputs": [
    {
     "name": "stdout",
     "output_type": "stream",
     "text": [
      "12\n"
     ]
    }
   ],
   "source": [
    "a=12\n",
    "print(a)"
   ]
  },
  {
   "cell_type": "code",
   "execution_count": 96,
   "id": "9d242a13-803d-4ba9-aa73-72f519c3bd05",
   "metadata": {},
   "outputs": [
    {
     "name": "stdout",
     "output_type": "stream",
     "text": [
      "12\n"
     ]
    }
   ],
   "source": [
    "b=12 \n",
    "print(b)"
   ]
  },
  {
   "cell_type": "markdown",
   "id": "08c08478-af81-45d0-aaf6-218ebe2d30fb",
   "metadata": {},
   "source": [
    "Using Variable in calculation "
   ]
  },
  {
   "cell_type": "code",
   "execution_count": 101,
   "id": "2d29d860-fc59-476f-ae51-171fa169efc2",
   "metadata": {},
   "outputs": [
    {
     "name": "stdout",
     "output_type": "stream",
     "text": [
      "3.0\n"
     ]
    }
   ],
   "source": [
    "base=2\n",
    "height=3\n",
    "area=0.5*base*height\n",
    "print(area)"
   ]
  },
  {
   "cell_type": "code",
   "execution_count": null,
   "id": "ae942e49-0e9d-4a80-be0f-b8ed1b6ad793",
   "metadata": {},
   "outputs": [],
   "source": []
  }
 ],
 "metadata": {
  "kernelspec": {
   "display_name": "Python 3 (ipykernel)",
   "language": "python",
   "name": "python3"
  },
  "language_info": {
   "codemirror_mode": {
    "name": "ipython",
    "version": 3
   },
   "file_extension": ".py",
   "mimetype": "text/x-python",
   "name": "python",
   "nbconvert_exporter": "python",
   "pygments_lexer": "ipython3",
   "version": "3.12.4"
  }
 },
 "nbformat": 4,
 "nbformat_minor": 5
}
