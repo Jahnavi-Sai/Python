{
 "cells": [
  {
   "cell_type": "markdown",
   "id": "79899ebd-7bf7-4197-8137-e7d6f9c009b4",
   "metadata": {},
   "source": [
    "# Basic code"
   ]
  },
  {
   "cell_type": "code",
   "execution_count": 4,
   "id": "e0b73b5e-7a1d-44fd-aa78-b1360e216e2d",
   "metadata": {},
   "outputs": [
    {
     "name": "stdout",
     "output_type": "stream",
     "text": [
      "8\n"
     ]
    }
   ],
   "source": [
    "print(6+2) # addition"
   ]
  },
  {
   "cell_type": "code",
   "execution_count": 6,
   "id": "8c07ccb5-66b3-4330-9d29-c4fe0167c6ae",
   "metadata": {},
   "outputs": [
    {
     "name": "stdout",
     "output_type": "stream",
     "text": [
      "4\n"
     ]
    }
   ],
   "source": [
    "print(6-2) # subtraction"
   ]
  },
  {
   "cell_type": "code",
   "execution_count": 8,
   "id": "3dfff316-ae88-4979-abd5-ace6d39ce77a",
   "metadata": {},
   "outputs": [
    {
     "name": "stdout",
     "output_type": "stream",
     "text": [
      "12\n"
     ]
    }
   ],
   "source": [
    "print(6*2) # multiplication"
   ]
  },
  {
   "cell_type": "code",
   "execution_count": 10,
   "id": "0cefc14c-1d30-431e-9d30-0280192731f7",
   "metadata": {},
   "outputs": [
    {
     "name": "stdout",
     "output_type": "stream",
     "text": [
      "3.0\n"
     ]
    }
   ],
   "source": [
    "print(6/2) # division"
   ]
  },
  {
   "cell_type": "code",
   "execution_count": 12,
   "id": "ec8d1a24-af7d-4ba3-a683-ca5bf7276ea0",
   "metadata": {},
   "outputs": [
    {
     "name": "stdout",
     "output_type": "stream",
     "text": [
      "0\n"
     ]
    }
   ],
   "source": [
    "print(6%2) # modules division"
   ]
  },
  {
   "cell_type": "code",
   "execution_count": 14,
   "id": "ae855532-03eb-4cdc-9963-0fdc14962bf8",
   "metadata": {},
   "outputs": [
    {
     "name": "stdout",
     "output_type": "stream",
     "text": [
      "3\n"
     ]
    }
   ],
   "source": [
    "print(6//2) # int division"
   ]
  },
  {
   "cell_type": "code",
   "execution_count": 16,
   "id": "a719e4f6-32a1-4b1b-a80c-892db554b861",
   "metadata": {},
   "outputs": [
    {
     "name": "stdout",
     "output_type": "stream",
     "text": [
      "<class 'int'>\n"
     ]
    }
   ],
   "source": [
    "print(type(23)) #integer"
   ]
  },
  {
   "cell_type": "code",
   "execution_count": 18,
   "id": "f09157db-6096-466d-b7ad-eeacf4eaf575",
   "metadata": {},
   "outputs": [
    {
     "name": "stdout",
     "output_type": "stream",
     "text": [
      "<class 'float'>\n"
     ]
    }
   ],
   "source": [
    "print(type(2.3)) # float "
   ]
  },
  {
   "cell_type": "code",
   "execution_count": 20,
   "id": "791d6234-b075-4f5f-b64c-66f6bb65ecc9",
   "metadata": {},
   "outputs": [
    {
     "name": "stdout",
     "output_type": "stream",
     "text": [
      "<class 'complex'>\n"
     ]
    }
   ],
   "source": [
    "print(type(12+8j)) #complex"
   ]
  },
  {
   "cell_type": "code",
   "execution_count": 22,
   "id": "4fbdd4f8-cf56-48db-bf1e-20d6745b71bc",
   "metadata": {},
   "outputs": [
    {
     "name": "stdout",
     "output_type": "stream",
     "text": [
      "<class 'str'>\n"
     ]
    }
   ],
   "source": [
    "print(type('Chanu')) #string"
   ]
  },
  {
   "cell_type": "code",
   "execution_count": 24,
   "id": "5e34c993-c2d1-423d-8e83-539e15e315d8",
   "metadata": {},
   "outputs": [
    {
     "name": "stdout",
     "output_type": "stream",
     "text": [
      "<class 'str'>\n"
     ]
    }
   ],
   "source": [
    "print(type('10')) # string number"
   ]
  },
  {
   "cell_type": "code",
   "execution_count": null,
   "id": "c782e708-97a9-45dd-b9fd-71b4650dbf84",
   "metadata": {},
   "outputs": [],
   "source": []
  }
 ],
 "metadata": {
  "kernelspec": {
   "display_name": "Python 3 (ipykernel)",
   "language": "python",
   "name": "python3"
  },
  "language_info": {
   "codemirror_mode": {
    "name": "ipython",
    "version": 3
   },
   "file_extension": ".py",
   "mimetype": "text/x-python",
   "name": "python",
   "nbconvert_exporter": "python",
   "pygments_lexer": "ipython3",
   "version": "3.12.4"
  }
 },
 "nbformat": 4,
 "nbformat_minor": 5
}
