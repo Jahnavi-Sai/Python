{
 "cells": [
  {
   "cell_type": "markdown",
   "id": "f2ea2251-e808-4caa-952e-69ac4ab92df8",
   "metadata": {},
   "source": [
    "# List"
   ]
  },
  {
   "cell_type": "markdown",
   "id": "224d965b-d07e-451d-bea3-7e08378734f2",
   "metadata": {},
   "source": [
    "List-[]\n",
    "\n",
    "List is a in-built function .List is mutable and it can be changeable and duplicates can be allowed in the list.\n",
    "\n",
    "we can pass different types of datatypes in the list.we can apply indexing and slicing in list.\n",
    "\n",
    "List functions are:\n",
    "\n",
    "Method()--Description\n",
    "\n",
    "append()--Adds an element at the end of the list\n",
    "\n",
    "clear()--Removes all the elements from the list\n",
    "\n",
    "copy()--Returns a copy of the list\n",
    "\n",
    "count()--Returns the number of elements with the specified value\n",
    "\n",
    "extend()--Add the elements of a list (or any iterable), to the end of the current list\n",
    "\n",
    "index()--Returns the index of the first element with the specified value\n",
    "\n",
    "insert()--Adds an element at the specified position\n",
    "\n",
    "pop()--Removes the element at the specified position\n",
    "\n",
    "remove()--Removes the first item with the specified value\n",
    "\n",
    "reverse()--Reverses the order of the list\n",
    "\n",
    "sort()--Sorts the list\n",
    "\n"
   ]
  },
  {
   "cell_type": "code",
   "execution_count": 3,
   "id": "f788b0c1-5297-4023-a30d-87b049fbb89b",
   "metadata": {},
   "outputs": [
    {
     "data": {
      "text/plain": [
       "[]"
      ]
     },
     "execution_count": 3,
     "metadata": {},
     "output_type": "execute_result"
    }
   ],
   "source": [
    "l=[] # empty list\n",
    "l"
   ]
  },
  {
   "cell_type": "code",
   "execution_count": 97,
   "id": "38f17ea1-9c52-41cd-9b84-14ca0be60b60",
   "metadata": {},
   "outputs": [
    {
     "data": {
      "text/plain": [
       "list"
      ]
     },
     "execution_count": 97,
     "metadata": {},
     "output_type": "execute_result"
    }
   ],
   "source": [
    "type(l)"
   ]
  },
  {
   "cell_type": "code",
   "execution_count": 4,
   "id": "20346b8b-4f77-419d-afcb-2573dcc17a6a",
   "metadata": {},
   "outputs": [
    {
     "data": {
      "text/plain": [
       "[12, 8, 27, 26, 3, 10]"
      ]
     },
     "execution_count": 4,
     "metadata": {},
     "output_type": "execute_result"
    }
   ],
   "source": [
    "# we will insert some values into the list \n",
    "l=[12,8,27,26,3,10]\n",
    "l"
   ]
  },
  {
   "cell_type": "code",
   "execution_count": 5,
   "id": "22949f5d-9929-4631-afac-f9d0327a20bf",
   "metadata": {},
   "outputs": [
    {
     "data": {
      "text/plain": [
       "[12, 8, 27, 26, 3, 10, 3]"
      ]
     },
     "execution_count": 5,
     "metadata": {},
     "output_type": "execute_result"
    }
   ],
   "source": [
    "# we can add the value at the end by append function\n",
    "l.append(3)\n",
    "l"
   ]
  },
  {
   "cell_type": "code",
   "execution_count": 6,
   "id": "9714f6db-cec8-4194-9093-af5fdffb7e61",
   "metadata": {},
   "outputs": [
    {
     "data": {
      "text/plain": [
       "[12, 8, 27, 44, 26, 3, 10, 3]"
      ]
     },
     "execution_count": 6,
     "metadata": {},
     "output_type": "execute_result"
    }
   ],
   "source": [
    "# if we want to add the value at the particular place we can use insert function\n",
    "l.insert(3,44) # at 3 index we add the 44 value\n",
    "l"
   ]
  },
  {
   "cell_type": "code",
   "execution_count": 7,
   "id": "e81358f5-07ca-418b-9876-fd83c3ca3067",
   "metadata": {},
   "outputs": [
    {
     "data": {
      "text/plain": [
       "[12, 8, 27, 44, 26, 3, 10, 3]"
      ]
     },
     "execution_count": 7,
     "metadata": {},
     "output_type": "execute_result"
    }
   ],
   "source": [
    "# if we want to duplicate the same list to other list we can use copy function\n",
    "l1=l.copy()\n",
    "l1"
   ]
  },
  {
   "cell_type": "code",
   "execution_count": 8,
   "id": "5ce830ff-5399-4b2e-9400-bf41316e22e5",
   "metadata": {},
   "outputs": [
    {
     "name": "stdout",
     "output_type": "stream",
     "text": [
      "True\n"
     ]
    }
   ],
   "source": [
    "# now we will check l=l1 \n",
    "print(l==l1)"
   ]
  },
  {
   "cell_type": "code",
   "execution_count": 9,
   "id": "4cce7d87-24b1-49a5-b020-fae44cbc5f1b",
   "metadata": {},
   "outputs": [
    {
     "data": {
      "text/plain": [
       "[2, 4.5, 22, True, '8+12j', 33, 'Chanu']"
      ]
     },
     "execution_count": 9,
     "metadata": {},
     "output_type": "execute_result"
    }
   ],
   "source": [
    "# now we will create a list with all types of datatypes\n",
    "l2=[2,4.5,22,True,'8+12j',33,'Chanu'] # int,float,boolean,complex,string\n",
    "l2"
   ]
  },
  {
   "cell_type": "code",
   "execution_count": 10,
   "id": "5b93c1ce-b8e6-402c-8ddc-efb73723870c",
   "metadata": {},
   "outputs": [
    {
     "data": {
      "text/plain": [
       "[2, 4.5, 22, True, '8+12j', 33, 'Chanu', [1, 3, 4]]"
      ]
     },
     "execution_count": 10,
     "metadata": {},
     "output_type": "execute_result"
    }
   ],
   "source": [
    "# now we will append the list in list i.e nested list\n",
    "l2.append([1,3,4])\n",
    "l2"
   ]
  },
  {
   "cell_type": "code",
   "execution_count": 11,
   "id": "95e1f38c-d879-4185-a620-76d0b9b2a0ed",
   "metadata": {},
   "outputs": [
    {
     "data": {
      "text/plain": [
       "[12, 8, 27, 44, 26, 3, 10, 3]"
      ]
     },
     "execution_count": 11,
     "metadata": {},
     "output_type": "execute_result"
    }
   ],
   "source": [
    "l"
   ]
  },
  {
   "cell_type": "code",
   "execution_count": 12,
   "id": "00596714-b77e-466b-8f46-1b182ccb3c21",
   "metadata": {},
   "outputs": [
    {
     "data": {
      "text/plain": [
       "[2, 4.5, 22, True, '8+12j', 33, 'Chanu', [1, 3, 4]]"
      ]
     },
     "execution_count": 12,
     "metadata": {},
     "output_type": "execute_result"
    }
   ],
   "source": [
    "l2"
   ]
  },
  {
   "cell_type": "code",
   "execution_count": 13,
   "id": "dae6de12-6066-47bc-bbcb-757421e95fc8",
   "metadata": {},
   "outputs": [
    {
     "data": {
      "text/plain": [
       "[12, 8, 27, 44, 26, 10, 3]"
      ]
     },
     "execution_count": 13,
     "metadata": {},
     "output_type": "execute_result"
    }
   ],
   "source": [
    "#we will remove element from the list\n",
    "l.remove(3) # it will remove first occurance of element\n",
    "l"
   ]
  },
  {
   "cell_type": "code",
   "execution_count": 14,
   "id": "df5bb95b-bbbf-4cb6-8035-96f6f7821197",
   "metadata": {},
   "outputs": [
    {
     "data": {
      "text/plain": [
       "[12, 8, 27, 44, 26, 10]"
      ]
     },
     "execution_count": 14,
     "metadata": {},
     "output_type": "execute_result"
    }
   ],
   "source": [
    "# we can remove element by using pop function .pop defaultly removes last element if we give index then it will removes automatically\n",
    "l.pop()\n",
    "l"
   ]
  },
  {
   "cell_type": "code",
   "execution_count": 15,
   "id": "9b51f9a5-5ef5-411e-8896-a95787be9408",
   "metadata": {},
   "outputs": [
    {
     "data": {
      "text/plain": [
       "[12, 8, 44, 26, 10]"
      ]
     },
     "execution_count": 15,
     "metadata": {},
     "output_type": "execute_result"
    }
   ],
   "source": [
    "l.pop(2) # by mentioning index we can remove randomly\n",
    "l"
   ]
  },
  {
   "cell_type": "code",
   "execution_count": 16,
   "id": "84efbb6a-bf34-4bae-bfe8-23ced416e965",
   "metadata": {},
   "outputs": [
    {
     "data": {
      "text/plain": [
       "[8, 10, 12, 26, 44]"
      ]
     },
     "execution_count": 16,
     "metadata": {},
     "output_type": "execute_result"
    }
   ],
   "source": [
    "# we will sort some values ascending to descending\n",
    "l.sort()\n",
    "l"
   ]
  },
  {
   "cell_type": "code",
   "execution_count": 17,
   "id": "8d87eb82-d009-489b-927e-acfa678f0726",
   "metadata": {},
   "outputs": [
    {
     "data": {
      "text/plain": [
       "[44, 26, 12, 10, 8]"
      ]
     },
     "execution_count": 17,
     "metadata": {},
     "output_type": "execute_result"
    }
   ],
   "source": [
    "# we want descending we will use command like reverese\n",
    "l.sort(reverse=True)\n",
    "l"
   ]
  },
  {
   "cell_type": "code",
   "execution_count": 18,
   "id": "ba37a435-fcc4-44da-9288-b744d017121d",
   "metadata": {},
   "outputs": [
    {
     "data": {
      "text/plain": [
       "[2, 4.5, 22, True, '8+12j', 33, 'Chanu', [1, 3, 4]]"
      ]
     },
     "execution_count": 18,
     "metadata": {},
     "output_type": "execute_result"
    }
   ],
   "source": [
    "l2"
   ]
  },
  {
   "cell_type": "code",
   "execution_count": 19,
   "id": "697672f8-609e-40ea-9523-2fa27334f823",
   "metadata": {},
   "outputs": [
    {
     "data": {
      "text/plain": [
       "[[1, 3, 4], 'Chanu', 33, '8+12j', True, 22, 4.5, 2]"
      ]
     },
     "execution_count": 19,
     "metadata": {},
     "output_type": "execute_result"
    }
   ],
   "source": [
    "# we can reverse the elements directly with reverse function\n",
    "l2.reverse()\n",
    "l2"
   ]
  },
  {
   "cell_type": "code",
   "execution_count": 41,
   "id": "d333e1c6-4e66-47c6-a4b4-7bbfcc5df8cd",
   "metadata": {},
   "outputs": [
    {
     "data": {
      "text/plain": [
       "[44, 26, 12, 10, 8]"
      ]
     },
     "execution_count": 41,
     "metadata": {},
     "output_type": "execute_result"
    }
   ],
   "source": [
    "l"
   ]
  },
  {
   "cell_type": "code",
   "execution_count": 43,
   "id": "5e314871-92e3-4e46-b354-c2349a6c5bd2",
   "metadata": {},
   "outputs": [],
   "source": [
    "l.append(10)  # we can only give 1 value in append function\n",
    "l.append(23)\n",
    "l.append(8)\n",
    "l.append(44)\n",
    "l.append(4)\n",
    "l.append(66)"
   ]
  },
  {
   "cell_type": "code",
   "execution_count": 45,
   "id": "979e9d51-2df7-4d13-b4e9-326516230796",
   "metadata": {},
   "outputs": [
    {
     "data": {
      "text/plain": [
       "[44, 26, 12, 10, 8, 10, 23, 8, 44, 4, 66]"
      ]
     },
     "execution_count": 45,
     "metadata": {},
     "output_type": "execute_result"
    }
   ],
   "source": [
    "l"
   ]
  },
  {
   "cell_type": "code",
   "execution_count": 47,
   "id": "92a0ba60-8b49-45c1-bdad-c524a955cbfb",
   "metadata": {},
   "outputs": [
    {
     "data": {
      "text/plain": [
       "2"
      ]
     },
     "execution_count": 47,
     "metadata": {},
     "output_type": "execute_result"
    }
   ],
   "source": [
    "# we will count the value how many times it occurs in list\n",
    "l.count(10)"
   ]
  },
  {
   "cell_type": "code",
   "execution_count": 49,
   "id": "afa22b8d-985b-4e46-9e0e-5847c2d649bf",
   "metadata": {},
   "outputs": [
    {
     "data": {
      "text/plain": [
       "1"
      ]
     },
     "execution_count": 49,
     "metadata": {},
     "output_type": "execute_result"
    }
   ],
   "source": [
    "l.count(4)"
   ]
  },
  {
   "cell_type": "code",
   "execution_count": 51,
   "id": "f55f6ca7-8a75-4864-af28-ac9caaf8d143",
   "metadata": {},
   "outputs": [
    {
     "data": {
      "text/plain": [
       "[44, 26, 12, 10, 8, 10, 23, 8, 44, 4, 66]"
      ]
     },
     "execution_count": 51,
     "metadata": {},
     "output_type": "execute_result"
    }
   ],
   "source": [
    "l"
   ]
  },
  {
   "cell_type": "code",
   "execution_count": 53,
   "id": "77251f4e-3337-474d-83a2-59c0fe9b2d40",
   "metadata": {},
   "outputs": [
    {
     "data": {
      "text/plain": [
       "3"
      ]
     },
     "execution_count": 53,
     "metadata": {},
     "output_type": "execute_result"
    }
   ],
   "source": [
    "# we will find the index of element with index function\n",
    "l.index(10)"
   ]
  },
  {
   "cell_type": "code",
   "execution_count": 55,
   "id": "afc71a19-991e-455f-9594-a6f64533f86c",
   "metadata": {},
   "outputs": [
    {
     "data": {
      "text/plain": [
       "9"
      ]
     },
     "execution_count": 55,
     "metadata": {},
     "output_type": "execute_result"
    }
   ],
   "source": [
    "l.index(4)"
   ]
  },
  {
   "cell_type": "code",
   "execution_count": 57,
   "id": "c32d93dd-56c2-4e39-a65c-93b45412a18d",
   "metadata": {},
   "outputs": [
    {
     "data": {
      "text/plain": [
       "[44,\n",
       " 26,\n",
       " 12,\n",
       " 10,\n",
       " 8,\n",
       " 10,\n",
       " 23,\n",
       " 8,\n",
       " 44,\n",
       " 4,\n",
       " 66,\n",
       " [1, 3, 4],\n",
       " 'Chanu',\n",
       " 33,\n",
       " '8+12j',\n",
       " True,\n",
       " 22,\n",
       " 4.5,\n",
       " 2]"
      ]
     },
     "execution_count": 57,
     "metadata": {},
     "output_type": "execute_result"
    }
   ],
   "source": [
    "# we can extend the list it will add two lists\n",
    "l.extend(l2)\n",
    "l"
   ]
  },
  {
   "cell_type": "code",
   "execution_count": 59,
   "id": "17a880f9-42a5-4df8-8fd9-e0f158633a24",
   "metadata": {},
   "outputs": [],
   "source": [
    "l=[44, 26, 12, 10, 8, 10, 23, 8, 44, 4, 66]"
   ]
  },
  {
   "cell_type": "code",
   "execution_count": 61,
   "id": "79bb0584-8251-4075-96e8-0da6f642be72",
   "metadata": {},
   "outputs": [
    {
     "data": {
      "text/plain": [
       "[44, 26, 12, 10, 8, 10, 23, 8, 44, 4, 66]"
      ]
     },
     "execution_count": 61,
     "metadata": {},
     "output_type": "execute_result"
    }
   ],
   "source": [
    "l"
   ]
  },
  {
   "cell_type": "code",
   "execution_count": 63,
   "id": "d78c06dc-84b5-4d5d-95b7-cfbb290ba752",
   "metadata": {},
   "outputs": [
    {
     "data": {
      "text/plain": [
       "8"
      ]
     },
     "execution_count": 63,
     "metadata": {},
     "output_type": "execute_result"
    }
   ],
   "source": [
    "# indexing : forward indexing and backward indexing\n",
    "l[4]"
   ]
  },
  {
   "cell_type": "code",
   "execution_count": 65,
   "id": "316f679a-6ce7-4ca0-bfe7-f57aed67dd6d",
   "metadata": {},
   "outputs": [
    {
     "data": {
      "text/plain": [
       "23"
      ]
     },
     "execution_count": 65,
     "metadata": {},
     "output_type": "execute_result"
    }
   ],
   "source": [
    "l[6]"
   ]
  },
  {
   "cell_type": "code",
   "execution_count": 67,
   "id": "42dafbcc-856a-444a-a9e0-4bba8fb8b59c",
   "metadata": {},
   "outputs": [
    {
     "data": {
      "text/plain": [
       "44"
      ]
     },
     "execution_count": 67,
     "metadata": {},
     "output_type": "execute_result"
    }
   ],
   "source": [
    "l[-3]"
   ]
  },
  {
   "cell_type": "code",
   "execution_count": 69,
   "id": "20b27032-f39d-46ad-ba2e-0512368c53a5",
   "metadata": {},
   "outputs": [
    {
     "data": {
      "text/plain": [
       "4"
      ]
     },
     "execution_count": 69,
     "metadata": {},
     "output_type": "execute_result"
    }
   ],
   "source": [
    "l[-2]"
   ]
  },
  {
   "cell_type": "code",
   "execution_count": 71,
   "id": "7556b59c-f009-497a-a3ec-b48ca4cf7988",
   "metadata": {},
   "outputs": [
    {
     "data": {
      "text/plain": [
       "8"
      ]
     },
     "execution_count": 71,
     "metadata": {},
     "output_type": "execute_result"
    }
   ],
   "source": [
    "l[-7]"
   ]
  },
  {
   "cell_type": "code",
   "execution_count": 73,
   "id": "0cd27a61-2184-4f35-b8ac-6edae9c92d0a",
   "metadata": {},
   "outputs": [
    {
     "data": {
      "text/plain": [
       "[44, 26, 12, 10, 8, 10, 23, 8, 44, 4, 66]"
      ]
     },
     "execution_count": 73,
     "metadata": {},
     "output_type": "execute_result"
    }
   ],
   "source": [
    "l"
   ]
  },
  {
   "cell_type": "code",
   "execution_count": 75,
   "id": "fea00614-1389-4ac4-9063-362304730e88",
   "metadata": {},
   "outputs": [
    {
     "data": {
      "text/plain": [
       "[10, 8]"
      ]
     },
     "execution_count": 75,
     "metadata": {},
     "output_type": "execute_result"
    }
   ],
   "source": [
    "# slicing :[start:stop] and [start:stop:step]\n",
    "# farward slicing and backward slicing\n",
    "l[3:5]"
   ]
  },
  {
   "cell_type": "code",
   "execution_count": 79,
   "id": "4f9d9004-9705-48e6-8f03-61deeb1e6de4",
   "metadata": {},
   "outputs": [
    {
     "data": {
      "text/plain": [
       "[10, 8, 10, 23, 8]"
      ]
     },
     "execution_count": 79,
     "metadata": {},
     "output_type": "execute_result"
    }
   ],
   "source": [
    "l[-8:-3]"
   ]
  },
  {
   "cell_type": "code",
   "execution_count": 81,
   "id": "e643885c-dad0-4078-ada4-68b9d6d04348",
   "metadata": {},
   "outputs": [
    {
     "data": {
      "text/plain": [
       "[26, 12, 10, 8, 10, 23, 8, 44]"
      ]
     },
     "execution_count": 81,
     "metadata": {},
     "output_type": "execute_result"
    }
   ],
   "source": [
    "l[1:9]"
   ]
  },
  {
   "cell_type": "code",
   "execution_count": 83,
   "id": "590d9cbf-33c4-4c98-bd21-48ce5666c1c5",
   "metadata": {},
   "outputs": [
    {
     "data": {
      "text/plain": [
       "[12, 10, 8, 10, 23, 8, 44]"
      ]
     },
     "execution_count": 83,
     "metadata": {},
     "output_type": "execute_result"
    }
   ],
   "source": [
    "l[-9:-2]"
   ]
  },
  {
   "cell_type": "code",
   "execution_count": 85,
   "id": "ff363672-a98b-4e29-b25c-86877cb234a0",
   "metadata": {},
   "outputs": [
    {
     "data": {
      "text/plain": [
       "[26, 10, 10, 8]"
      ]
     },
     "execution_count": 85,
     "metadata": {},
     "output_type": "execute_result"
    }
   ],
   "source": [
    "l[1:9:2]"
   ]
  },
  {
   "cell_type": "code",
   "execution_count": 91,
   "id": "7cdf5880-0030-4e78-be64-1465b993d953",
   "metadata": {},
   "outputs": [
    {
     "data": {
      "text/plain": [
       "[44, 26, 12, 10, 8, 10, 23, 8, 44, 4, 66]"
      ]
     },
     "execution_count": 91,
     "metadata": {},
     "output_type": "execute_result"
    }
   ],
   "source": [
    "l[:] # empty slicing it will display all values"
   ]
  },
  {
   "cell_type": "code",
   "execution_count": 93,
   "id": "22d9ce4e-2c2a-48ad-a47c-439b1b6431e5",
   "metadata": {},
   "outputs": [
    {
     "data": {
      "text/plain": [
       "[66, 4, 44, 8, 23, 10, 8, 10, 12, 26, 44]"
      ]
     },
     "execution_count": 93,
     "metadata": {},
     "output_type": "execute_result"
    }
   ],
   "source": [
    "l[: :-1]"
   ]
  },
  {
   "cell_type": "code",
   "execution_count": 95,
   "id": "501d9788-c16a-4421-8010-b1d99fe5242c",
   "metadata": {},
   "outputs": [
    {
     "data": {
      "text/plain": [
       "[12, 8, 23, 44]"
      ]
     },
     "execution_count": 95,
     "metadata": {},
     "output_type": "execute_result"
    }
   ],
   "source": [
    "l[-9:-2:2]"
   ]
  },
  {
   "cell_type": "code",
   "execution_count": 99,
   "id": "2e87f909-fa94-436a-97fd-f5c4a908d086",
   "metadata": {},
   "outputs": [],
   "source": [
    "# we can clear the values in the list by clear function\n",
    "l.clear()"
   ]
  },
  {
   "cell_type": "code",
   "execution_count": 101,
   "id": "b55fad35-4dfe-4ff4-9902-161d3a8b43da",
   "metadata": {},
   "outputs": [
    {
     "data": {
      "text/plain": [
       "[]"
      ]
     },
     "execution_count": 101,
     "metadata": {},
     "output_type": "execute_result"
    }
   ],
   "source": [
    "l # all elements are deleted"
   ]
  },
  {
   "cell_type": "code",
   "execution_count": 103,
   "id": "3d31f0b0-62b2-4027-8973-65bfe8c876c4",
   "metadata": {},
   "outputs": [],
   "source": [
    "# if we want to delete the list then we will use del \n",
    "del l"
   ]
  },
  {
   "cell_type": "code",
   "execution_count": 105,
   "id": "7055925e-99a6-46ca-b086-5b3d19b6ba49",
   "metadata": {},
   "outputs": [
    {
     "ename": "NameError",
     "evalue": "name 'l' is not defined",
     "output_type": "error",
     "traceback": [
      "\u001b[1;31m---------------------------------------------------------------------------\u001b[0m",
      "\u001b[1;31mNameError\u001b[0m                                 Traceback (most recent call last)",
      "Cell \u001b[1;32mIn[105], line 1\u001b[0m\n\u001b[1;32m----> 1\u001b[0m l\n",
      "\u001b[1;31mNameError\u001b[0m: name 'l' is not defined"
     ]
    }
   ],
   "source": [
    "l # the complete l list is deleted"
   ]
  },
  {
   "cell_type": "code",
   "execution_count": null,
   "id": "fb783881-71ae-4734-867c-2706b989c83a",
   "metadata": {},
   "outputs": [],
   "source": []
  }
 ],
 "metadata": {
  "kernelspec": {
   "display_name": "Python 3 (ipykernel)",
   "language": "python",
   "name": "python3"
  },
  "language_info": {
   "codemirror_mode": {
    "name": "ipython",
    "version": 3
   },
   "file_extension": ".py",
   "mimetype": "text/x-python",
   "name": "python",
   "nbconvert_exporter": "python",
   "pygments_lexer": "ipython3",
   "version": "3.12.4"
  }
 },
 "nbformat": 4,
 "nbformat_minor": 5
}
