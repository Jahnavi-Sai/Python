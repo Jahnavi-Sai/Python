{
 "cells": [
  {
   "cell_type": "markdown",
   "id": "e1f75547-0a8f-4996-9269-995c12dcddd3",
   "metadata": {},
   "source": [
    "# String"
   ]
  },
  {
   "cell_type": "markdown",
   "id": "f200e6c0-ff37-4294-b825-a0ec736270b0",
   "metadata": {},
   "source": [
    "String is collection of characters which is repersent in quotes ' ',\" \",''' '''. eg:'124646',\"chanu\",\"chikki123\""
   ]
  },
  {
   "cell_type": "markdown",
   "id": "896be7e8-0a9e-4949-af4f-4e48509c147a",
   "metadata": {},
   "source": [
    "single line comment"
   ]
  },
  {
   "cell_type": "code",
   "execution_count": 2,
   "id": "15aca61d-daca-4e23-ac70-c6ef8efe1ccf",
   "metadata": {},
   "outputs": [
    {
     "data": {
      "text/plain": [
       "'python programming'"
      ]
     },
     "execution_count": 2,
     "metadata": {},
     "output_type": "execute_result"
    }
   ],
   "source": [
    "x='python programming' \n",
    "x"
   ]
  },
  {
   "cell_type": "code",
   "execution_count": 4,
   "id": "fd8981f3-716b-412b-b3bc-c8b47d385577",
   "metadata": {},
   "outputs": [
    {
     "data": {
      "text/plain": [
       "str"
      ]
     },
     "execution_count": 4,
     "metadata": {},
     "output_type": "execute_result"
    }
   ],
   "source": [
    "type(x)"
   ]
  },
  {
   "cell_type": "code",
   "execution_count": 16,
   "id": "588264fa-0f25-440e-9614-b59acd77434d",
   "metadata": {},
   "outputs": [
    {
     "data": {
      "text/plain": [
       "'string operations'"
      ]
     },
     "execution_count": 16,
     "metadata": {},
     "output_type": "execute_result"
    }
   ],
   "source": [
    "x1=\"string operations\"\n",
    "x1"
   ]
  },
  {
   "cell_type": "markdown",
   "id": "0242258b-791b-4dde-abcd-0d75021ea673",
   "metadata": {},
   "source": [
    "multiline string"
   ]
  },
  {
   "cell_type": "code",
   "execution_count": 18,
   "id": "5507f2b0-369e-43c9-ac15-2e70007e6bc4",
   "metadata": {},
   "outputs": [
    {
     "data": {
      "text/plain": [
       "'python is object oriented programming language. \\n        python is famous for its libraries.\\n        python was released in 1991'"
      ]
     },
     "execution_count": 18,
     "metadata": {},
     "output_type": "execute_result"
    }
   ],
   "source": [
    "x2='''python is object oriented programming language. \n",
    "        python is famous for its libraries.\n",
    "        python was released in 1991''' \n",
    "x2"
   ]
  },
  {
   "cell_type": "code",
   "execution_count": 20,
   "id": "64f87b5e-85be-4a90-be68-be1cf86beb96",
   "metadata": {},
   "outputs": [
    {
     "data": {
      "text/plain": [
       "'python is object oriented programming language. python is famous for its libraries. python was released in 1991'"
      ]
     },
     "execution_count": 20,
     "metadata": {},
     "output_type": "execute_result"
    }
   ],
   "source": [
    "x3=\"\"\"python is object oriented programming language. python is famous for its libraries. python was released in 1991\"\"\"\n",
    "x3"
   ]
  },
  {
   "cell_type": "markdown",
   "id": "3a52c977-6ab8-4f3a-bd9a-d863e612123a",
   "metadata": {},
   "source": [
    "String concatenation : adding of two strings "
   ]
  },
  {
   "cell_type": "code",
   "execution_count": 62,
   "id": "5fd4d953-7e22-41e8-a80a-69b9219663bd",
   "metadata": {},
   "outputs": [
    {
     "data": {
      "text/plain": [
       "'apples oranges'"
      ]
     },
     "execution_count": 62,
     "metadata": {},
     "output_type": "execute_result"
    }
   ],
   "source": [
    "a=\"apples\"\n",
    "b='oranges'\n",
    "c=\" \"\n",
    "d=a+c+ b\n",
    "d"
   ]
  },
  {
   "cell_type": "code",
   "execution_count": 60,
   "id": "61d9a97e-2a00-4e7f-859a-09f262c463df",
   "metadata": {},
   "outputs": [
    {
     "data": {
      "text/plain": [
       "'chanu chinni'"
      ]
     },
     "execution_count": 60,
     "metadata": {},
     "output_type": "execute_result"
    }
   ],
   "source": [
    "first_name=\"chanu\"\n",
    "nick_name=\"chinni\"\n",
    "name=first_name+\" \"+ nick_name\n",
    "name"
   ]
  },
  {
   "cell_type": "code",
   "execution_count": 66,
   "id": "4776d0da-608c-4f56-87ec-50f9a3b47ad5",
   "metadata": {},
   "outputs": [
    {
     "name": "stdout",
     "output_type": "stream",
     "text": [
      "5\n",
      "6\n"
     ]
    }
   ],
   "source": [
    "print(len(first_name))\n",
    "print(len(nick_name))"
   ]
  },
  {
   "cell_type": "markdown",
   "id": "fe0378c5-cd4a-4699-aa3f-0a79de4c16b9",
   "metadata": {},
   "source": [
    "Unpacking characters : assigning one varaiable to other variable"
   ]
  },
  {
   "cell_type": "code",
   "execution_count": 107,
   "id": "b26aecf3-866b-4e2b-8cd9-a4beb99f4ea5",
   "metadata": {},
   "outputs": [
    {
     "name": "stdout",
     "output_type": "stream",
     "text": [
      "o\n"
     ]
    }
   ],
   "source": [
    "language=\"programming\"\n",
    "a,b,c,d,e,f,g,h,i,j,k=language\n",
    "print(c)"
   ]
  },
  {
   "cell_type": "code",
   "execution_count": 114,
   "id": "15ae9b64-b0b1-48d4-84fd-66ae9c8f49ab",
   "metadata": {},
   "outputs": [
    {
     "name": "stdout",
     "output_type": "stream",
     "text": [
      "p\n",
      "r\n",
      "o\n",
      "g\n",
      "r\n",
      "a\n",
      "m\n",
      "m\n",
      "i\n",
      "n\n",
      "g\n"
     ]
    }
   ],
   "source": [
    "print(a)\n",
    "print(b)\n",
    "print(c)\n",
    "print(d)\n",
    "print(e)\n",
    "print(f)\n",
    "print(g)\n",
    "print(h)\n",
    "print(i)\n",
    "print(j)\n",
    "print(k)"
   ]
  },
  {
   "cell_type": "markdown",
   "id": "a4c15802-1d2a-481e-9f02-f3af06b8be44",
   "metadata": {},
   "source": [
    "Indexing : finds the indexs of the element\n",
    "\n",
    "forward indexing : left-right (----->)\n",
    "\n",
    "backward indexing: right-left (<-----)"
   ]
  },
  {
   "cell_type": "code",
   "execution_count": 117,
   "id": "a8567b4f-c23b-4430-80fa-a91906ef3e07",
   "metadata": {},
   "outputs": [
    {
     "data": {
      "text/plain": [
       "'i'"
      ]
     },
     "execution_count": 117,
     "metadata": {},
     "output_type": "execute_result"
    }
   ],
   "source": [
    "a=\"chikillu\"\n",
    "a[2]"
   ]
  },
  {
   "cell_type": "code",
   "execution_count": 119,
   "id": "230ae6ec-4650-4d63-a66e-058e6179f8b9",
   "metadata": {},
   "outputs": [
    {
     "data": {
      "text/plain": [
       "'c'"
      ]
     },
     "execution_count": 119,
     "metadata": {},
     "output_type": "execute_result"
    }
   ],
   "source": [
    "a[0] #forward indexing"
   ]
  },
  {
   "cell_type": "code",
   "execution_count": 121,
   "id": "0c2d93ea-fd8d-48fe-9400-517b9c386bb9",
   "metadata": {},
   "outputs": [
    {
     "data": {
      "text/plain": [
       "'u'"
      ]
     },
     "execution_count": 121,
     "metadata": {},
     "output_type": "execute_result"
    }
   ],
   "source": [
    "a[7]"
   ]
  },
  {
   "cell_type": "code",
   "execution_count": 123,
   "id": "5a604af3-6954-4e56-878d-9eed163233ca",
   "metadata": {},
   "outputs": [
    {
     "data": {
      "text/plain": [
       "'l'"
      ]
     },
     "execution_count": 123,
     "metadata": {},
     "output_type": "execute_result"
    }
   ],
   "source": [
    "a[5]"
   ]
  },
  {
   "cell_type": "code",
   "execution_count": 126,
   "id": "904047f9-0032-433f-b906-345fadc63d76",
   "metadata": {},
   "outputs": [
    {
     "data": {
      "text/plain": [
       "'u'"
      ]
     },
     "execution_count": 126,
     "metadata": {},
     "output_type": "execute_result"
    }
   ],
   "source": [
    "a[-1] #backward indexing"
   ]
  },
  {
   "cell_type": "code",
   "execution_count": 128,
   "id": "2444186d-11a5-421c-afdc-8e1fb99c2411",
   "metadata": {},
   "outputs": [
    {
     "data": {
      "text/plain": [
       "'l'"
      ]
     },
     "execution_count": 128,
     "metadata": {},
     "output_type": "execute_result"
    }
   ],
   "source": [
    "a[-2]"
   ]
  },
  {
   "cell_type": "code",
   "execution_count": 130,
   "id": "c59e4d33-ae10-4a51-937d-5969e3191c51",
   "metadata": {},
   "outputs": [
    {
     "data": {
      "text/plain": [
       "'k'"
      ]
     },
     "execution_count": 130,
     "metadata": {},
     "output_type": "execute_result"
    }
   ],
   "source": [
    "a[-5]"
   ]
  },
  {
   "cell_type": "code",
   "execution_count": 132,
   "id": "85020136-3605-432a-873b-4c7de0223f0c",
   "metadata": {},
   "outputs": [
    {
     "data": {
      "text/plain": [
       "'h'"
      ]
     },
     "execution_count": 132,
     "metadata": {},
     "output_type": "execute_result"
    }
   ],
   "source": [
    "a[-7]"
   ]
  },
  {
   "cell_type": "markdown",
   "id": "477b674d-f95c-47eb-bb53-4929614cc31d",
   "metadata": {},
   "source": [
    "Slicing : extract specific position what we need"
   ]
  },
  {
   "cell_type": "code",
   "execution_count": 151,
   "id": "feea7f33-e7db-4b1f-acd9-46d223a0e606",
   "metadata": {},
   "outputs": [
    {
     "data": {
      "text/plain": [
       "'chanu is naughty boy'"
      ]
     },
     "execution_count": 151,
     "metadata": {},
     "output_type": "execute_result"
    }
   ],
   "source": [
    "a1=\"chanu is naughty boy\"\n",
    "a1"
   ]
  },
  {
   "cell_type": "code",
   "execution_count": 153,
   "id": "e2f0c863-0150-48d0-8d67-010fd067c522",
   "metadata": {},
   "outputs": [
    {
     "data": {
      "text/plain": [
       "'u is naught'"
      ]
     },
     "execution_count": 153,
     "metadata": {},
     "output_type": "execute_result"
    }
   ],
   "source": [
    "a1[4:15]  #forward slicing"
   ]
  },
  {
   "cell_type": "code",
   "execution_count": 155,
   "id": "3dc85f1c-80df-4a2e-b7bd-bc9a2463bdc0",
   "metadata": {},
   "outputs": [
    {
     "data": {
      "text/plain": [
       "'hanu i'"
      ]
     },
     "execution_count": 155,
     "metadata": {},
     "output_type": "execute_result"
    }
   ],
   "source": [
    "a1[1:7]"
   ]
  },
  {
   "cell_type": "code",
   "execution_count": 157,
   "id": "baabcaad-6443-4384-b510-1dd7c752ce37",
   "metadata": {},
   "outputs": [
    {
     "data": {
      "text/plain": [
       "'naughty boy'"
      ]
     },
     "execution_count": 157,
     "metadata": {},
     "output_type": "execute_result"
    }
   ],
   "source": [
    "a1[9:24]"
   ]
  },
  {
   "cell_type": "code",
   "execution_count": 159,
   "id": "56ce87e9-54e5-4457-afbc-68ae583dc092",
   "metadata": {},
   "outputs": [
    {
     "data": {
      "text/plain": [
       "' i'"
      ]
     },
     "execution_count": 159,
     "metadata": {},
     "output_type": "execute_result"
    }
   ],
   "source": [
    "a1[5:7]"
   ]
  },
  {
   "cell_type": "code",
   "execution_count": 167,
   "id": "ee2bf07a-67ad-4916-a19b-bf032436a1f1",
   "metadata": {},
   "outputs": [
    {
     "data": {
      "text/plain": [
       "'aughty bo'"
      ]
     },
     "execution_count": 167,
     "metadata": {},
     "output_type": "execute_result"
    }
   ],
   "source": [
    "a1[-10:-1] #backward slicing"
   ]
  },
  {
   "cell_type": "code",
   "execution_count": 171,
   "id": "1688afd7-20ac-4fe5-8a78-5cf101da2a6d",
   "metadata": {},
   "outputs": [
    {
     "data": {
      "text/plain": [
       "'anu is naught'"
      ]
     },
     "execution_count": 171,
     "metadata": {},
     "output_type": "execute_result"
    }
   ],
   "source": [
    "a1[-18:-5]"
   ]
  },
  {
   "cell_type": "code",
   "execution_count": 175,
   "id": "298e1aae-b569-42dd-ad86-af27efb4861e",
   "metadata": {},
   "outputs": [
    {
     "data": {
      "text/plain": [
       "'anu is'"
      ]
     },
     "execution_count": 175,
     "metadata": {},
     "output_type": "execute_result"
    }
   ],
   "source": [
    "a1[2:-12]"
   ]
  },
  {
   "cell_type": "code",
   "execution_count": 181,
   "id": "2ac6197c-a330-497c-b163-50018bd3588f",
   "metadata": {},
   "outputs": [
    {
     "data": {
      "text/plain": [
       "'u is naughty'"
      ]
     },
     "execution_count": 181,
     "metadata": {},
     "output_type": "execute_result"
    }
   ],
   "source": [
    "a1[-16:-4]"
   ]
  },
  {
   "cell_type": "markdown",
   "id": "767ce006-ba37-4498-9885-38b6ca01de4b",
   "metadata": {},
   "source": [
    "# String methods\n",
    " Method---------Description\n",
    "\n",
    "capitalize()  -Converts the first character to upper case\n",
    "\n",
    "casefold()\t    -Converts string into lower case\n",
    "\n",
    "center()\t    -Returns a centered string\n",
    "\n",
    "count()\t        -Returns the number of times a specified value occurs in a string\n",
    "\n",
    "encode()\t-Returns an encoded version of the string\n",
    "\n",
    "endswith()\t-Returns true if the string ends with the specified value\n",
    "\n",
    "expandtabs()\t-Sets the tab size of the string\n",
    "\n",
    "find()\t-Searches the string for a specified value and returns the position of where it was found\n",
    "\n",
    "format()\t-Formats specified values in a string\n",
    "\n",
    "format_map()\t-Formats specified values in a string\n",
    "\n",
    "index()\t-Searches the string for a specified value and returns the position of where it was found\n",
    "\n",
    "isalnum()\t-Returns True if all characters in the string are alphanumeric\n",
    "\n",
    "isalpha()\t-Returns True if all characters in the string are in the alphabet\n",
    "\n",
    "isascii()\t-Returns True if all characters in the string are ascii characters\n",
    "\n",
    "isdecimal()\t-Returns True if all characters in the string are decimals\n",
    "\n",
    "isdigit()\t-Returns True if all characters in the string are digits\n",
    "\n",
    "isidentifier()\t-Returns True if the string is an identifier\n",
    "\n",
    "islower()\t-Returns True if all characters in the string are lower case\n",
    "\n",
    "isnumeric()\t-Returns True if all characters in the string are numeric\n",
    "\n",
    "isprintable()\t-Returns True if all characters in the string are printable\n",
    "\n",
    "isspace()\t-Returns True if all characters in the string are whitespaces\n",
    "\n",
    "istitle()\t-Returns True if the string follows the rules of a title\n",
    "\n",
    "isupper()\t-Returns True if all characters in the string are upper case\n",
    "\n",
    "join()\t-Converts the elements of an iterable into a string\n",
    "\n",
    "ljust()\t-Returns a left justified version of the string\n",
    "\n",
    "lower()\t-Converts a string into lower case\n",
    "\n",
    "lstrip()\t-Returns a left trim version of the string\n",
    "\n",
    "maketrans()\t-Returns a translation table to be used in translations\n",
    "\n",
    "partition()\t-Returns a tuple where the string is parted into three parts\n",
    "\n",
    "replace()\t-Returns a string where a specified value is replaced with a specified value\n",
    "\n",
    "rfind()\t-Searches the string for a specified value and returns the last position of where it was found\n",
    "\n",
    "rindex()\t-Searches the string for a specified value and returns the last position of where it was found\n",
    "\n",
    "rjust()\t-Returns a right justified version of the string\n",
    "\n",
    "rpartition()\t-Returns a tuple where the string is parted into three parts\n",
    "\n",
    "rsplit()\t-Splits the string at the specified separator, and returns a list\n",
    "\n",
    "rstrip()\t-Returns a right trim version of the string\n",
    "\n",
    "split()\t-Splits the string at the specified separator, and returns a list\n",
    "\n",
    "splitlines()\t-Splits the string at line breaks and returns a list\n",
    "\n",
    "startswith()\t-Returns true if the string starts with the specified value\n",
    "\n",
    "strip()\t-Returns a trimmed version of the string\n",
    "\n",
    "swapcase()\t-Swaps cases, lower case becomes upper case and vice versa\n",
    "\n",
    "title()\t-Converts the first character of each word to upper case\n",
    "\n",
    "translate()\t-Returns a translated string\n",
    "\n",
    "upper()\t-Converts a string into upper case\n",
    "\n",
    "zfill()\t-Fills the string with a specified number of 0 values at the beginningspecified number of 0 values at the beginning\n",
    "specified number of 0 values at the beginning"
   ]
  },
  {
   "cell_type": "markdown",
   "id": "676d43b4-018a-48e3-b2cc-c7db45164c14",
   "metadata": {},
   "source": [
    "Captilize: Converts the first character to upper case."
   ]
  },
  {
   "cell_type": "code",
   "execution_count": 185,
   "id": "6cf71ba5-2f01-4f4b-bf32-2caf5e8c2fcf",
   "metadata": {},
   "outputs": [
    {
     "data": {
      "text/plain": [
       "'pythonlanguage'"
      ]
     },
     "execution_count": 185,
     "metadata": {},
     "output_type": "execute_result"
    }
   ],
   "source": [
    "a=\"pythonlanguage\"\n",
    "a"
   ]
  },
  {
   "cell_type": "code",
   "execution_count": 187,
   "id": "de3857c1-7021-4174-ae5b-82d1b14cabe6",
   "metadata": {},
   "outputs": [
    {
     "data": {
      "text/plain": [
       "'Pythonlanguage'"
      ]
     },
     "execution_count": 187,
     "metadata": {},
     "output_type": "execute_result"
    }
   ],
   "source": [
    "a.capitalize()"
   ]
  },
  {
   "cell_type": "markdown",
   "id": "414dcaea-9628-4468-a0e5-cbeb96591575",
   "metadata": {},
   "source": [
    "count: Returns the number of times a specified value occurs in a string"
   ]
  },
  {
   "cell_type": "code",
   "execution_count": 190,
   "id": "96b47efc-5fe4-48ed-a11e-7aa065bde171",
   "metadata": {},
   "outputs": [
    {
     "data": {
      "text/plain": [
       "'pythonlanguage'"
      ]
     },
     "execution_count": 190,
     "metadata": {},
     "output_type": "execute_result"
    }
   ],
   "source": [
    "a"
   ]
  },
  {
   "cell_type": "code",
   "execution_count": 206,
   "id": "ac3c9ec2-4ebb-4377-8211-aadfb24d3f9d",
   "metadata": {},
   "outputs": [
    {
     "data": {
      "text/plain": [
       "1"
      ]
     },
     "execution_count": 206,
     "metadata": {},
     "output_type": "execute_result"
    }
   ],
   "source": [
    "a.count('p')"
   ]
  },
  {
   "cell_type": "code",
   "execution_count": 210,
   "id": "e466a851-ede3-422a-bf82-2377b19a4dbf",
   "metadata": {},
   "outputs": [
    {
     "data": {
      "text/plain": [
       "2"
      ]
     },
     "execution_count": 210,
     "metadata": {},
     "output_type": "execute_result"
    }
   ],
   "source": [
    "a.count('n')"
   ]
  },
  {
   "cell_type": "code",
   "execution_count": 212,
   "id": "a8eb2b7b-0788-4521-a3b9-49cc092b9566",
   "metadata": {},
   "outputs": [
    {
     "data": {
      "text/plain": [
       "2"
      ]
     },
     "execution_count": 212,
     "metadata": {},
     "output_type": "execute_result"
    }
   ],
   "source": [
    "a.count(\"g\")"
   ]
  },
  {
   "cell_type": "markdown",
   "id": "97dbc90e-18be-4a83-89b3-58441f35c5b3",
   "metadata": {},
   "source": [
    "endswith: Returns true if the string ends with the specified value"
   ]
  },
  {
   "cell_type": "code",
   "execution_count": 215,
   "id": "c9c63114-f546-4cd6-971b-68ce0d878270",
   "metadata": {},
   "outputs": [
    {
     "data": {
      "text/plain": [
       "'pythonlanguage'"
      ]
     },
     "execution_count": 215,
     "metadata": {},
     "output_type": "execute_result"
    }
   ],
   "source": [
    "a"
   ]
  },
  {
   "cell_type": "code",
   "execution_count": 217,
   "id": "00901505-5686-468a-84d8-268ada41646f",
   "metadata": {},
   "outputs": [
    {
     "data": {
      "text/plain": [
       "True"
      ]
     },
     "execution_count": 217,
     "metadata": {},
     "output_type": "execute_result"
    }
   ],
   "source": [
    "a.endswith(\"e\")"
   ]
  },
  {
   "cell_type": "code",
   "execution_count": 219,
   "id": "df38e7bd-d57c-4ad7-ade1-1473c24ead98",
   "metadata": {},
   "outputs": [
    {
     "data": {
      "text/plain": [
       "False"
      ]
     },
     "execution_count": 219,
     "metadata": {},
     "output_type": "execute_result"
    }
   ],
   "source": [
    "a.endswith(\"g\")"
   ]
  },
  {
   "cell_type": "markdown",
   "id": "2891298f-9630-400e-b4e5-8d27e5534ce4",
   "metadata": {},
   "source": [
    "expandtabs: Sets the tab size of the string"
   ]
  },
  {
   "cell_type": "code",
   "execution_count": 242,
   "id": "79d58f34-3f8a-4b28-a519-3af8da43dafc",
   "metadata": {},
   "outputs": [
    {
     "data": {
      "text/plain": [
       "'python\\tprogramming\\tlanguage'"
      ]
     },
     "execution_count": 242,
     "metadata": {},
     "output_type": "execute_result"
    }
   ],
   "source": [
    "a1=\"python\\tprogramming\\tlanguage\"\n",
    "a1"
   ]
  },
  {
   "cell_type": "code",
   "execution_count": 250,
   "id": "c6dfafdc-f37f-4c62-b4a3-56007ab08256",
   "metadata": {},
   "outputs": [
    {
     "data": {
      "text/plain": [
       "'python  programming language'"
      ]
     },
     "execution_count": 250,
     "metadata": {},
     "output_type": "execute_result"
    }
   ],
   "source": [
    "a1.expandtabs(4)"
   ]
  },
  {
   "cell_type": "code",
   "execution_count": 252,
   "id": "c360e4a7-fe4c-4dc0-a443-d18c6e235a1f",
   "metadata": {},
   "outputs": [
    {
     "data": {
      "text/plain": [
       "'python   programming       language'"
      ]
     },
     "execution_count": 252,
     "metadata": {},
     "output_type": "execute_result"
    }
   ],
   "source": [
    "a1.expandtabs(tabsize=9)"
   ]
  },
  {
   "cell_type": "markdown",
   "id": "f5ace458-9b46-4d33-afe6-1b571b247fab",
   "metadata": {},
   "source": [
    "find: Searches the string for a specified value and returns the position of where it was found"
   ]
  },
  {
   "cell_type": "code",
   "execution_count": 255,
   "id": "99129b00-5022-44a1-be25-f07cf1d3dea0",
   "metadata": {},
   "outputs": [
    {
     "data": {
      "text/plain": [
       "'pythonlanguage'"
      ]
     },
     "execution_count": 255,
     "metadata": {},
     "output_type": "execute_result"
    }
   ],
   "source": [
    "a"
   ]
  },
  {
   "cell_type": "code",
   "execution_count": 257,
   "id": "e7fb5aa3-9527-4698-bc2f-a41b21d62125",
   "metadata": {},
   "outputs": [
    {
     "data": {
      "text/plain": [
       "5"
      ]
     },
     "execution_count": 257,
     "metadata": {},
     "output_type": "execute_result"
    }
   ],
   "source": [
    "a.find('n')"
   ]
  },
  {
   "cell_type": "code",
   "execution_count": 259,
   "id": "e7eaf66d-2c43-4249-b63e-faa9f8c22a59",
   "metadata": {},
   "outputs": [
    {
     "data": {
      "text/plain": [
       "10"
      ]
     },
     "execution_count": 259,
     "metadata": {},
     "output_type": "execute_result"
    }
   ],
   "source": [
    "a.find('u')"
   ]
  },
  {
   "cell_type": "code",
   "execution_count": 261,
   "id": "2be4c1fe-81af-459f-bb92-24482bc2de8e",
   "metadata": {},
   "outputs": [
    {
     "data": {
      "text/plain": [
       "6"
      ]
     },
     "execution_count": 261,
     "metadata": {},
     "output_type": "execute_result"
    }
   ],
   "source": [
    "a.find('l')"
   ]
  },
  {
   "cell_type": "markdown",
   "id": "eea82502-7083-4cf4-b13c-224fe13297eb",
   "metadata": {},
   "source": [
    "format: Formats specified values in a string"
   ]
  },
  {
   "cell_type": "code",
   "execution_count": 264,
   "id": "15d59beb-fb82-4cd8-acac-f8e0306ba4c5",
   "metadata": {},
   "outputs": [
    {
     "data": {
      "text/plain": [
       "'pythonlanguage'"
      ]
     },
     "execution_count": 264,
     "metadata": {},
     "output_type": "execute_result"
    }
   ],
   "source": [
    "a"
   ]
  },
  {
   "cell_type": "code",
   "execution_count": 266,
   "id": "8ce64cab-fe0d-428e-a56c-dc906adfc892",
   "metadata": {},
   "outputs": [
    {
     "name": "stdout",
     "output_type": "stream",
     "text": [
      "i like to do pythonlanguage\n"
     ]
    }
   ],
   "source": [
    "print(\"i like to do {}\".format(a))"
   ]
  },
  {
   "cell_type": "markdown",
   "id": "3749b3f3-1829-4397-a8f8-75aeea6d29e9",
   "metadata": {},
   "source": [
    "isalnum: Returns True if all characters in the string are alphanumeric"
   ]
  },
  {
   "cell_type": "code",
   "execution_count": 269,
   "id": "a756b097-8658-4b4e-b359-1721423336e2",
   "metadata": {},
   "outputs": [
    {
     "data": {
      "text/plain": [
       "'pythonlanguage'"
      ]
     },
     "execution_count": 269,
     "metadata": {},
     "output_type": "execute_result"
    }
   ],
   "source": [
    "a"
   ]
  },
  {
   "cell_type": "code",
   "execution_count": 271,
   "id": "60cd3010-b66f-4656-84a9-bfc04e464ca7",
   "metadata": {},
   "outputs": [
    {
     "data": {
      "text/plain": [
       "True"
      ]
     },
     "execution_count": 271,
     "metadata": {},
     "output_type": "execute_result"
    }
   ],
   "source": [
    "a.isalnum()"
   ]
  },
  {
   "cell_type": "markdown",
   "id": "5a3069a5-ed9c-48a1-98bb-a1eb44320b52",
   "metadata": {},
   "source": [
    "isalpha: Returns True if all characters in the string are in the alphabet"
   ]
  },
  {
   "cell_type": "code",
   "execution_count": 292,
   "id": "53810391-1f2f-4e97-a65e-5035f866882f",
   "metadata": {},
   "outputs": [
    {
     "data": {
      "text/plain": [
       "'python123'"
      ]
     },
     "execution_count": 292,
     "metadata": {},
     "output_type": "execute_result"
    }
   ],
   "source": [
    "a2=\"python123\"\n",
    "a2"
   ]
  },
  {
   "cell_type": "code",
   "execution_count": 294,
   "id": "10253df7-5a2c-4f44-b10e-8e74bcbc6ea8",
   "metadata": {},
   "outputs": [
    {
     "data": {
      "text/plain": [
       "False"
      ]
     },
     "execution_count": 294,
     "metadata": {},
     "output_type": "execute_result"
    }
   ],
   "source": [
    "a2.isalpha()"
   ]
  },
  {
   "cell_type": "code",
   "execution_count": 296,
   "id": "5cb9076e-3082-428a-a78f-b86d304dfd23",
   "metadata": {},
   "outputs": [
    {
     "data": {
      "text/plain": [
       "'pythonlanguage'"
      ]
     },
     "execution_count": 296,
     "metadata": {},
     "output_type": "execute_result"
    }
   ],
   "source": [
    "a"
   ]
  },
  {
   "cell_type": "code",
   "execution_count": 298,
   "id": "34b62016-3d8c-4981-ad97-cade16fed0f6",
   "metadata": {},
   "outputs": [
    {
     "data": {
      "text/plain": [
       "True"
      ]
     },
     "execution_count": 298,
     "metadata": {},
     "output_type": "execute_result"
    }
   ],
   "source": [
    "a.isalpha()"
   ]
  },
  {
   "cell_type": "markdown",
   "id": "3d93f52f-1b83-4491-b93a-124393398689",
   "metadata": {},
   "source": [
    "isdecimal: Returns True if all characters in the string are decimals"
   ]
  },
  {
   "cell_type": "code",
   "execution_count": 301,
   "id": "2c2639b8-a262-4871-af14-81841fbcf847",
   "metadata": {},
   "outputs": [
    {
     "data": {
      "text/plain": [
       "'pythonlanguage'"
      ]
     },
     "execution_count": 301,
     "metadata": {},
     "output_type": "execute_result"
    }
   ],
   "source": [
    "a"
   ]
  },
  {
   "cell_type": "code",
   "execution_count": 303,
   "id": "c2ae8faf-9b35-45fa-b485-47fe22f6d9fd",
   "metadata": {},
   "outputs": [
    {
     "data": {
      "text/plain": [
       "False"
      ]
     },
     "execution_count": 303,
     "metadata": {},
     "output_type": "execute_result"
    }
   ],
   "source": [
    "a.isdecimal()"
   ]
  },
  {
   "cell_type": "code",
   "execution_count": 305,
   "id": "cf45b23e-81fa-476b-b836-b568778eed72",
   "metadata": {},
   "outputs": [
    {
     "data": {
      "text/plain": [
       "'101001'"
      ]
     },
     "execution_count": 305,
     "metadata": {},
     "output_type": "execute_result"
    }
   ],
   "source": [
    "a3=\"101001\"\n",
    "a3"
   ]
  },
  {
   "cell_type": "code",
   "execution_count": 307,
   "id": "0d143fce-dcac-4784-bbc9-c3e221789e85",
   "metadata": {},
   "outputs": [
    {
     "data": {
      "text/plain": [
       "True"
      ]
     },
     "execution_count": 307,
     "metadata": {},
     "output_type": "execute_result"
    }
   ],
   "source": [
    "a3.isdecimal()"
   ]
  },
  {
   "cell_type": "markdown",
   "id": "857a1e84-7935-4363-a258-73064fe5c3e2",
   "metadata": {},
   "source": [
    "isdigit: Returns True if all characters in the string are digits"
   ]
  },
  {
   "cell_type": "code",
   "execution_count": 310,
   "id": "fb263986-8dd5-4c7e-b690-68392d2fc437",
   "metadata": {},
   "outputs": [
    {
     "data": {
      "text/plain": [
       "'pythonlanguage'"
      ]
     },
     "execution_count": 310,
     "metadata": {},
     "output_type": "execute_result"
    }
   ],
   "source": [
    "a"
   ]
  },
  {
   "cell_type": "code",
   "execution_count": 312,
   "id": "48a232f1-14c6-48ca-a22b-e78f8f2905b8",
   "metadata": {},
   "outputs": [
    {
     "data": {
      "text/plain": [
       "False"
      ]
     },
     "execution_count": 312,
     "metadata": {},
     "output_type": "execute_result"
    }
   ],
   "source": [
    "a.isdigit()"
   ]
  },
  {
   "cell_type": "code",
   "execution_count": 314,
   "id": "18c78e55-2dc1-473a-8d10-8ee259dc90b6",
   "metadata": {},
   "outputs": [
    {
     "data": {
      "text/plain": [
       "'101001'"
      ]
     },
     "execution_count": 314,
     "metadata": {},
     "output_type": "execute_result"
    }
   ],
   "source": [
    "a3"
   ]
  },
  {
   "cell_type": "code",
   "execution_count": 316,
   "id": "4747da17-bfc0-4a58-a065-b1d81fcf63c9",
   "metadata": {},
   "outputs": [
    {
     "data": {
      "text/plain": [
       "True"
      ]
     },
     "execution_count": 316,
     "metadata": {},
     "output_type": "execute_result"
    }
   ],
   "source": [
    "a3.isdigit()  #digits i.e numbers"
   ]
  },
  {
   "cell_type": "markdown",
   "id": "86dd6c15-328b-4c54-ab85-c62ee494ee23",
   "metadata": {},
   "source": [
    "isidentifier: Returns True if the string is an identifier"
   ]
  },
  {
   "cell_type": "code",
   "execution_count": 318,
   "id": "6551b9e6-e862-4c19-b693-f8a1576beb07",
   "metadata": {},
   "outputs": [
    {
     "data": {
      "text/plain": [
       "'pythonlanguage'"
      ]
     },
     "execution_count": 318,
     "metadata": {},
     "output_type": "execute_result"
    }
   ],
   "source": [
    "a"
   ]
  },
  {
   "cell_type": "code",
   "execution_count": 320,
   "id": "f8876376-bb66-400c-a7c8-32d260ae8a5e",
   "metadata": {},
   "outputs": [
    {
     "data": {
      "text/plain": [
       "True"
      ]
     },
     "execution_count": 320,
     "metadata": {},
     "output_type": "execute_result"
    }
   ],
   "source": [
    "a.isidentifier()  #object or name"
   ]
  },
  {
   "cell_type": "code",
   "execution_count": 322,
   "id": "b5e12d0c-6843-430e-9f1d-ab1e31915e4d",
   "metadata": {},
   "outputs": [
    {
     "data": {
      "text/plain": [
       "'101001'"
      ]
     },
     "execution_count": 322,
     "metadata": {},
     "output_type": "execute_result"
    }
   ],
   "source": [
    "a3"
   ]
  },
  {
   "cell_type": "code",
   "execution_count": 324,
   "id": "24b52a8c-8521-4bbe-a543-ec3191a21651",
   "metadata": {},
   "outputs": [
    {
     "data": {
      "text/plain": [
       "False"
      ]
     },
     "execution_count": 324,
     "metadata": {},
     "output_type": "execute_result"
    }
   ],
   "source": [
    "a3.isidentifier()"
   ]
  },
  {
   "cell_type": "markdown",
   "id": "01cb6cb2-873a-4de9-b49a-dfe47cfaaf86",
   "metadata": {},
   "source": [
    "islower: Returns True if all characters in the string are lower case"
   ]
  },
  {
   "cell_type": "code",
   "execution_count": 328,
   "id": "f690e16f-039c-4d48-a432-77f946b3e530",
   "metadata": {},
   "outputs": [
    {
     "data": {
      "text/plain": [
       "'pythonlanguage'"
      ]
     },
     "execution_count": 328,
     "metadata": {},
     "output_type": "execute_result"
    }
   ],
   "source": [
    "a"
   ]
  },
  {
   "cell_type": "code",
   "execution_count": 330,
   "id": "2f9dc291-4659-46b6-93d3-8ba34d3dc428",
   "metadata": {},
   "outputs": [
    {
     "data": {
      "text/plain": [
       "True"
      ]
     },
     "execution_count": 330,
     "metadata": {},
     "output_type": "execute_result"
    }
   ],
   "source": [
    "a.islower()"
   ]
  },
  {
   "cell_type": "code",
   "execution_count": 338,
   "id": "3dcbfa77-f023-402a-924b-fe6b8dbe6349",
   "metadata": {},
   "outputs": [
    {
     "data": {
      "text/plain": [
       "'PyThoN'"
      ]
     },
     "execution_count": 338,
     "metadata": {},
     "output_type": "execute_result"
    }
   ],
   "source": [
    "a4=\"PyThoN\"\n",
    "a4"
   ]
  },
  {
   "cell_type": "code",
   "execution_count": 340,
   "id": "35ba0fa9-3e8e-4748-9f87-fe09c1c96202",
   "metadata": {},
   "outputs": [
    {
     "data": {
      "text/plain": [
       "False"
      ]
     },
     "execution_count": 340,
     "metadata": {},
     "output_type": "execute_result"
    }
   ],
   "source": [
    "a4.islower()"
   ]
  },
  {
   "cell_type": "markdown",
   "id": "2f3a18be-0b4c-4b8d-9c95-fa0344072ddb",
   "metadata": {},
   "source": [
    "isupper: Returns True if all characters in the string are upper case"
   ]
  },
  {
   "cell_type": "code",
   "execution_count": 343,
   "id": "477ff751-c14a-4dbd-9b2e-4f9ba8e95a51",
   "metadata": {},
   "outputs": [
    {
     "data": {
      "text/plain": [
       "'pythonlanguage'"
      ]
     },
     "execution_count": 343,
     "metadata": {},
     "output_type": "execute_result"
    }
   ],
   "source": [
    "a"
   ]
  },
  {
   "cell_type": "code",
   "execution_count": 345,
   "id": "3253e79e-19b1-47b9-ad95-a2e54740441c",
   "metadata": {},
   "outputs": [
    {
     "data": {
      "text/plain": [
       "False"
      ]
     },
     "execution_count": 345,
     "metadata": {},
     "output_type": "execute_result"
    }
   ],
   "source": [
    "a.isupper()"
   ]
  },
  {
   "cell_type": "code",
   "execution_count": 347,
   "id": "c9ebf6db-5f6e-4c9a-86b7-9b0982c9b2ef",
   "metadata": {},
   "outputs": [
    {
     "data": {
      "text/plain": [
       "'PYTHON'"
      ]
     },
     "execution_count": 347,
     "metadata": {},
     "output_type": "execute_result"
    }
   ],
   "source": [
    "a5=\"PYTHON\"\n",
    "a5"
   ]
  },
  {
   "cell_type": "code",
   "execution_count": 349,
   "id": "597b9e82-6868-4c2d-93e4-c1daf1133e8d",
   "metadata": {},
   "outputs": [
    {
     "data": {
      "text/plain": [
       "True"
      ]
     },
     "execution_count": 349,
     "metadata": {},
     "output_type": "execute_result"
    }
   ],
   "source": [
    "a5.isupper()"
   ]
  },
  {
   "cell_type": "markdown",
   "id": "cb2cddba-bf48-4ca5-a0b6-5ef6441b86d1",
   "metadata": {},
   "source": [
    "isnumeric: Returns True if all characters in the string are numeric"
   ]
  },
  {
   "cell_type": "code",
   "execution_count": 352,
   "id": "a982e006-0352-4b07-a49f-eff762b4e65a",
   "metadata": {},
   "outputs": [
    {
     "data": {
      "text/plain": [
       "'101001'"
      ]
     },
     "execution_count": 352,
     "metadata": {},
     "output_type": "execute_result"
    }
   ],
   "source": [
    "a3"
   ]
  },
  {
   "cell_type": "code",
   "execution_count": 354,
   "id": "5580d788-4329-43e7-91af-f0c644d9d2f2",
   "metadata": {},
   "outputs": [
    {
     "data": {
      "text/plain": [
       "True"
      ]
     },
     "execution_count": 354,
     "metadata": {},
     "output_type": "execute_result"
    }
   ],
   "source": [
    "a3.isnumeric()"
   ]
  },
  {
   "cell_type": "code",
   "execution_count": 356,
   "id": "93a4bc7b-827f-4b96-8e11-bedc7c1bfd0d",
   "metadata": {},
   "outputs": [
    {
     "data": {
      "text/plain": [
       "'pythonlanguage'"
      ]
     },
     "execution_count": 356,
     "metadata": {},
     "output_type": "execute_result"
    }
   ],
   "source": [
    "a"
   ]
  },
  {
   "cell_type": "code",
   "execution_count": 358,
   "id": "c75d0eda-e95b-40f0-ac22-08f0c0d7137b",
   "metadata": {},
   "outputs": [
    {
     "data": {
      "text/plain": [
       "False"
      ]
     },
     "execution_count": 358,
     "metadata": {},
     "output_type": "execute_result"
    }
   ],
   "source": [
    "a.isnumeric()"
   ]
  },
  {
   "cell_type": "markdown",
   "id": "85aca10b-8abd-4a27-8f09-55f5837702d5",
   "metadata": {},
   "source": [
    "join: Converts the elements of an iterable into a string"
   ]
  },
  {
   "cell_type": "code",
   "execution_count": 361,
   "id": "e29611fb-ffbe-4a61-8401-deaaafdecd03",
   "metadata": {},
   "outputs": [
    {
     "data": {
      "text/plain": [
       "'pythonlanguage'"
      ]
     },
     "execution_count": 361,
     "metadata": {},
     "output_type": "execute_result"
    }
   ],
   "source": [
    "a"
   ]
  },
  {
   "cell_type": "code",
   "execution_count": 363,
   "id": "4cd93fe3-490f-4d33-8fb4-1ee7396e178f",
   "metadata": {},
   "outputs": [
    {
     "data": {
      "text/plain": [
       "'101001'"
      ]
     },
     "execution_count": 363,
     "metadata": {},
     "output_type": "execute_result"
    }
   ],
   "source": [
    "a3"
   ]
  },
  {
   "cell_type": "code",
   "execution_count": 365,
   "id": "ca436546-8e28-4bb5-b755-bef6bcfb47ab",
   "metadata": {},
   "outputs": [
    {
     "data": {
      "text/plain": [
       "'1pythonlanguage0pythonlanguage1pythonlanguage0pythonlanguage0pythonlanguage1'"
      ]
     },
     "execution_count": 365,
     "metadata": {},
     "output_type": "execute_result"
    }
   ],
   "source": [
    "a.join(a3) #joins every varaiable with other variable "
   ]
  },
  {
   "cell_type": "markdown",
   "id": "8e8a91b6-1f69-4c0f-a4ae-f76119da0ace",
   "metadata": {},
   "source": [
    "strip:Returns a left trim version of the string"
   ]
  },
  {
   "cell_type": "code",
   "execution_count": 368,
   "id": "1498c7f4-7a8f-402d-9b59-2804980d457d",
   "metadata": {},
   "outputs": [
    {
     "data": {
      "text/plain": [
       "'pythonlanguage'"
      ]
     },
     "execution_count": 368,
     "metadata": {},
     "output_type": "execute_result"
    }
   ],
   "source": [
    "a"
   ]
  },
  {
   "cell_type": "code",
   "execution_count": 378,
   "id": "4c0400fa-a65d-45d3-a123-147c73d43856",
   "metadata": {},
   "outputs": [
    {
     "data": {
      "text/plain": [
       "'ythonlanguage'"
      ]
     },
     "execution_count": 378,
     "metadata": {},
     "output_type": "execute_result"
    }
   ],
   "source": [
    "a.strip(\"p\")"
   ]
  },
  {
   "cell_type": "code",
   "execution_count": 380,
   "id": "2d328f77-9d87-44d1-bdfc-93aea506732f",
   "metadata": {},
   "outputs": [
    {
     "data": {
      "text/plain": [
       "'pythonlanguage'"
      ]
     },
     "execution_count": 380,
     "metadata": {},
     "output_type": "execute_result"
    }
   ],
   "source": [
    "a"
   ]
  },
  {
   "cell_type": "code",
   "execution_count": 382,
   "id": "e182d29a-3243-420f-a9bd-7a97f164ff99",
   "metadata": {},
   "outputs": [
    {
     "data": {
      "text/plain": [
       "'pythonlanguage'"
      ]
     },
     "execution_count": 382,
     "metadata": {},
     "output_type": "execute_result"
    }
   ],
   "source": [
    "a.strip(\"y\")"
   ]
  },
  {
   "cell_type": "markdown",
   "id": "7fc21e0a-b9e9-427b-9a79-410f8070c7ba",
   "metadata": {},
   "source": [
    "split: Splits the string at the specified separator, and returns a list"
   ]
  },
  {
   "cell_type": "code",
   "execution_count": 385,
   "id": "84f5ac14-7d4f-4147-9610-d8e476f605af",
   "metadata": {},
   "outputs": [
    {
     "data": {
      "text/plain": [
       "'python123'"
      ]
     },
     "execution_count": 385,
     "metadata": {},
     "output_type": "execute_result"
    }
   ],
   "source": [
    "a2"
   ]
  },
  {
   "cell_type": "code",
   "execution_count": 391,
   "id": "901e3c5e-938d-4312-9061-4c5b6ef998e2",
   "metadata": {},
   "outputs": [
    {
     "data": {
      "text/plain": [
       "['python', '23']"
      ]
     },
     "execution_count": 391,
     "metadata": {},
     "output_type": "execute_result"
    }
   ],
   "source": [
    "a2.split(\"1\")"
   ]
  },
  {
   "cell_type": "code",
   "execution_count": 395,
   "id": "a365aeff-f9f8-46f6-9915-9970a1031024",
   "metadata": {},
   "outputs": [
    {
     "data": {
      "text/plain": [
       "['pytho', '123']"
      ]
     },
     "execution_count": 395,
     "metadata": {},
     "output_type": "execute_result"
    }
   ],
   "source": [
    "a2.split(\"n\")"
   ]
  },
  {
   "cell_type": "markdown",
   "id": "2d75b8af-8917-46fd-a537-3ea13fea3532",
   "metadata": {},
   "source": [
    "replace: Returns a string where a specified value is replaced with a specified value"
   ]
  },
  {
   "cell_type": "code",
   "execution_count": 398,
   "id": "097bf237-2d6f-45c1-bdf6-b3ef083df15f",
   "metadata": {},
   "outputs": [
    {
     "data": {
      "text/plain": [
       "'pythonlanguage'"
      ]
     },
     "execution_count": 398,
     "metadata": {},
     "output_type": "execute_result"
    }
   ],
   "source": [
    "a"
   ]
  },
  {
   "cell_type": "code",
   "execution_count": 406,
   "id": "0f8b811c-9429-40ea-816d-a63963cab250",
   "metadata": {},
   "outputs": [
    {
     "data": {
      "text/plain": [
       "'pythonlxnguxge'"
      ]
     },
     "execution_count": 406,
     "metadata": {},
     "output_type": "execute_result"
    }
   ],
   "source": [
    "a.replace(\"a\",\"x\")  #in place of a we are replacing x"
   ]
  },
  {
   "cell_type": "markdown",
   "id": "b2edc847-ff30-46e1-a6ae-fd095d0a6cc9",
   "metadata": {},
   "source": [
    "title: Converts the first character of each word to upper case"
   ]
  },
  {
   "cell_type": "code",
   "execution_count": 409,
   "id": "9bcde863-46a7-481a-8605-3429576c5f48",
   "metadata": {},
   "outputs": [
    {
     "data": {
      "text/plain": [
       "'PyThoN'"
      ]
     },
     "execution_count": 409,
     "metadata": {},
     "output_type": "execute_result"
    }
   ],
   "source": [
    "a4"
   ]
  },
  {
   "cell_type": "code",
   "execution_count": 411,
   "id": "56471d03-d215-4502-b2f2-82dc4045862c",
   "metadata": {},
   "outputs": [
    {
     "data": {
      "text/plain": [
       "'Python'"
      ]
     },
     "execution_count": 411,
     "metadata": {},
     "output_type": "execute_result"
    }
   ],
   "source": [
    "a4.title()"
   ]
  },
  {
   "cell_type": "markdown",
   "id": "be1e6966-4ee1-4e52-9d6e-ca40c721607d",
   "metadata": {},
   "source": [
    "swapcase: Swaps cases, lower case becomes upper case and vice versa"
   ]
  },
  {
   "cell_type": "code",
   "execution_count": 413,
   "id": "734fb14b-5d79-4a89-93bf-a529638cd2b1",
   "metadata": {},
   "outputs": [
    {
     "data": {
      "text/plain": [
       "'PyThoN'"
      ]
     },
     "execution_count": 413,
     "metadata": {},
     "output_type": "execute_result"
    }
   ],
   "source": [
    "a4"
   ]
  },
  {
   "cell_type": "code",
   "execution_count": 415,
   "id": "068ca9e9-4779-460d-a6d6-b17c043e57c6",
   "metadata": {},
   "outputs": [
    {
     "data": {
      "text/plain": [
       "'pYtHOn'"
      ]
     },
     "execution_count": 415,
     "metadata": {},
     "output_type": "execute_result"
    }
   ],
   "source": [
    "a4.swapcase()"
   ]
  },
  {
   "cell_type": "markdown",
   "id": "a6055874-68e4-4106-ab0d-da4121aed232",
   "metadata": {},
   "source": [
    "startswith: Returns true if the string starts with the specified value"
   ]
  },
  {
   "cell_type": "code",
   "execution_count": 419,
   "id": "31045b5f-d427-405d-952a-157387c5fab0",
   "metadata": {},
   "outputs": [
    {
     "data": {
      "text/plain": [
       "'pythonlanguage'"
      ]
     },
     "execution_count": 419,
     "metadata": {},
     "output_type": "execute_result"
    }
   ],
   "source": [
    "a"
   ]
  },
  {
   "cell_type": "code",
   "execution_count": 425,
   "id": "dd92db03-ee0c-4c1e-a997-923bf935f827",
   "metadata": {},
   "outputs": [
    {
     "data": {
      "text/plain": [
       "True"
      ]
     },
     "execution_count": 425,
     "metadata": {},
     "output_type": "execute_result"
    }
   ],
   "source": [
    "a.startswith('p')"
   ]
  },
  {
   "cell_type": "code",
   "execution_count": 427,
   "id": "4cb1953b-c77f-4aa9-9e30-f5b9c1b490fc",
   "metadata": {},
   "outputs": [
    {
     "data": {
      "text/plain": [
       "'pythonlanguage'"
      ]
     },
     "execution_count": 427,
     "metadata": {},
     "output_type": "execute_result"
    }
   ],
   "source": [
    "a"
   ]
  },
  {
   "cell_type": "code",
   "execution_count": 429,
   "id": "71cce4a7-2dc0-4cc0-96f2-f5a1cc3f9db0",
   "metadata": {},
   "outputs": [
    {
     "data": {
      "text/plain": [
       "False"
      ]
     },
     "execution_count": 429,
     "metadata": {},
     "output_type": "execute_result"
    }
   ],
   "source": [
    "a.startswith('y')"
   ]
  },
  {
   "cell_type": "code",
   "execution_count": null,
   "id": "1ab9f96e-d6ef-4f69-91e6-f2b393f7477d",
   "metadata": {},
   "outputs": [],
   "source": []
  }
 ],
 "metadata": {
  "kernelspec": {
   "display_name": "Python 3 (ipykernel)",
   "language": "python",
   "name": "python3"
  },
  "language_info": {
   "codemirror_mode": {
    "name": "ipython",
    "version": 3
   },
   "file_extension": ".py",
   "mimetype": "text/x-python",
   "name": "python",
   "nbconvert_exporter": "python",
   "pygments_lexer": "ipython3",
   "version": "3.12.4"
  }
 },
 "nbformat": 4,
 "nbformat_minor": 5
}
