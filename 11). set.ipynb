{
 "cells": [
  {
   "cell_type": "markdown",
   "id": "a0f8d7c1-c88e-43cb-be0e-c3d257c9865b",
   "metadata": {},
   "source": [
    "# set"
   ]
  },
  {
   "cell_type": "markdown",
   "id": "bccaf025-9d0e-47ff-9214-993208e88dac",
   "metadata": {},
   "source": [
    "set-{}\n",
    "\n",
    "set is define by {} curly brackets. set does not contain duplicates. same type of datatypes will be in ordered sequence.\n",
    "\n",
    "set elements are immutable we cannot change. In set slicing and indexing is not allowed. It can be mutable according to the situation. \n"
   ]
  },
  {
   "cell_type": "markdown",
   "id": "0d3113cd-54d6-425a-9afc-90a09962f48a",
   "metadata": {},
   "source": [
    "# Method--(Shortcut)--Description\n",
    "\n",
    "add()--Adds an element to the set\n",
    "\n",
    "clear()--Removes all the elements from the set\n",
    "\n",
    "copy()--Returns a copy of the set\n",
    "\n",
    "difference()-- (-) --Returns a set containing the difference between two or more sets\n",
    "\n",
    "difference_update()-- (-=) --Removes the items in this set that are also included in another, specified set\n",
    "\n",
    "discard()--Remove the specified item\n",
    "\n",
    "intersection()-- (&) --Returns a set, that is the intersection of two other sets\n",
    "\n",
    "intersection_update()-- (&=) --Removes the items in this set that are not present in other, specified set(s)\n",
    "\n",
    "isdisjoint()--Returns whether two sets have a intersection or not\n",
    "\n",
    "issubset()-- (<=) --Returns whether another set contains this set or not --(<) Returns whether all items in this set is present in other, specified set(s)\n",
    "\n",
    "issuperset()-- (>=) -- Returns whether this set contains another set or not --(>)Returns whether all items in other, specified set(s) is present in this set\n",
    "\n",
    "pop()--Removes an element from the set\n",
    "\n",
    "remove()--Removes the specified element\n",
    "\n",
    "symmetric_difference()--(^)--Returns a set with the symmetric differences of two sets\n",
    "\n",
    "symmetric_difference_update()--(^=)--Inserts the symmetric differences from this set and another\n",
    "\n",
    "union()--(|)Return a set containing the union of sets\n",
    "\n",
    "update()--(|=)-- Update the set with the union of this set and others\n",
    "\n"
   ]
  },
  {
   "cell_type": "code",
   "execution_count": 4,
   "id": "73213d87-cca4-45c7-9281-9a584a3d106b",
   "metadata": {},
   "outputs": [
    {
     "data": {
      "text/plain": [
       "{}"
      ]
     },
     "execution_count": 4,
     "metadata": {},
     "output_type": "execute_result"
    }
   ],
   "source": [
    "s={}\n",
    "s"
   ]
  },
  {
   "cell_type": "code",
   "execution_count": 5,
   "id": "0c21e6f5-d6bf-4cc7-9ca7-3ec89e9afbaa",
   "metadata": {},
   "outputs": [
    {
     "data": {
      "text/plain": [
       "dict"
      ]
     },
     "execution_count": 5,
     "metadata": {},
     "output_type": "execute_result"
    }
   ],
   "source": [
    "type(s)  # default the {} indicates as dictionary "
   ]
  },
  {
   "cell_type": "code",
   "execution_count": 6,
   "id": "91041a35-ee53-4755-806c-e1632675ff1d",
   "metadata": {},
   "outputs": [
    {
     "data": {
      "text/plain": [
       "set()"
      ]
     },
     "execution_count": 6,
     "metadata": {},
     "output_type": "execute_result"
    }
   ],
   "source": [
    "s=set()\n",
    "s                  # we need to create set like this"
   ]
  },
  {
   "cell_type": "code",
   "execution_count": 7,
   "id": "ad7ee902-a02c-4b26-8da1-b04aeb81bb52",
   "metadata": {},
   "outputs": [
    {
     "data": {
      "text/plain": [
       "set"
      ]
     },
     "execution_count": 7,
     "metadata": {},
     "output_type": "execute_result"
    }
   ],
   "source": [
    "type(s)"
   ]
  },
  {
   "cell_type": "code",
   "execution_count": 8,
   "id": "f7440bdd-95e1-46fe-a5cd-9c62e1b68b83",
   "metadata": {},
   "outputs": [
    {
     "data": {
      "text/plain": [
       "{5, 34, 55, 78, 123}"
      ]
     },
     "execution_count": 8,
     "metadata": {},
     "output_type": "execute_result"
    }
   ],
   "source": [
    "s1={34,78,5,123,55}   # set is ordered sequence\n",
    "s1"
   ]
  },
  {
   "cell_type": "code",
   "execution_count": 9,
   "id": "708a9d5a-d182-4863-9958-656bf3c3e8d8",
   "metadata": {},
   "outputs": [
    {
     "data": {
      "text/plain": [
       "{(1+2j), 3.5, 440, 6, True}"
      ]
     },
     "execution_count": 9,
     "metadata": {},
     "output_type": "execute_result"
    }
   ],
   "source": [
    "s2={3.5, 6, 440, 1+2j, True}  \n",
    "s2"
   ]
  },
  {
   "cell_type": "code",
   "execution_count": 10,
   "id": "5f05812e-98a5-4c1c-a1fd-f3a2f58c0b3d",
   "metadata": {},
   "outputs": [
    {
     "data": {
      "text/plain": [
       "{(1+2j), 3.5, 34, 440, 6, True}"
      ]
     },
     "execution_count": 10,
     "metadata": {},
     "output_type": "execute_result"
    }
   ],
   "source": [
    "# add()  -- it will add the element in the set\n",
    "s2.add(34)\n",
    "s2"
   ]
  },
  {
   "cell_type": "code",
   "execution_count": 11,
   "id": "86af533d-b438-488e-81fc-8e0b2c486290",
   "metadata": {},
   "outputs": [
    {
     "data": {
      "text/plain": [
       "{(1+2j), 3.5, 34, 4.3, 440, 6, True}"
      ]
     },
     "execution_count": 11,
     "metadata": {},
     "output_type": "execute_result"
    }
   ],
   "source": [
    "s2.add(4.3)\n",
    "s2"
   ]
  },
  {
   "cell_type": "code",
   "execution_count": 12,
   "id": "d49d0d9d-e0dd-4298-835c-92ac5937855d",
   "metadata": {},
   "outputs": [
    {
     "data": {
      "text/plain": [
       "{(1+2j), 3.5, 34, 4.3, 440, 6, True}"
      ]
     },
     "execution_count": 12,
     "metadata": {},
     "output_type": "execute_result"
    }
   ],
   "source": [
    "# copy()-- it will copy the set to the other set\n",
    "s3=s2.copy()\n",
    "s3"
   ]
  },
  {
   "cell_type": "code",
   "execution_count": 13,
   "id": "d6e4acd2-21b2-4108-a745-96387b8c3d3a",
   "metadata": {},
   "outputs": [
    {
     "data": {
      "text/plain": [
       "{(1+2j), 3.5, 34, 4.3, 440, 6}"
      ]
     },
     "execution_count": 13,
     "metadata": {},
     "output_type": "execute_result"
    }
   ],
   "source": [
    "# pop() -- it will remove the element randomly\n",
    "s2.pop()\n",
    "s2"
   ]
  },
  {
   "cell_type": "code",
   "execution_count": 14,
   "id": "bea47504-03b3-4061-b0ae-1431a047de5d",
   "metadata": {},
   "outputs": [],
   "source": [
    "# remove-- it will remove the element by assigning the argument\n",
    "s2.remove(6)"
   ]
  },
  {
   "cell_type": "code",
   "execution_count": 15,
   "id": "b4d414f5-1425-4ad7-9582-c456f5fa91a3",
   "metadata": {},
   "outputs": [
    {
     "data": {
      "text/plain": [
       "{(1+2j), 3.5, 34, 4.3, 440}"
      ]
     },
     "execution_count": 15,
     "metadata": {},
     "output_type": "execute_result"
    }
   ],
   "source": [
    "s2"
   ]
  },
  {
   "cell_type": "code",
   "execution_count": 49,
   "id": "ffc9c0da-9c3d-415a-aeca-551c1ad313ea",
   "metadata": {},
   "outputs": [
    {
     "ename": "KeyError",
     "evalue": "44",
     "output_type": "error",
     "traceback": [
      "\u001b[1;31m---------------------------------------------------------------------------\u001b[0m",
      "\u001b[1;31mKeyError\u001b[0m                                  Traceback (most recent call last)",
      "Cell \u001b[1;32mIn[49], line 1\u001b[0m\n\u001b[1;32m----> 1\u001b[0m s2\u001b[38;5;241m.\u001b[39mremove(\u001b[38;5;241m44\u001b[39m)\n",
      "\u001b[1;31mKeyError\u001b[0m: 44"
     ]
    }
   ],
   "source": [
    "s2.remove(44)  # we given the element which is not in set then it will give error"
   ]
  },
  {
   "cell_type": "code",
   "execution_count": 16,
   "id": "945ecac5-93dc-47d2-b0d9-9fbc8fd06bd8",
   "metadata": {},
   "outputs": [
    {
     "data": {
      "text/plain": [
       "{(1+2j), 3.5, 34, 4.3, 440, 6, True}"
      ]
     },
     "execution_count": 16,
     "metadata": {},
     "output_type": "execute_result"
    }
   ],
   "source": [
    "s3"
   ]
  },
  {
   "cell_type": "code",
   "execution_count": 17,
   "id": "439ab37c-f867-4329-8107-fb0c2edded6a",
   "metadata": {},
   "outputs": [
    {
     "data": {
      "text/plain": [
       "{(1+2j), 3.5, 34, 4.3, 6, True}"
      ]
     },
     "execution_count": 17,
     "metadata": {},
     "output_type": "execute_result"
    }
   ],
   "source": [
    "# discard-- it will delete the element from the set by assigning the arugument\n",
    "s3.discard(440)\n",
    "s3"
   ]
  },
  {
   "cell_type": "code",
   "execution_count": 53,
   "id": "d3d94f11-a345-435c-9ebd-bf727fc1c662",
   "metadata": {},
   "outputs": [],
   "source": [
    "s3.discard(44) # we given the element which is not in set then it will run the cell"
   ]
  },
  {
   "cell_type": "code",
   "execution_count": 57,
   "id": "5edbc80e-995b-4f96-8f07-90a6b8f5f529",
   "metadata": {},
   "outputs": [
    {
     "name": "stdout",
     "output_type": "stream",
     "text": [
      "True\n",
      "34\n",
      "3.5\n",
      "4.3\n",
      "6\n",
      "(1+2j)\n"
     ]
    }
   ],
   "source": [
    "# for loop is works in set\n",
    "for i in s3:\n",
    "    print(i)"
   ]
  },
  {
   "cell_type": "code",
   "execution_count": 59,
   "id": "725b5ad7-fbf8-45e1-a7e0-952d2b063a23",
   "metadata": {},
   "outputs": [
    {
     "name": "stdout",
     "output_type": "stream",
     "text": [
      "(0, True)\n",
      "(1, 34)\n",
      "(2, 3.5)\n",
      "(3, 4.3)\n",
      "(4, 6)\n",
      "(5, (1+2j))\n"
     ]
    }
   ],
   "source": [
    "# enumerate-- with index\n",
    "for i in enumerate(s3):\n",
    "    print(i)"
   ]
  },
  {
   "cell_type": "code",
   "execution_count": 63,
   "id": "adc29ced-0ecd-4db0-8370-26fabf42297f",
   "metadata": {},
   "outputs": [
    {
     "data": {
      "text/plain": [
       "False"
      ]
     },
     "execution_count": 63,
     "metadata": {},
     "output_type": "execute_result"
    }
   ],
   "source": [
    "# memebership\n",
    "2 in s3"
   ]
  },
  {
   "cell_type": "code",
   "execution_count": 65,
   "id": "9351be27-8d63-4680-b3d3-57b3f783ed04",
   "metadata": {},
   "outputs": [
    {
     "data": {
      "text/plain": [
       "False"
      ]
     },
     "execution_count": 65,
     "metadata": {},
     "output_type": "execute_result"
    }
   ],
   "source": [
    "55 in s2"
   ]
  },
  {
   "cell_type": "code",
   "execution_count": 67,
   "id": "503b9884-dfed-432c-8a7c-db91ab2f7643",
   "metadata": {},
   "outputs": [
    {
     "data": {
      "text/plain": [
       "True"
      ]
     },
     "execution_count": 67,
     "metadata": {},
     "output_type": "execute_result"
    }
   ],
   "source": [
    "34 in s2"
   ]
  },
  {
   "cell_type": "code",
   "execution_count": 69,
   "id": "998530f8-b12e-41a0-8466-05fc3da4e8dc",
   "metadata": {},
   "outputs": [
    {
     "data": {
      "text/plain": [
       "True"
      ]
     },
     "execution_count": 69,
     "metadata": {},
     "output_type": "execute_result"
    }
   ],
   "source": [
    "6 in s3"
   ]
  },
  {
   "cell_type": "code",
   "execution_count": 71,
   "id": "27cdfe86-90ca-470e-8d32-9183ba95309d",
   "metadata": {},
   "outputs": [
    {
     "data": {
      "text/plain": [
       "{(1+2j), 3.5, 34, 4.3, 6, True}"
      ]
     },
     "execution_count": 71,
     "metadata": {},
     "output_type": "execute_result"
    }
   ],
   "source": [
    "s3"
   ]
  },
  {
   "cell_type": "code",
   "execution_count": 79,
   "id": "19bd7f9a-3e5d-4b7b-8e21-1fa9b1a899f8",
   "metadata": {},
   "outputs": [
    {
     "data": {
      "text/plain": [
       "{(1+2j), 12, 3.5, 34, 4.3, 6, True}"
      ]
     },
     "execution_count": 79,
     "metadata": {},
     "output_type": "execute_result"
    }
   ],
   "source": [
    "# update --inserying the values in set\n",
    "s3.update([12])\n",
    "s3"
   ]
  },
  {
   "cell_type": "code",
   "execution_count": 81,
   "id": "a011e917-0dfe-45e9-a9bb-ee205098b3ce",
   "metadata": {},
   "outputs": [
    {
     "data": {
      "text/plain": [
       "{(1+2j), 3.5, 34, 4.3, 440}"
      ]
     },
     "execution_count": 81,
     "metadata": {},
     "output_type": "execute_result"
    }
   ],
   "source": [
    "s2"
   ]
  },
  {
   "cell_type": "code",
   "execution_count": 85,
   "id": "e42f658f-be7c-4bbd-9a9c-842d058356e0",
   "metadata": {},
   "outputs": [
    {
     "data": {
      "text/plain": [
       "{(1+2j), 3.5, 33, 34, 4.3, 440}"
      ]
     },
     "execution_count": 85,
     "metadata": {},
     "output_type": "execute_result"
    }
   ],
   "source": [
    "s2.update([33])\n",
    "s2"
   ]
  },
  {
   "cell_type": "markdown",
   "id": "fc1333d4-1a0a-4f1c-a6dc-bc6846ded434",
   "metadata": {},
   "source": [
    "# set operations"
   ]
  },
  {
   "cell_type": "markdown",
   "id": "882ea325-38e7-4c2c-96de-613291745e3b",
   "metadata": {},
   "source": [
    "union, intersetion, differeence, symmentric_differeence, subset, superset, disjoints"
   ]
  },
  {
   "attachments": {
    "012de347-fa2d-47a1-83d6-df5a8a505b10.jpg": {
     "image/jpeg": "[encoded data removed]"
    }
   },
   "cell_type": "markdown",
   "id": "9cb4e09f-a705-4ef6-87c9-1d87dd243900",
   "metadata": {},
   "source": [
    "![ss.jpg](attachment:012de347-fa2d-47a1-83d6-df5a8a505b10.jpg)"
   ]
  },
  {
   "cell_type": "markdown",
   "id": "3729560f-2637-43c1-bd97-12290f74dae7",
   "metadata": {},
   "source": [
    "union ( | ) : it will print all the elements from the both sides"
   ]
  },
  {
   "cell_type": "code",
   "execution_count": 91,
   "id": "c79d5409-227b-41e8-9d18-c79d754c310a",
   "metadata": {},
   "outputs": [],
   "source": [
    "a={1,2,3,4,5,6,7,8}\n",
    "b={6,7,8,9,10,11,12}\n",
    "c={4,8,12,16,20}"
   ]
  },
  {
   "cell_type": "code",
   "execution_count": 93,
   "id": "2bd3b3a4-bc39-4b85-afec-65a26f31f35b",
   "metadata": {},
   "outputs": [
    {
     "data": {
      "text/plain": [
       "{1, 2, 3, 4, 5, 6, 7, 8, 9, 10, 11, 12}"
      ]
     },
     "execution_count": 93,
     "metadata": {},
     "output_type": "execute_result"
    }
   ],
   "source": [
    "a.union(b)"
   ]
  },
  {
   "cell_type": "code",
   "execution_count": 96,
   "id": "e012a77d-d94f-4020-a647-7670773575a8",
   "metadata": {},
   "outputs": [
    {
     "data": {
      "text/plain": [
       "{1, 2, 3, 4, 5, 6, 7, 8, 9, 10, 11, 12}"
      ]
     },
     "execution_count": 96,
     "metadata": {},
     "output_type": "execute_result"
    }
   ],
   "source": [
    "a| b"
   ]
  },
  {
   "cell_type": "code",
   "execution_count": 100,
   "id": "c2d74cd9-fa6c-4342-92c4-d043f72e951a",
   "metadata": {},
   "outputs": [
    {
     "data": {
      "text/plain": [
       "{1, 2, 3, 4, 5, 6, 7, 8, 12, 16, 20}"
      ]
     },
     "execution_count": 100,
     "metadata": {},
     "output_type": "execute_result"
    }
   ],
   "source": [
    "a|c"
   ]
  },
  {
   "cell_type": "code",
   "execution_count": 102,
   "id": "ed512d85-3176-4509-a421-7ec241ab9f19",
   "metadata": {},
   "outputs": [
    {
     "data": {
      "text/plain": [
       "{4, 6, 7, 8, 9, 10, 11, 12, 16, 20}"
      ]
     },
     "execution_count": 102,
     "metadata": {},
     "output_type": "execute_result"
    }
   ],
   "source": [
    "b|c"
   ]
  },
  {
   "cell_type": "markdown",
   "id": "f1b4066a-692c-43e2-ba86-f9a7957762e6",
   "metadata": {},
   "source": [
    "Intersection ( & ) : display common elements"
   ]
  },
  {
   "cell_type": "code",
   "execution_count": 105,
   "id": "ad37483f-c906-4a01-b1ad-cf1e8ca776fa",
   "metadata": {},
   "outputs": [
    {
     "name": "stdout",
     "output_type": "stream",
     "text": [
      "{1, 2, 3, 4, 5, 6, 7, 8}\n",
      "{6, 7, 8, 9, 10, 11, 12}\n",
      "{16, 4, 20, 8, 12}\n"
     ]
    }
   ],
   "source": [
    "print(a)\n",
    "print(b)\n",
    "print(c)"
   ]
  },
  {
   "cell_type": "code",
   "execution_count": 107,
   "id": "0609c298-922e-4be2-8756-4bb634cb3835",
   "metadata": {},
   "outputs": [
    {
     "data": {
      "text/plain": [
       "{6, 7, 8}"
      ]
     },
     "execution_count": 107,
     "metadata": {},
     "output_type": "execute_result"
    }
   ],
   "source": [
    "a.intersection(b)"
   ]
  },
  {
   "cell_type": "code",
   "execution_count": 111,
   "id": "e6a84036-190a-4699-9212-d90cc85cc9c3",
   "metadata": {},
   "outputs": [
    {
     "data": {
      "text/plain": [
       "{6, 7, 8}"
      ]
     },
     "execution_count": 111,
     "metadata": {},
     "output_type": "execute_result"
    }
   ],
   "source": [
    "a&b"
   ]
  },
  {
   "cell_type": "code",
   "execution_count": 113,
   "id": "c02b9266-5647-4942-8236-50f679133ba3",
   "metadata": {},
   "outputs": [
    {
     "data": {
      "text/plain": [
       "{8, 12}"
      ]
     },
     "execution_count": 113,
     "metadata": {},
     "output_type": "execute_result"
    }
   ],
   "source": [
    "b & c"
   ]
  },
  {
   "cell_type": "code",
   "execution_count": 115,
   "id": "2dd18cde-d560-4c46-856f-604eb4dd3af5",
   "metadata": {},
   "outputs": [
    {
     "data": {
      "text/plain": [
       "({8, 12}, {1, 2, 3, 4, 5, 6, 7, 8})"
      ]
     },
     "execution_count": 115,
     "metadata": {},
     "output_type": "execute_result"
    }
   ],
   "source": [
    "b & c,a"
   ]
  },
  {
   "cell_type": "markdown",
   "id": "a6749346-e831-464d-bfbe-5aea77636294",
   "metadata": {},
   "source": [
    "Difference ( - ) : it will display unlike elements for first set"
   ]
  },
  {
   "cell_type": "code",
   "execution_count": 120,
   "id": "76338b7a-953a-4218-a6e7-99c58971c327",
   "metadata": {},
   "outputs": [
    {
     "name": "stdout",
     "output_type": "stream",
     "text": [
      "{1, 2, 3, 4, 5, 6, 7, 8}\n",
      "{6, 7, 8, 9, 10, 11, 12}\n",
      "{16, 4, 20, 8, 12}\n"
     ]
    }
   ],
   "source": [
    "print(a)\n",
    "print(b)\n",
    "print(c)"
   ]
  },
  {
   "cell_type": "code",
   "execution_count": 124,
   "id": "c7504fda-c299-44e1-a26b-34ace5482de6",
   "metadata": {},
   "outputs": [
    {
     "data": {
      "text/plain": [
       "{1, 2, 3, 4, 5}"
      ]
     },
     "execution_count": 124,
     "metadata": {},
     "output_type": "execute_result"
    }
   ],
   "source": [
    "a.difference(b)"
   ]
  },
  {
   "cell_type": "code",
   "execution_count": 126,
   "id": "99eab8ad-62ca-4072-b5c4-dcfc6f960894",
   "metadata": {},
   "outputs": [
    {
     "data": {
      "text/plain": [
       "{1, 2, 3, 4, 5}"
      ]
     },
     "execution_count": 126,
     "metadata": {},
     "output_type": "execute_result"
    }
   ],
   "source": [
    "a-b"
   ]
  },
  {
   "cell_type": "code",
   "execution_count": 128,
   "id": "2cbfb2cc-8d67-4817-bb90-0dd653a7ad5b",
   "metadata": {},
   "outputs": [
    {
     "data": {
      "text/plain": [
       "{6, 7, 9, 10, 11}"
      ]
     },
     "execution_count": 128,
     "metadata": {},
     "output_type": "execute_result"
    }
   ],
   "source": [
    "b-c"
   ]
  },
  {
   "cell_type": "code",
   "execution_count": 130,
   "id": "0fc4debf-f21c-4fa3-8d92-64872997c8a1",
   "metadata": {},
   "outputs": [
    {
     "data": {
      "text/plain": [
       "({6, 7, 9, 10, 11}, {1, 2, 3, 4, 5, 6, 7, 8})"
      ]
     },
     "execution_count": 130,
     "metadata": {},
     "output_type": "execute_result"
    }
   ],
   "source": [
    "b-c,a"
   ]
  },
  {
   "cell_type": "markdown",
   "id": "ae43173a-d13d-4f4c-b105-00f0578735f9",
   "metadata": {},
   "source": [
    "symmentric_difference (^) : it displays unlike elements by removing common elements "
   ]
  },
  {
   "cell_type": "code",
   "execution_count": 132,
   "id": "2694d7a2-1482-4dbc-993a-81088cdf71dd",
   "metadata": {},
   "outputs": [
    {
     "name": "stdout",
     "output_type": "stream",
     "text": [
      "{1, 2, 3, 4, 5, 6, 7, 8}\n",
      "{6, 7, 8, 9, 10, 11, 12}\n",
      "{16, 4, 20, 8, 12}\n"
     ]
    }
   ],
   "source": [
    "print(a)\n",
    "print(b)\n",
    "print(c)"
   ]
  },
  {
   "cell_type": "code",
   "execution_count": 135,
   "id": "2cb528df-e628-4126-bd85-9ebb3df2782c",
   "metadata": {},
   "outputs": [
    {
     "data": {
      "text/plain": [
       "{1, 2, 3, 4, 5, 9, 10, 11, 12}"
      ]
     },
     "execution_count": 135,
     "metadata": {},
     "output_type": "execute_result"
    }
   ],
   "source": [
    "a.symmetric_difference(b)"
   ]
  },
  {
   "cell_type": "code",
   "execution_count": 138,
   "id": "290a66c0-c4ad-4cc3-b546-ad75902cd5fa",
   "metadata": {},
   "outputs": [
    {
     "data": {
      "text/plain": [
       "{1, 2, 3, 4, 5, 9, 10, 11, 12}"
      ]
     },
     "execution_count": 138,
     "metadata": {},
     "output_type": "execute_result"
    }
   ],
   "source": [
    "a^b"
   ]
  },
  {
   "cell_type": "code",
   "execution_count": 140,
   "id": "950e5fe2-0807-4e8f-9460-147eafedef5c",
   "metadata": {},
   "outputs": [
    {
     "data": {
      "text/plain": [
       "{1, 2, 3, 4, 5, 9, 10, 11, 12}"
      ]
     },
     "execution_count": 140,
     "metadata": {},
     "output_type": "execute_result"
    }
   ],
   "source": [
    "b^a"
   ]
  },
  {
   "cell_type": "code",
   "execution_count": 142,
   "id": "6a883c6a-19bc-45fe-9207-6aad020e8e53",
   "metadata": {},
   "outputs": [
    {
     "data": {
      "text/plain": [
       "({1, 2, 3, 5, 6, 7, 12, 16, 20}, {6, 7, 8, 9, 10, 11, 12})"
      ]
     },
     "execution_count": 142,
     "metadata": {},
     "output_type": "execute_result"
    }
   ],
   "source": [
    "c^a,b"
   ]
  },
  {
   "cell_type": "markdown",
   "id": "548f77b6-ba44-4708-8dea-39732569d459",
   "metadata": {},
   "source": [
    "issuperset : eg- dad                                                         ---True----False\n",
    " \n",
    "issubset : eg- son  ----the values of superset will be in subset            - --True----False\n",
    "\n",
    "isdisjoint : eg- neighbor ---no values will match the superset and subset   ---False----True"
   ]
  },
  {
   "cell_type": "code",
   "execution_count": 145,
   "id": "e793a9cf-d4fb-424e-87b9-2a89592a01f7",
   "metadata": {},
   "outputs": [],
   "source": [
    "a1={9,8,7,6,5,4,3}\n",
    "b1={3,6,9}\n",
    "c1={44,66,77,22,33}"
   ]
  },
  {
   "cell_type": "code",
   "execution_count": 150,
   "id": "b01d5105-bf1c-4a95-86af-8cda8719b314",
   "metadata": {},
   "outputs": [
    {
     "data": {
      "text/plain": [
       "True"
      ]
     },
     "execution_count": 150,
     "metadata": {},
     "output_type": "execute_result"
    }
   ],
   "source": [
    "a1.issuperset(b1)"
   ]
  },
  {
   "cell_type": "code",
   "execution_count": 154,
   "id": "404dc2b5-a4f1-4231-8ad9-aa127dc3a758",
   "metadata": {},
   "outputs": [
    {
     "data": {
      "text/plain": [
       "False"
      ]
     },
     "execution_count": 154,
     "metadata": {},
     "output_type": "execute_result"
    }
   ],
   "source": [
    "b1.issuperset(c1)"
   ]
  },
  {
   "cell_type": "code",
   "execution_count": 156,
   "id": "024d1451-9c26-4fdf-a42d-6c354dd00f4a",
   "metadata": {},
   "outputs": [
    {
     "data": {
      "text/plain": [
       "False"
      ]
     },
     "execution_count": 156,
     "metadata": {},
     "output_type": "execute_result"
    }
   ],
   "source": [
    "c1.issuperset(a1)"
   ]
  },
  {
   "cell_type": "code",
   "execution_count": 160,
   "id": "497c726a-4c38-43ae-8e38-405e1e66fbcd",
   "metadata": {},
   "outputs": [
    {
     "data": {
      "text/plain": [
       "False"
      ]
     },
     "execution_count": 160,
     "metadata": {},
     "output_type": "execute_result"
    }
   ],
   "source": [
    "a1.issubset(b1)"
   ]
  },
  {
   "cell_type": "code",
   "execution_count": null,
   "id": "2fced2f3-eb07-4b5e-9502-0471e08a57d9",
   "metadata": {},
   "outputs": [],
   "source": [
    "b1."
   ]
  },
  {
   "cell_type": "code",
   "execution_count": null,
   "id": "43e5bb7e-f9b1-4803-b425-38d59a4da7f2",
   "metadata": {},
   "outputs": [],
   "source": []
  },
  {
   "cell_type": "code",
   "execution_count": null,
   "id": "3f0b35ce-5072-480d-9172-dc7cb4bab85d",
   "metadata": {},
   "outputs": [],
   "source": []
  },
  {
   "cell_type": "code",
   "execution_count": null,
   "id": "ebafd69a-0358-4994-9fcb-ce32738a1f21",
   "metadata": {},
   "outputs": [],
   "source": []
  },
  {
   "cell_type": "code",
   "execution_count": null,
   "id": "8088bd1a-c803-4335-adb2-7e8aba34c71f",
   "metadata": {},
   "outputs": [],
   "source": []
  },
  {
   "cell_type": "code",
   "execution_count": null,
   "id": "d4aa1229-9ea4-4488-9894-499b520f5091",
   "metadata": {},
   "outputs": [],
   "source": []
  },
  {
   "cell_type": "code",
   "execution_count": null,
   "id": "9106a6c8-a25b-4020-80c3-68c144af0e65",
   "metadata": {},
   "outputs": [],
   "source": []
  },
  {
   "cell_type": "code",
   "execution_count": null,
   "id": "e5eb5604-36e6-421c-9c1f-1b6b6b94229e",
   "metadata": {},
   "outputs": [],
   "source": []
  },
  {
   "cell_type": "code",
   "execution_count": null,
   "id": "8014c8db-fa82-449f-9c25-6f03f1f06c54",
   "metadata": {},
   "outputs": [],
   "source": []
  }
 ],
 "metadata": {
  "kernelspec": {
   "display_name": "Python 3 (ipykernel)",
   "language": "python",
   "name": "python3"
  },
  "language_info": {
   "codemirror_mode": {
    "name": "ipython",
    "version": 3
   },
   "file_extension": ".py",
   "mimetype": "text/x-python",
   "name": "python",
   "nbconvert_exporter": "python",
   "pygments_lexer": "ipython3",
   "version": "3.12.4"
  }
 },
 "nbformat": 4,
 "nbformat_minor": 5
}
