{
 "cells": [
  {
   "cell_type": "markdown",
   "id": "e13aaf05-10d7-4c9f-86c2-d7c44aa9f777",
   "metadata": {},
   "source": [
    "# Tuple"
   ]
  },
  {
   "cell_type": "markdown",
   "id": "f2a64df3-c251-4a22-8ac2-dbffa68e3ed7",
   "metadata": {},
   "source": [
    "Tuple=()\n",
    "\n",
    "Tuple is also inbulit function in datastructures. Tuple is same like list but it is immutable we cannot change the values in list we can change.\n",
    "\n",
    "In tuple duplicates are allowed and multiple dataypes are allowed indexing and slicing also allowed in tuple.\n",
    "\n",
    "In real time example tuple is used in bank account user profile details like adhar number,pan number etc, \n",
    "once we entered we cannot change it.\n",
    "\n",
    "Tuple has only 2 functions:\n",
    "\n",
    "Method--Description\n",
    "\n",
    "count()--Returns the number of times a specified value occurs in a tuple\n",
    "\n",
    "index()--Searches the tuple for a specified value and returns the position of where it was found"
   ]
  },
  {
   "cell_type": "code",
   "execution_count": 7,
   "id": "78f7009f-0cd4-4f6e-8fd3-6b7477840a14",
   "metadata": {},
   "outputs": [
    {
     "data": {
      "text/plain": [
       "()"
      ]
     },
     "execution_count": 7,
     "metadata": {},
     "output_type": "execute_result"
    }
   ],
   "source": [
    "t=() # tuple\n",
    "t"
   ]
  },
  {
   "cell_type": "code",
   "execution_count": 9,
   "id": "d9192cc7-beea-48bc-be46-5c6e6c1f2f27",
   "metadata": {},
   "outputs": [
    {
     "data": {
      "text/plain": [
       "tuple"
      ]
     },
     "execution_count": 9,
     "metadata": {},
     "output_type": "execute_result"
    }
   ],
   "source": [
    "type(t)"
   ]
  },
  {
   "cell_type": "code",
   "execution_count": 11,
   "id": "c00fd68b-b088-4827-942f-7cdaea1596cd",
   "metadata": {},
   "outputs": [
    {
     "data": {
      "text/plain": [
       "(2, 77, 23, 89, 1, 45)"
      ]
     },
     "execution_count": 11,
     "metadata": {},
     "output_type": "execute_result"
    }
   ],
   "source": [
    "# we directly insert the values in tuple without any functions\n",
    "t=(2,77,23,89,1,45) \n",
    "t"
   ]
  },
  {
   "cell_type": "code",
   "execution_count": 13,
   "id": "fedb96e0-413b-4641-b992-e4e8ef2a0fcf",
   "metadata": {},
   "outputs": [
    {
     "data": {
      "text/plain": [
       "(2, 3.4, 5, True, '8+12j', True, 'Chanu', 3.4, 2)"
      ]
     },
     "execution_count": 13,
     "metadata": {},
     "output_type": "execute_result"
    }
   ],
   "source": [
    "# we will insert duplicates and different datatypes in tuple\n",
    "t1=(2,3.4,5,True,'8+12j',True,'Chanu',3.4,2)\n",
    "t1"
   ]
  },
  {
   "cell_type": "code",
   "execution_count": 15,
   "id": "17377ab6-0fd4-477d-9011-846d40caa559",
   "metadata": {},
   "outputs": [
    {
     "data": {
      "text/plain": [
       "9"
      ]
     },
     "execution_count": 15,
     "metadata": {},
     "output_type": "execute_result"
    }
   ],
   "source": [
    "len(t1)"
   ]
  },
  {
   "cell_type": "code",
   "execution_count": 19,
   "id": "d1961dfd-198f-4b1f-ae3f-c3f81f4246f5",
   "metadata": {},
   "outputs": [
    {
     "data": {
      "text/plain": [
       "(2, 3.4, 5, True, '8+12j', True, 'Chanu', 3.4, 2)"
      ]
     },
     "execution_count": 19,
     "metadata": {},
     "output_type": "execute_result"
    }
   ],
   "source": [
    "t1"
   ]
  },
  {
   "cell_type": "code",
   "execution_count": 17,
   "id": "8b3a0014-a9fd-436b-9c64-610eed89a77b",
   "metadata": {},
   "outputs": [
    {
     "ename": "TypeError",
     "evalue": "'tuple' object does not support item assignment",
     "output_type": "error",
     "traceback": [
      "\u001b[1;31m---------------------------------------------------------------------------\u001b[0m",
      "\u001b[1;31mTypeError\u001b[0m                                 Traceback (most recent call last)",
      "Cell \u001b[1;32mIn[17], line 2\u001b[0m\n\u001b[0;32m      1\u001b[0m \u001b[38;5;66;03m# we cannot change the values in tuple\u001b[39;00m\n\u001b[1;32m----> 2\u001b[0m t1[\u001b[38;5;241m0\u001b[39m]\u001b[38;5;241m=\u001b[39m\u001b[38;5;241m5\u001b[39m\n",
      "\u001b[1;31mTypeError\u001b[0m: 'tuple' object does not support item assignment"
     ]
    }
   ],
   "source": [
    "# we cannot change the values in tuple\n",
    "t1[0]=5"
   ]
  },
  {
   "cell_type": "code",
   "execution_count": 21,
   "id": "4f592a12-74af-4968-8f40-57e0d936328b",
   "metadata": {},
   "outputs": [
    {
     "data": {
      "text/plain": [
       "(2, 77, 23, 89, 1, 45)"
      ]
     },
     "execution_count": 21,
     "metadata": {},
     "output_type": "execute_result"
    }
   ],
   "source": [
    "t"
   ]
  },
  {
   "cell_type": "code",
   "execution_count": 23,
   "id": "a72e2988-dc15-438f-9ee5-7ad8dfbfd006",
   "metadata": {},
   "outputs": [
    {
     "data": {
      "text/plain": [
       "(2, 3.4, 5, True, '8+12j', True, 'Chanu', 3.4, 2)"
      ]
     },
     "execution_count": 23,
     "metadata": {},
     "output_type": "execute_result"
    }
   ],
   "source": [
    "t1"
   ]
  },
  {
   "cell_type": "code",
   "execution_count": 27,
   "id": "ac128f56-9339-4ddb-ae5a-e02bee72eaa5",
   "metadata": {},
   "outputs": [
    {
     "data": {
      "text/plain": [
       "2"
      ]
     },
     "execution_count": 27,
     "metadata": {},
     "output_type": "execute_result"
    }
   ],
   "source": [
    "# count retuens the number of occurance of thr values\n",
    "t1.count(2)"
   ]
  },
  {
   "cell_type": "code",
   "execution_count": 29,
   "id": "d100be6e-b2bb-4976-b8d3-3995e2481404",
   "metadata": {},
   "outputs": [
    {
     "data": {
      "text/plain": [
       "1"
      ]
     },
     "execution_count": 29,
     "metadata": {},
     "output_type": "execute_result"
    }
   ],
   "source": [
    "t.count(2)"
   ]
  },
  {
   "cell_type": "code",
   "execution_count": 33,
   "id": "9bcb816b-d881-4430-8f19-5b62c7864583",
   "metadata": {},
   "outputs": [
    {
     "data": {
      "text/plain": [
       "1"
      ]
     },
     "execution_count": 33,
     "metadata": {},
     "output_type": "execute_result"
    }
   ],
   "source": [
    "# index we will give the value it will finds the indx position of the  value in tuple.In the tuple it will give the first occurance value\n",
    "t.index(77)"
   ]
  },
  {
   "cell_type": "code",
   "execution_count": 35,
   "id": "6f413994-27f0-4de7-86b3-7fae9532cbc0",
   "metadata": {},
   "outputs": [
    {
     "data": {
      "text/plain": [
       "3"
      ]
     },
     "execution_count": 35,
     "metadata": {},
     "output_type": "execute_result"
    }
   ],
   "source": [
    "t1.index(True)"
   ]
  },
  {
   "cell_type": "code",
   "execution_count": 37,
   "id": "924b8afa-3428-476e-a350-ebcbad7865f2",
   "metadata": {},
   "outputs": [
    {
     "data": {
      "text/plain": [
       "4"
      ]
     },
     "execution_count": 37,
     "metadata": {},
     "output_type": "execute_result"
    }
   ],
   "source": [
    "t.index(1)"
   ]
  },
  {
   "cell_type": "code",
   "execution_count": 39,
   "id": "37f95b91-e25f-4def-ab95-313af2e72d94",
   "metadata": {},
   "outputs": [
    {
     "data": {
      "text/plain": [
       "(2, 77, 23, 89, 1, 45)"
      ]
     },
     "execution_count": 39,
     "metadata": {},
     "output_type": "execute_result"
    }
   ],
   "source": [
    "t"
   ]
  },
  {
   "cell_type": "code",
   "execution_count": 41,
   "id": "996d587e-bc4d-4a6d-adda-c83730bc1cb5",
   "metadata": {},
   "outputs": [
    {
     "data": {
      "text/plain": [
       "(2, 3.4, 5, True, '8+12j', True, 'Chanu', 3.4, 2)"
      ]
     },
     "execution_count": 41,
     "metadata": {},
     "output_type": "execute_result"
    }
   ],
   "source": [
    "t1"
   ]
  },
  {
   "cell_type": "code",
   "execution_count": 43,
   "id": "68fb5feb-92b1-43cc-9433-bef79f380ed8",
   "metadata": {},
   "outputs": [
    {
     "data": {
      "text/plain": [
       "23"
      ]
     },
     "execution_count": 43,
     "metadata": {},
     "output_type": "execute_result"
    }
   ],
   "source": [
    "#indexing: forwatd indexing and backward indexing\n",
    "t[2]"
   ]
  },
  {
   "cell_type": "code",
   "execution_count": 45,
   "id": "f5883dc5-b0db-4d55-97e7-390a87dba57d",
   "metadata": {},
   "outputs": [
    {
     "data": {
      "text/plain": [
       "True"
      ]
     },
     "execution_count": 45,
     "metadata": {},
     "output_type": "execute_result"
    }
   ],
   "source": [
    "t1[5]"
   ]
  },
  {
   "cell_type": "code",
   "execution_count": 47,
   "id": "2e674701-7986-4756-824b-20efdb714bfa",
   "metadata": {},
   "outputs": [
    {
     "data": {
      "text/plain": [
       "89"
      ]
     },
     "execution_count": 47,
     "metadata": {},
     "output_type": "execute_result"
    }
   ],
   "source": [
    "t[-3]"
   ]
  },
  {
   "cell_type": "code",
   "execution_count": 49,
   "id": "84ddc2ea-7106-4fe3-83e0-37ffdb001911",
   "metadata": {},
   "outputs": [
    {
     "data": {
      "text/plain": [
       "True"
      ]
     },
     "execution_count": 49,
     "metadata": {},
     "output_type": "execute_result"
    }
   ],
   "source": [
    "t1[-6]"
   ]
  },
  {
   "cell_type": "code",
   "execution_count": 51,
   "id": "4ca10c60-02ef-4da9-8a4a-d0a6f070cf30",
   "metadata": {},
   "outputs": [
    {
     "data": {
      "text/plain": [
       "45"
      ]
     },
     "execution_count": 51,
     "metadata": {},
     "output_type": "execute_result"
    }
   ],
   "source": [
    "t[5]"
   ]
  },
  {
   "cell_type": "code",
   "execution_count": 53,
   "id": "0282b0ab-6794-4d93-b9c8-fc048ec3eb5d",
   "metadata": {},
   "outputs": [
    {
     "data": {
      "text/plain": [
       "(77, 23, 89, 1, 45)"
      ]
     },
     "execution_count": 53,
     "metadata": {},
     "output_type": "execute_result"
    }
   ],
   "source": [
    "# slicing: forward slicing and backward slicing\n",
    "# [start:stop] and [start:stop:step]\n",
    "t[1:6]"
   ]
  },
  {
   "cell_type": "code",
   "execution_count": 55,
   "id": "476cb2a9-28ab-43be-8757-e743c2c2f2e6",
   "metadata": {},
   "outputs": [
    {
     "data": {
      "text/plain": [
       "(89, 1, 45)"
      ]
     },
     "execution_count": 55,
     "metadata": {},
     "output_type": "execute_result"
    }
   ],
   "source": [
    "t[3:8]"
   ]
  },
  {
   "cell_type": "code",
   "execution_count": 57,
   "id": "09fa47d0-5228-458c-946e-f7c0e3c551e9",
   "metadata": {},
   "outputs": [
    {
     "data": {
      "text/plain": [
       "(2, 77, 23, 89, 1, 45)"
      ]
     },
     "execution_count": 57,
     "metadata": {},
     "output_type": "execute_result"
    }
   ],
   "source": [
    "t[:]"
   ]
  },
  {
   "cell_type": "code",
   "execution_count": 59,
   "id": "91375606-b3cb-4aa6-acce-444a38092ada",
   "metadata": {},
   "outputs": [
    {
     "data": {
      "text/plain": [
       "(5, True, '8+12j', True, 'Chanu', 3.4, 2)"
      ]
     },
     "execution_count": 59,
     "metadata": {},
     "output_type": "execute_result"
    }
   ],
   "source": [
    "t1[2:9]"
   ]
  },
  {
   "cell_type": "code",
   "execution_count": 61,
   "id": "86a44073-c64d-4a14-8cc0-f05eb8af8b97",
   "metadata": {},
   "outputs": [
    {
     "data": {
      "text/plain": [
       "(5, True, '8+12j', True, 'Chanu')"
      ]
     },
     "execution_count": 61,
     "metadata": {},
     "output_type": "execute_result"
    }
   ],
   "source": [
    "t1[-7:-2]"
   ]
  },
  {
   "cell_type": "code",
   "execution_count": 63,
   "id": "5885a41f-6a2b-4526-be83-635f45a7603a",
   "metadata": {},
   "outputs": [
    {
     "data": {
      "text/plain": [
       "(3.4, True, True, 3.4)"
      ]
     },
     "execution_count": 63,
     "metadata": {},
     "output_type": "execute_result"
    }
   ],
   "source": [
    "t1[-8:-1:2]"
   ]
  },
  {
   "cell_type": "code",
   "execution_count": 65,
   "id": "6db04b8d-35fd-463d-92c9-6015476df8b8",
   "metadata": {},
   "outputs": [
    {
     "data": {
      "text/plain": [
       "(77, 1)"
      ]
     },
     "execution_count": 65,
     "metadata": {},
     "output_type": "execute_result"
    }
   ],
   "source": [
    "t[1:8:3]"
   ]
  },
  {
   "cell_type": "code",
   "execution_count": 69,
   "id": "e66755de-8558-46a2-a6a7-24f1c040f3bd",
   "metadata": {},
   "outputs": [
    {
     "name": "stdout",
     "output_type": "stream",
     "text": [
      "2\n",
      "77\n",
      "23\n",
      "89\n",
      "1\n",
      "45\n"
     ]
    }
   ],
   "source": [
    "for i in t:   #for loop also allowed in tuple\n",
    "    print(i)"
   ]
  },
  {
   "cell_type": "code",
   "execution_count": 71,
   "id": "67b01f5f-a00a-419e-b7c9-61efcab4491a",
   "metadata": {},
   "outputs": [
    {
     "name": "stdout",
     "output_type": "stream",
     "text": [
      "(0, 2)\n",
      "(1, 77)\n",
      "(2, 23)\n",
      "(3, 89)\n",
      "(4, 1)\n",
      "(5, 45)\n"
     ]
    }
   ],
   "source": [
    "for i in enumerate(t): # enumerate will give the index for all the values\n",
    "    print(i)"
   ]
  },
  {
   "cell_type": "code",
   "execution_count": 76,
   "id": "ffad2408-dc58-402f-9149-9ee8ca91b5c2",
   "metadata": {},
   "outputs": [
    {
     "data": {
      "text/plain": [
       "(2, 77, 23, 89, 1, 45, 2, 77, 23, 89, 1, 45)"
      ]
     },
     "execution_count": 76,
     "metadata": {},
     "output_type": "execute_result"
    }
   ],
   "source": [
    "# we will check weather the values in list will be multiples are not\n",
    "t*2 # it gives the duplicates values instead of multiplication "
   ]
  },
  {
   "cell_type": "markdown",
   "id": "232c7526-7d0d-420f-8656-73606e9e80a1",
   "metadata": {},
   "source": [
    "# Math functions"
   ]
  },
  {
   "cell_type": "markdown",
   "id": "65a3b305-3eb7-40c0-8f43-dc290411e416",
   "metadata": {},
   "source": [
    "Some math functions like sqrt, ceil, floor"
   ]
  },
  {
   "cell_type": "code",
   "execution_count": 81,
   "id": "93d06f3f-ed4b-4ddb-9bcf-9f532e269681",
   "metadata": {},
   "outputs": [],
   "source": [
    "import math"
   ]
  },
  {
   "cell_type": "code",
   "execution_count": 87,
   "id": "34b8a920-6e72-49da-a3a2-3917e0c2c758",
   "metadata": {},
   "outputs": [
    {
     "data": {
      "text/plain": [
       "5.0"
      ]
     },
     "execution_count": 87,
     "metadata": {},
     "output_type": "execute_result"
    }
   ],
   "source": [
    "x=math.sqrt(25)\n",
    "x"
   ]
  },
  {
   "cell_type": "code",
   "execution_count": 89,
   "id": "d93ea7d1-a7c6-4fb6-a425-3fa37e26d481",
   "metadata": {},
   "outputs": [
    {
     "data": {
      "text/plain": [
       "4.47213595499958"
      ]
     },
     "execution_count": 89,
     "metadata": {},
     "output_type": "execute_result"
    }
   ],
   "source": [
    "x1=math.sqrt(20)\n",
    "x1"
   ]
  },
  {
   "cell_type": "code",
   "execution_count": 93,
   "id": "a49569d5-c020-4745-a17c-d0fa3a69ff86",
   "metadata": {},
   "outputs": [
    {
     "name": "stdout",
     "output_type": "stream",
     "text": [
      "3\n"
     ]
    }
   ],
   "source": [
    "print(math.floor(3.5)) # floor means minimum value i.e removes the float value and gives the int value "
   ]
  },
  {
   "cell_type": "code",
   "execution_count": 95,
   "id": "b24563d8-ea3c-45b3-b8bf-33d7ec69f7fd",
   "metadata": {},
   "outputs": [
    {
     "name": "stdout",
     "output_type": "stream",
     "text": [
      "44\n"
     ]
    }
   ],
   "source": [
    "print(math.floor(44.678)) "
   ]
  },
  {
   "cell_type": "code",
   "execution_count": 97,
   "id": "3e19b740-f5f9-4b3b-8d06-3a48bc188cd8",
   "metadata": {},
   "outputs": [
    {
     "name": "stdout",
     "output_type": "stream",
     "text": [
      "4\n"
     ]
    }
   ],
   "source": [
    "print(math.ceil(3.5)) # ceil means maximum value "
   ]
  },
  {
   "cell_type": "code",
   "execution_count": 99,
   "id": "d57c9a83-5574-4a23-8639-10d155e96bb2",
   "metadata": {},
   "outputs": [
    {
     "name": "stdout",
     "output_type": "stream",
     "text": [
      "35\n"
     ]
    }
   ],
   "source": [
    "print(math.ceil(34.4))"
   ]
  },
  {
   "cell_type": "code",
   "execution_count": 101,
   "id": "e8d2be74-8a2c-4bbe-b1f8-af80e4f04f06",
   "metadata": {},
   "outputs": [
    {
     "name": "stdout",
     "output_type": "stream",
     "text": [
      "3\n"
     ]
    }
   ],
   "source": [
    "print(math.ceil(2.6))"
   ]
  },
  {
   "cell_type": "code",
   "execution_count": null,
   "id": "5bff7b0b-f152-471a-b390-b448e00b97c5",
   "metadata": {},
   "outputs": [],
   "source": []
  }
 ],
 "metadata": {
  "kernelspec": {
   "display_name": "Python 3 (ipykernel)",
   "language": "python",
   "name": "python3"
  },
  "language_info": {
   "codemirror_mode": {
    "name": "ipython",
    "version": 3
   },
   "file_extension": ".py",
   "mimetype": "text/x-python",
   "name": "python",
   "nbconvert_exporter": "python",
   "pygments_lexer": "ipython3",
   "version": "3.12.4"
  }
 },
 "nbformat": 4,
 "nbformat_minor": 5
}
