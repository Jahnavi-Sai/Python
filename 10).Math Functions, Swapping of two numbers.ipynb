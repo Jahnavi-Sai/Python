{
 "cells": [
  {
   "cell_type": "markdown",
   "id": "16bd0335-2910-48fc-a8a1-c6a1082dfdcc",
   "metadata": {},
   "source": [
    "# Math functions"
   ]
  },
  {
   "cell_type": "code",
   "execution_count": 2,
   "id": "35a9177a-3bb5-4b75-9d1d-572b30709ccf",
   "metadata": {},
   "outputs": [],
   "source": [
    "import math "
   ]
  },
  {
   "cell_type": "code",
   "execution_count": 3,
   "id": "68c4986f-8f58-4f92-be0d-c75333517e7c",
   "metadata": {},
   "outputs": [
    {
     "name": "stdout",
     "output_type": "stream",
     "text": [
      "9.0\n"
     ]
    }
   ],
   "source": [
    "print(math.pow(3,2)) # to calculate power of the value"
   ]
  },
  {
   "cell_type": "code",
   "execution_count": 4,
   "id": "a9070f0a-c01e-48f6-9796-25b90278fe44",
   "metadata": {},
   "outputs": [
    {
     "name": "stdout",
     "output_type": "stream",
     "text": [
      "3.141592653589793\n"
     ]
    }
   ],
   "source": [
    "print(math.pi) # pi value constant "
   ]
  },
  {
   "cell_type": "code",
   "execution_count": 5,
   "id": "1452c742-4bba-4df3-9d93-7b70fa6e04cf",
   "metadata": {},
   "outputs": [
    {
     "name": "stdout",
     "output_type": "stream",
     "text": [
      "2.718281828459045\n"
     ]
    }
   ],
   "source": [
    "print(math.e) # e value constant "
   ]
  },
  {
   "cell_type": "markdown",
   "id": "4566e450-98d1-481f-9d64-09c0b2b46c64",
   "metadata": {},
   "source": [
    "insted of writing math. we as us m"
   ]
  },
  {
   "cell_type": "code",
   "execution_count": 7,
   "id": "5ba44871-adc7-48e1-a976-5ffeac23c8e8",
   "metadata": {},
   "outputs": [],
   "source": [
    "import math as m"
   ]
  },
  {
   "cell_type": "code",
   "execution_count": 8,
   "id": "8c39e8c4-aaa1-45f6-9aab-d601843a153c",
   "metadata": {},
   "outputs": [
    {
     "data": {
      "text/plain": [
       "25.0"
      ]
     },
     "execution_count": 8,
     "metadata": {},
     "output_type": "execute_result"
    }
   ],
   "source": [
    "m.pow(5,2)  # we defined math as m as weare using m value insted of math to find power"
   ]
  },
  {
   "cell_type": "code",
   "execution_count": 9,
   "id": "58d53bf0-97e7-4828-bf21-c6aa542b8dcb",
   "metadata": {},
   "outputs": [
    {
     "data": {
      "text/plain": [
       "2.23606797749979"
      ]
     },
     "execution_count": 9,
     "metadata": {},
     "output_type": "execute_result"
    }
   ],
   "source": [
    "m.sqrt(5) # to find square value"
   ]
  },
  {
   "cell_type": "code",
   "execution_count": 10,
   "id": "913e1f75-fe32-46c1-93d3-9152c330465d",
   "metadata": {},
   "outputs": [
    {
     "data": {
      "text/plain": [
       "3.141592653589793"
      ]
     },
     "execution_count": 10,
     "metadata": {},
     "output_type": "execute_result"
    }
   ],
   "source": [
    "m.pi"
   ]
  },
  {
   "cell_type": "markdown",
   "id": "c468fe6d-7d32-4ab4-9208-1c5f928554f3",
   "metadata": {},
   "source": [
    "we can write mulitiple functions in one line"
   ]
  },
  {
   "cell_type": "code",
   "execution_count": 12,
   "id": "0e266750-5049-477a-b464-0106db42e494",
   "metadata": {},
   "outputs": [],
   "source": [
    "from math import sqrt,pow # importing 2 functions"
   ]
  },
  {
   "cell_type": "code",
   "execution_count": 13,
   "id": "c744c5ae-80a7-4d38-ad5f-9a1162f416e4",
   "metadata": {},
   "outputs": [
    {
     "data": {
      "text/plain": [
       "64.0"
      ]
     },
     "execution_count": 13,
     "metadata": {},
     "output_type": "execute_result"
    }
   ],
   "source": [
    "pow(4,3)"
   ]
  },
  {
   "cell_type": "code",
   "execution_count": 14,
   "id": "c91ab5f7-f5e5-41e9-bd24-b0df15dc897f",
   "metadata": {},
   "outputs": [
    {
     "data": {
      "text/plain": [
       "2.449489742783178"
      ]
     },
     "execution_count": 14,
     "metadata": {},
     "output_type": "execute_result"
    }
   ],
   "source": [
    "sqrt(6)"
   ]
  },
  {
   "cell_type": "code",
   "execution_count": 15,
   "id": "e17f20c3-2df0-49d2-a076-d539d1d946f8",
   "metadata": {},
   "outputs": [],
   "source": [
    "from math import * # * importing all functions"
   ]
  },
  {
   "cell_type": "code",
   "execution_count": 16,
   "id": "dc447048-97b4-47f6-ad7b-951d0ed59379",
   "metadata": {},
   "outputs": [
    {
     "data": {
      "text/plain": [
       "16.0"
      ]
     },
     "execution_count": 16,
     "metadata": {},
     "output_type": "execute_result"
    }
   ],
   "source": [
    "pow(2,4)"
   ]
  },
  {
   "cell_type": "code",
   "execution_count": 17,
   "id": "2be7cd03-dea1-4f21-b6f7-abac2e0dddee",
   "metadata": {},
   "outputs": [
    {
     "data": {
      "text/plain": [
       "3"
      ]
     },
     "execution_count": 17,
     "metadata": {},
     "output_type": "execute_result"
    }
   ],
   "source": [
    "ceil(2.4) #  ceil means round off value"
   ]
  },
  {
   "cell_type": "code",
   "execution_count": 18,
   "id": "16cf723c-d404-4dc9-b0fd-c554f751026c",
   "metadata": {},
   "outputs": [
    {
     "data": {
      "text/plain": [
       "6"
      ]
     },
     "execution_count": 18,
     "metadata": {},
     "output_type": "execute_result"
    }
   ],
   "source": [
    "floor(6.4) # floor means removing decimal point"
   ]
  },
  {
   "cell_type": "code",
   "execution_count": 19,
   "id": "9d23542c-8dfe-4066-8440-0a7a8b11ecbe",
   "metadata": {},
   "outputs": [
    {
     "data": {
      "text/plain": [
       "3.141592653589793"
      ]
     },
     "execution_count": 19,
     "metadata": {},
     "output_type": "execute_result"
    }
   ],
   "source": [
    "pi"
   ]
  },
  {
   "cell_type": "markdown",
   "id": "444c12f7-e355-4159-971b-df5025b6fa31",
   "metadata": {},
   "source": [
    "# Input Function"
   ]
  },
  {
   "cell_type": "markdown",
   "id": "6aca13ff-b0d1-434b-8190-fc3aadcad57d",
   "metadata": {},
   "source": [
    "adding of two numbers "
   ]
  },
  {
   "cell_type": "code",
   "execution_count": 22,
   "id": "1ae9f799-97f4-4082-89a9-bc91f168c567",
   "metadata": {},
   "outputs": [
    {
     "name": "stdin",
     "output_type": "stream",
     "text": [
      "enter 1st number 6\n",
      "enter 2nd number 8\n"
     ]
    },
    {
     "name": "stdout",
     "output_type": "stream",
     "text": [
      "68\n"
     ]
    }
   ],
   "source": [
    "x=input(\"enter 1st number\")   # here we are just inserting the value with out mentioning the type\n",
    "y=input(\"enter 2nd number\")    # without type it will act like contactenation\n",
    "z=x+y\n",
    "print(z) "
   ]
  },
  {
   "cell_type": "code",
   "execution_count": 23,
   "id": "1197b631-34df-4027-b2cd-86e0597a1721",
   "metadata": {},
   "outputs": [
    {
     "name": "stdin",
     "output_type": "stream",
     "text": [
      "enter 1st number 5\n",
      "enter 2nd number 2\n"
     ]
    },
    {
     "name": "stdout",
     "output_type": "stream",
     "text": [
      "7\n"
     ]
    }
   ],
   "source": [
    "x=int(input(\"enter 1st number\"))   # here we are inserting the value with mentioning the type as int\n",
    "y=int(input(\"enter 2nd number\"))    # we mentioned the type as int so it will add two numbers\n",
    "z=x+y\n",
    "print(z)"
   ]
  },
  {
   "cell_type": "markdown",
   "id": "c3ac11da-a2aa-4826-8200-a6d837269d03",
   "metadata": {},
   "source": [
    "Defining a character"
   ]
  },
  {
   "cell_type": "code",
   "execution_count": 25,
   "id": "a4b6e79c-e80d-4f7c-b187-0db86697faf9",
   "metadata": {},
   "outputs": [
    {
     "name": "stdin",
     "output_type": "stream",
     "text": [
      "enter the character chanu\n"
     ]
    },
    {
     "name": "stdout",
     "output_type": "stream",
     "text": [
      "chanu\n"
     ]
    }
   ],
   "source": [
    "ch=input(\"enter the character\")\n",
    "print(ch)"
   ]
  },
  {
   "cell_type": "code",
   "execution_count": 26,
   "id": "3b56b324-a10b-472b-b45c-8fba900b070a",
   "metadata": {},
   "outputs": [
    {
     "name": "stdin",
     "output_type": "stream",
     "text": [
      "enter the char chanu\n"
     ]
    },
    {
     "name": "stdout",
     "output_type": "stream",
     "text": [
      "h\n"
     ]
    }
   ],
   "source": [
    "ch1=input('enter the char')[1] # indexing in input functions\n",
    "print(ch1)"
   ]
  },
  {
   "cell_type": "code",
   "execution_count": 27,
   "id": "fdfaded3-2951-4985-8ea1-fecf3cf7b325",
   "metadata": {},
   "outputs": [
    {
     "name": "stdin",
     "output_type": "stream",
     "text": [
      "enter the character chanu\n"
     ]
    },
    {
     "name": "stdout",
     "output_type": "stream",
     "text": [
      "chan\n"
     ]
    }
   ],
   "source": [
    "ch2=input(\"enter the character\")[0:4]\n",
    "print(ch2)"
   ]
  },
  {
   "cell_type": "markdown",
   "id": "8cd6562f-e564-4b7c-a3ff-c86abd8341ae",
   "metadata": {},
   "source": [
    "by using usibg eval for the expressions we use type as eval"
   ]
  },
  {
   "cell_type": "code",
   "execution_count": null,
   "id": "96d3ce5c-ff16-4880-a438-66eecac4379c",
   "metadata": {},
   "outputs": [],
   "source": [
    "ch=eval(input(\"enter the expression\"))   # 2+3-3\n",
    "ch                                       # 2"
   ]
  },
  {
   "cell_type": "markdown",
   "id": "86865dd1-f741-4b72-afec-ec6615ea5206",
   "metadata": {},
   "source": [
    "by using sys function"
   ]
  },
  {
   "cell_type": "code",
   "execution_count": null,
   "id": "4da05431-c136-4fa0-a085-d9f3308d0464",
   "metadata": {},
   "outputs": [],
   "source": [
    "import sys\n",
    "a=print(sys(arg[1])\n",
    "b=print(sys(arg[2])       # 5\n",
    "c=a+b                     # 4\n",
    "print(c)                  # 9"
   ]
  },
  {
   "cell_type": "markdown",
   "id": "22a7a451-d500-47d3-b7a6-de54b433464f",
   "metadata": {},
   "source": [
    "# Set"
   ]
  },
  {
   "cell_type": "markdown",
   "id": "2d1a9bb2-8619-43eb-b092-dd6e7191f98e",
   "metadata": {},
   "source": [
    "set-{}\n",
    "\n",
    "set is define by {} curly brackets. set does not contain duplicates. same type of datatypes will be in ordered sequence.\n",
    "\n",
    "set elements are immutable we cannot change. It can be mutable according to the situation "
   ]
  },
  {
   "cell_type": "markdown",
   "id": "1cad2151-3486-42f9-bb7f-c15b94d81548",
   "metadata": {},
   "source": [
    "Method--(Shortcut)--Description\n",
    "\n",
    "add()--Adds an element to the set\n",
    "\n",
    "clear()--Removes all the elements from the set\n",
    "\n",
    "copy()--Returns a copy of the set\n",
    "\n",
    "difference()-- (-) --Returns a set containing the difference between two or more sets\n",
    "\n",
    "difference_update()-- (-=) --Removes the items in this set that are also included in another, specified set\n",
    "\n",
    "discard()--Remove the specified item\n",
    "\n",
    "intersection()-- (&) --Returns a set, that is the intersection of two other sets\n",
    "\n",
    "intersection_update()-- (&=) --Removes the items in this set that are not present in other, specified set(s)\n",
    "\n",
    "isdisjoint()--Returns whether two sets have a intersection or not\n",
    "\n",
    "issubset()-- (<=) --Returns whether another set contains this set or not --(<)\tReturns whether all items in this set is present in other, specified set(s)\n",
    "\n",
    "issuperset()-- (>=) --\tReturns whether this set contains another set or not --(>)Returns whether all items in other, specified set(s) is present in this set\n",
    "\n",
    "pop()--Removes an element from the set\n",
    "\n",
    "remove()--Removes the specified element\n",
    "\n",
    "symmetric_difference()--(^)--Returns a set with the symmetric differences of two sets\n",
    "\n",
    "symmetric_difference_update()--(^=)--Inserts the symmetric differences from this set and another\n",
    "\n",
    "union()--(|)Return a set containing the union of sets\n",
    "\n",
    "update()--(|=)-- Update the set with the union of this set and others"
   ]
  },
  {
   "cell_type": "code",
   "execution_count": null,
   "id": "0e4d2a1b-8c51-4a11-bc29-730001566e6c",
   "metadata": {},
   "outputs": [],
   "source": []
  },
  {
   "cell_type": "code",
   "execution_count": null,
   "id": "24494cda-a487-4727-868b-7bfb4d07b022",
   "metadata": {},
   "outputs": [],
   "source": []
  },
  {
   "cell_type": "code",
   "execution_count": null,
   "id": "6d24f9af-fdbc-4586-89b2-49fcd3dab37d",
   "metadata": {},
   "outputs": [],
   "source": []
  },
  {
   "cell_type": "code",
   "execution_count": null,
   "id": "16f51569-d17f-40e9-8ad1-1ceb48fb5091",
   "metadata": {},
   "outputs": [],
   "source": []
  },
  {
   "cell_type": "code",
   "execution_count": null,
   "id": "607c3ec7-46a9-41b5-92b4-191143bbfd9b",
   "metadata": {},
   "outputs": [],
   "source": []
  },
  {
   "cell_type": "code",
   "execution_count": null,
   "id": "30d43d2a-d6ec-455b-aa4e-737d6f0aad5a",
   "metadata": {},
   "outputs": [],
   "source": []
  },
  {
   "cell_type": "code",
   "execution_count": null,
   "id": "99228198-ca2b-45ce-840a-8e1cfddd4115",
   "metadata": {},
   "outputs": [],
   "source": []
  },
  {
   "cell_type": "code",
   "execution_count": null,
   "id": "4bb3429c-d599-4022-a9c9-49280e7c3f69",
   "metadata": {},
   "outputs": [],
   "source": []
  },
  {
   "cell_type": "code",
   "execution_count": null,
   "id": "241a344a-e9f8-4a77-892e-c83208aeead5",
   "metadata": {},
   "outputs": [],
   "source": []
  },
  {
   "cell_type": "code",
   "execution_count": null,
   "id": "526917a3-a114-48ab-a334-b3db59d68ec4",
   "metadata": {},
   "outputs": [],
   "source": []
  },
  {
   "cell_type": "code",
   "execution_count": null,
   "id": "50c1df8d-87f0-4b5d-af2e-1723bda9b01b",
   "metadata": {},
   "outputs": [],
   "source": []
  },
  {
   "cell_type": "code",
   "execution_count": null,
   "id": "2224ae09-8723-4ce3-a827-ac5ef69f1c4b",
   "metadata": {},
   "outputs": [],
   "source": []
  },
  {
   "cell_type": "code",
   "execution_count": null,
   "id": "4837cb4f-4415-4de7-a570-e085c695bcc7",
   "metadata": {},
   "outputs": [],
   "source": []
  },
  {
   "cell_type": "code",
   "execution_count": null,
   "id": "5c723041-f856-40d6-a8d9-af0a16c51e76",
   "metadata": {},
   "outputs": [],
   "source": []
  },
  {
   "cell_type": "code",
   "execution_count": null,
   "id": "a1f623df-214f-4b0e-a9a5-2e1949fafbca",
   "metadata": {},
   "outputs": [],
   "source": []
  },
  {
   "cell_type": "code",
   "execution_count": null,
   "id": "329283cd-2e5d-4b95-89a1-964f8e7cac4d",
   "metadata": {},
   "outputs": [],
   "source": []
  },
  {
   "cell_type": "code",
   "execution_count": null,
   "id": "ebf4e864-49c7-4576-8549-524905263fa0",
   "metadata": {},
   "outputs": [],
   "source": []
  },
  {
   "cell_type": "code",
   "execution_count": null,
   "id": "c62603cd-d4ec-4fb4-ac3c-8dba296c9c94",
   "metadata": {},
   "outputs": [],
   "source": []
  }
 ],
 "metadata": {
  "kernelspec": {
   "display_name": "Python 3 (ipykernel)",
   "language": "python",
   "name": "python3"
  },
  "language_info": {
   "codemirror_mode": {
    "name": "ipython",
    "version": 3
   },
   "file_extension": ".py",
   "mimetype": "text/x-python",
   "name": "python",
   "nbconvert_exporter": "python",
   "pygments_lexer": "ipython3",
   "version": "3.12.4"
  }
 },
 "nbformat": 4,
 "nbformat_minor": 5
}
