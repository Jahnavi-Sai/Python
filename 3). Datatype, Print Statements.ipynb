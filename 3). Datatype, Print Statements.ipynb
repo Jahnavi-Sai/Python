{
 "cells": [
  {
   "cell_type": "markdown",
   "id": "b9016ef6-f393-422b-8275-f7b5a31f8a3c",
   "metadata": {},
   "source": [
    "# Datatypes"
   ]
  },
  {
   "cell_type": "markdown",
   "id": "78086dd4-e2ad-49b7-84d0-48dcc3d4ac96",
   "metadata": {},
   "source": [
    "The datatypes are int,float,boolean,complex,string\n",
    "\n",
    "Integer: It contains only numeric values. Eg: 2,4,77,4345,46432\n",
    "\n",
    "Float: It contains decimal values. Eg: 2.4, 45.3, 345.22\n",
    "\n",
    "Boolean:It has only 2 values i.e True or False\n",
    "\n",
    "Complex: It has a+bj a=real part, b=imaginary part, c=square root of -1\n",
    "\n",
    "String: we can define names a group of characters or words or numbers it can be stored in quotations. Eg: ' ', \" \", ''' '''"
   ]
  },
  {
   "cell_type": "markdown",
   "id": "c7e70d6c-7a48-4c60-a525-f538fabfff32",
   "metadata": {},
   "source": [
    "# Integer"
   ]
  },
  {
   "cell_type": "code",
   "execution_count": 83,
   "id": "a3cc8c2a-8a8d-4f18-8324-6e26b5ea7ac8",
   "metadata": {},
   "outputs": [
    {
     "data": {
      "text/plain": [
       "4"
      ]
     },
     "execution_count": 83,
     "metadata": {},
     "output_type": "execute_result"
    }
   ],
   "source": [
    "i=4\n",
    "i"
   ]
  },
  {
   "cell_type": "code",
   "execution_count": 85,
   "id": "7b5e7b20-42f7-490a-b258-b4ebd68150ca",
   "metadata": {},
   "outputs": [
    {
     "data": {
      "text/plain": [
       "int"
      ]
     },
     "execution_count": 85,
     "metadata": {},
     "output_type": "execute_result"
    }
   ],
   "source": [
    "type(i)"
   ]
  },
  {
   "cell_type": "code",
   "execution_count": 12,
   "id": "4ae27d44-ade7-4e63-b6c1-cc208534681f",
   "metadata": {},
   "outputs": [
    {
     "data": {
      "text/plain": [
       "int"
      ]
     },
     "execution_count": 12,
     "metadata": {},
     "output_type": "execute_result"
    }
   ],
   "source": [
    "type(i1)"
   ]
  },
  {
   "cell_type": "code",
   "execution_count": 16,
   "id": "a93a6609-abac-4ca0-8a11-15f8a48a9599",
   "metadata": {},
   "outputs": [
    {
     "data": {
      "text/plain": [
       "9"
      ]
     },
     "execution_count": 16,
     "metadata": {},
     "output_type": "execute_result"
    }
   ],
   "source": [
    "j=i+i1\n",
    "j"
   ]
  },
  {
   "cell_type": "markdown",
   "id": "47773d61-c36d-4d98-975e-e5fe85d0799d",
   "metadata": {},
   "source": [
    "# float"
   ]
  },
  {
   "cell_type": "code",
   "execution_count": 19,
   "id": "938e0151-4141-4334-909e-dfd0fe72c151",
   "metadata": {},
   "outputs": [
    {
     "data": {
      "text/plain": [
       "2.6"
      ]
     },
     "execution_count": 19,
     "metadata": {},
     "output_type": "execute_result"
    }
   ],
   "source": [
    "a=2.6\n",
    "a"
   ]
  },
  {
   "cell_type": "code",
   "execution_count": 21,
   "id": "73f5a830-5c32-4062-877d-139e8dc957ef",
   "metadata": {},
   "outputs": [
    {
     "data": {
      "text/plain": [
       "float"
      ]
     },
     "execution_count": 21,
     "metadata": {},
     "output_type": "execute_result"
    }
   ],
   "source": [
    "type(a)"
   ]
  },
  {
   "cell_type": "code",
   "execution_count": 23,
   "id": "680de3e1-838f-4124-9ce4-4a4ddb2e0fec",
   "metadata": {},
   "outputs": [
    {
     "data": {
      "text/plain": [
       "5.7"
      ]
     },
     "execution_count": 23,
     "metadata": {},
     "output_type": "execute_result"
    }
   ],
   "source": [
    "a1=5.7\n",
    "a1"
   ]
  },
  {
   "cell_type": "code",
   "execution_count": 25,
   "id": "a1a9fb40-3acf-409b-adb2-e62aefde22c3",
   "metadata": {},
   "outputs": [
    {
     "data": {
      "text/plain": [
       "float"
      ]
     },
     "execution_count": 25,
     "metadata": {},
     "output_type": "execute_result"
    }
   ],
   "source": [
    "type(a1)"
   ]
  },
  {
   "cell_type": "code",
   "execution_count": 29,
   "id": "7c3ca969-9958-4f1f-8bc8-227cc38b41c4",
   "metadata": {},
   "outputs": [
    {
     "data": {
      "text/plain": [
       "11.6"
      ]
     },
     "execution_count": 29,
     "metadata": {},
     "output_type": "execute_result"
    }
   ],
   "source": [
    "a2=a+j # adding float value and int value\n",
    "a2"
   ]
  },
  {
   "cell_type": "markdown",
   "id": "c4554e82-384e-4766-b18c-7040f37c82b3",
   "metadata": {},
   "source": [
    "# boolean "
   ]
  },
  {
   "cell_type": "code",
   "execution_count": 32,
   "id": "9db78697-c139-4b6a-a57c-fb49bd3aa03c",
   "metadata": {},
   "outputs": [
    {
     "data": {
      "text/plain": [
       "True"
      ]
     },
     "execution_count": 32,
     "metadata": {},
     "output_type": "execute_result"
    }
   ],
   "source": [
    "b=True\n",
    "b"
   ]
  },
  {
   "cell_type": "code",
   "execution_count": 34,
   "id": "e63afcee-7c6d-4cb3-ad7b-e4ee7dd7cf74",
   "metadata": {},
   "outputs": [
    {
     "data": {
      "text/plain": [
       "bool"
      ]
     },
     "execution_count": 34,
     "metadata": {},
     "output_type": "execute_result"
    }
   ],
   "source": [
    "type(b)"
   ]
  },
  {
   "cell_type": "code",
   "execution_count": 36,
   "id": "dd90e224-f763-462f-94f6-b0f89b10746a",
   "metadata": {},
   "outputs": [
    {
     "data": {
      "text/plain": [
       "False"
      ]
     },
     "execution_count": 36,
     "metadata": {},
     "output_type": "execute_result"
    }
   ],
   "source": [
    "b1=False\n",
    "b1"
   ]
  },
  {
   "cell_type": "code",
   "execution_count": 38,
   "id": "b48363ff-5af9-4733-afd0-22003d0a5bff",
   "metadata": {},
   "outputs": [
    {
     "data": {
      "text/plain": [
       "bool"
      ]
     },
     "execution_count": 38,
     "metadata": {},
     "output_type": "execute_result"
    }
   ],
   "source": [
    "type(b1)"
   ]
  },
  {
   "cell_type": "code",
   "execution_count": 40,
   "id": "fde98427-eef8-443f-91bc-57d47ad7b4b2",
   "metadata": {},
   "outputs": [
    {
     "data": {
      "text/plain": [
       "1"
      ]
     },
     "execution_count": 40,
     "metadata": {},
     "output_type": "execute_result"
    }
   ],
   "source": [
    "b2=b+b1  # if we use opertors then true acts as a 1 and false as the 0\n",
    "b2"
   ]
  },
  {
   "cell_type": "code",
   "execution_count": 42,
   "id": "7268d0e0-be6a-4d24-852b-2f34253e8d63",
   "metadata": {},
   "outputs": [
    {
     "data": {
      "text/plain": [
       "0"
      ]
     },
     "execution_count": 42,
     "metadata": {},
     "output_type": "execute_result"
    }
   ],
   "source": [
    "b3=b1+b*b1\n",
    "b3"
   ]
  },
  {
   "cell_type": "code",
   "execution_count": 44,
   "id": "6f420d00-028b-4ca2-876c-e291dc0fd546",
   "metadata": {},
   "outputs": [
    {
     "data": {
      "text/plain": [
       "1"
      ]
     },
     "execution_count": 44,
     "metadata": {},
     "output_type": "execute_result"
    }
   ],
   "source": [
    "b4=b+b3*b1\n",
    "b4"
   ]
  },
  {
   "cell_type": "markdown",
   "id": "7a52bce7-2864-45fe-910b-ed36bbce778c",
   "metadata": {},
   "source": [
    "# complex"
   ]
  },
  {
   "cell_type": "code",
   "execution_count": 47,
   "id": "5ef40edf-92a7-4371-9dca-bbdd3fd95e3f",
   "metadata": {},
   "outputs": [
    {
     "data": {
      "text/plain": [
       "(2+3j)"
      ]
     },
     "execution_count": 47,
     "metadata": {},
     "output_type": "execute_result"
    }
   ],
   "source": [
    "x=2+3j\n",
    "x"
   ]
  },
  {
   "cell_type": "code",
   "execution_count": 49,
   "id": "b86c9a60-af33-41d7-9ee9-fb0b93aedc93",
   "metadata": {},
   "outputs": [
    {
     "data": {
      "text/plain": [
       "complex"
      ]
     },
     "execution_count": 49,
     "metadata": {},
     "output_type": "execute_result"
    }
   ],
   "source": [
    "type(x)"
   ]
  },
  {
   "cell_type": "code",
   "execution_count": 51,
   "id": "72081a94-c87b-4e64-98f2-65354add639b",
   "metadata": {},
   "outputs": [
    {
     "data": {
      "text/plain": [
       "(4+55j)"
      ]
     },
     "execution_count": 51,
     "metadata": {},
     "output_type": "execute_result"
    }
   ],
   "source": [
    "x1=4+55j\n",
    "x1"
   ]
  },
  {
   "cell_type": "code",
   "execution_count": 55,
   "id": "e0445654-7789-4407-9f43-de66d930422e",
   "metadata": {},
   "outputs": [
    {
     "data": {
      "text/plain": [
       "(6+58j)"
      ]
     },
     "execution_count": 55,
     "metadata": {},
     "output_type": "execute_result"
    }
   ],
   "source": [
    "x2=x+x1\n",
    "x2"
   ]
  },
  {
   "cell_type": "code",
   "execution_count": 59,
   "id": "56c3ed0c-e30d-4704-b57b-f63666784175",
   "metadata": {},
   "outputs": [
    {
     "data": {
      "text/plain": [
       "(7+58j)"
      ]
     },
     "execution_count": 59,
     "metadata": {},
     "output_type": "execute_result"
    }
   ],
   "source": [
    "x3=x2+b4\n",
    "x3"
   ]
  },
  {
   "cell_type": "code",
   "execution_count": 61,
   "id": "4460d9df-2343-43bb-b775-6cdb869b9a34",
   "metadata": {},
   "outputs": [
    {
     "data": {
      "text/plain": [
       "(-2-3j)"
      ]
     },
     "execution_count": 61,
     "metadata": {},
     "output_type": "execute_result"
    }
   ],
   "source": [
    "x4=x1-x2\n",
    "x4"
   ]
  },
  {
   "cell_type": "markdown",
   "id": "cca2f3d6-ce08-410e-956d-f43393947775",
   "metadata": {},
   "source": [
    "# string"
   ]
  },
  {
   "cell_type": "code",
   "execution_count": 64,
   "id": "a4dbcb7b-304a-45d5-a13b-db2070e81bd3",
   "metadata": {},
   "outputs": [
    {
     "name": "stdout",
     "output_type": "stream",
     "text": [
      "10\n",
      "chanu\n"
     ]
    }
   ],
   "source": [
    "y='10'\n",
    "y1='chanu'\n",
    "print(y)\n",
    "print(y1)"
   ]
  },
  {
   "cell_type": "code",
   "execution_count": 66,
   "id": "e7170537-0278-4f8f-921b-02bb6ac94087",
   "metadata": {},
   "outputs": [
    {
     "name": "stdout",
     "output_type": "stream",
     "text": [
      "<class 'str'>\n",
      "<class 'str'>\n"
     ]
    }
   ],
   "source": [
    "print(type(y))\n",
    "print(type(y1))"
   ]
  },
  {
   "cell_type": "code",
   "execution_count": 68,
   "id": "211b6e34-cebb-479c-9e5c-4987f5953f47",
   "metadata": {},
   "outputs": [
    {
     "data": {
      "text/plain": [
       "'chinni'"
      ]
     },
     "execution_count": 68,
     "metadata": {},
     "output_type": "execute_result"
    }
   ],
   "source": [
    "j=\"chinni\"\n",
    "j"
   ]
  },
  {
   "cell_type": "code",
   "execution_count": 74,
   "id": "3a7cb23c-fed1-4e7f-953c-3684e758e357",
   "metadata": {},
   "outputs": [
    {
     "data": {
      "text/plain": [
       "'chinni is very good cat it always\\n        loves her daughter\\n        pampers his kids'"
      ]
     },
     "execution_count": 74,
     "metadata": {},
     "output_type": "execute_result"
    }
   ],
   "source": [
    "j2='''chinni is very good cat it always\n",
    "        loves her daughter\n",
    "        pampers his kids'''\n",
    "j2"
   ]
  },
  {
   "cell_type": "markdown",
   "id": "b6f32d71-9b04-4be8-8229-f1516ad77af8",
   "metadata": {},
   "source": [
    "# print statements"
   ]
  },
  {
   "cell_type": "markdown",
   "id": "150e9ebc-581d-4a19-ab38-7998d6305a02",
   "metadata": {},
   "source": [
    "print statement with string"
   ]
  },
  {
   "cell_type": "code",
   "execution_count": 104,
   "id": "03957529-ae25-4f66-8693-80a31a89aa05",
   "metadata": {},
   "outputs": [
    {
     "name": "stdout",
     "output_type": "stream",
     "text": [
      "the sum of 23 and 11 is= 34\n"
     ]
    }
   ],
   "source": [
    "a=23\n",
    "b=11\n",
    "sum=a+b\n",
    "print('the sum of' ,a, 'and', b, 'is=',sum)"
   ]
  },
  {
   "cell_type": "code",
   "execution_count": 112,
   "id": "73c4928d-b7ae-4325-8422-88a65809811b",
   "metadata": {},
   "outputs": [
    {
     "name": "stdout",
     "output_type": "stream",
     "text": [
      "my name is chanu and age is 5 i am from chennai\n"
     ]
    }
   ],
   "source": [
    "name=\"chanu\"\n",
    "age=5\n",
    "city=\"chennai\"\n",
    "print('my name is',name,'and age is',age,'i am from',city)"
   ]
  },
  {
   "cell_type": "markdown",
   "id": "28e8199e-9d5d-4d36-ae57-1cd409cd0e87",
   "metadata": {},
   "source": [
    "print format method"
   ]
  },
  {
   "cell_type": "code",
   "execution_count": 125,
   "id": "52c3d973-8d92-4b37-ac03-db593615f907",
   "metadata": {},
   "outputs": [
    {
     "name": "stdout",
     "output_type": "stream",
     "text": [
      "the sum of 34 + 22 is 56\n"
     ]
    }
   ],
   "source": [
    "a=34\n",
    "b=22\n",
    "sum=a+b\n",
    "print('the sum of {} + {} is {}'.format(a,b,sum))"
   ]
  },
  {
   "cell_type": "code",
   "execution_count": 135,
   "id": "1fdbae46-75d2-45df-b55f-f0cd4a0f692a",
   "metadata": {},
   "outputs": [
    {
     "name": "stdout",
     "output_type": "stream",
     "text": [
      "the list of the groceries are apples , balls, carrots, dates\n"
     ]
    }
   ],
   "source": [
    "a1=\"apples\"\n",
    "b1=\"balls\"\n",
    "c=\"carrots\"\n",
    "d=\"dates\"\n",
    "print('the list of the groceries are {} , {}, {}, {}'.format(a1,b1,c,d))"
   ]
  },
  {
   "cell_type": "markdown",
   "id": "9ba3f205-3332-4ad7-9e8d-dfdfe470aee3",
   "metadata": {},
   "source": [
    "f-string method"
   ]
  },
  {
   "cell_type": "code",
   "execution_count": 138,
   "id": "ff12ab1a-0cfc-4521-ac89-c481caef3dfe",
   "metadata": {},
   "outputs": [
    {
     "name": "stdout",
     "output_type": "stream",
     "text": [
      "sum of 11 and 44 is 55\n"
     ]
    }
   ],
   "source": [
    "a=11\n",
    "b=44\n",
    "sum=a+b\n",
    "print(f'sum of {a} and {b} is {sum}')"
   ]
  },
  {
   "cell_type": "code",
   "execution_count": 140,
   "id": "5d550765-229a-48e6-8fd4-b5e0dd32649f",
   "metadata": {},
   "outputs": [
    {
     "name": "stdout",
     "output_type": "stream",
     "text": [
      "some cities in india are chennai,mumbai,Bangalore\n"
     ]
    }
   ],
   "source": [
    "a=\"chennai\"\n",
    "b=\"mumbai\"\n",
    "c=\"Bangalore\"\n",
    "print(f'some cities in india are {a},{b},{c}')"
   ]
  },
  {
   "cell_type": "markdown",
   "id": "8eb2fd75-15e8-41ec-ad5c-1e519f2c33ea",
   "metadata": {},
   "source": [
    "End statement"
   ]
  },
  {
   "cell_type": "code",
   "execution_count": 149,
   "id": "de11f49a-34be-4027-891e-fb9ecb5e9172",
   "metadata": {},
   "outputs": [
    {
     "name": "stdout",
     "output_type": "stream",
     "text": [
      "hi\n",
      "good morning\n"
     ]
    }
   ],
   "source": [
    "print(\"hi\")\n",
    "print(\"good morning\")"
   ]
  },
  {
   "cell_type": "code",
   "execution_count": 151,
   "id": "79d02e0b-7c63-48e4-94cb-c9979f5eb21f",
   "metadata": {},
   "outputs": [
    {
     "name": "stdout",
     "output_type": "stream",
     "text": [
      "hi good morning\n"
     ]
    }
   ],
   "source": [
    "print(\"hi\" ,end=\" \")\n",
    "print(\"good morning\")"
   ]
  },
  {
   "cell_type": "code",
   "execution_count": 155,
   "id": "ac1c92a0-11f0-439c-91f8-00cde4a4a370",
   "metadata": {},
   "outputs": [
    {
     "name": "stdout",
     "output_type": "stream",
     "text": [
      "hi good morning friends & family\n"
     ]
    }
   ],
   "source": [
    "print(\"hi good morning friends\" ,end=\" & \")\n",
    "print(\"family\")"
   ]
  },
  {
   "cell_type": "markdown",
   "id": "f79a659e-2578-4691-90eb-1cb532fb7c1d",
   "metadata": {},
   "source": [
    "Seperator"
   ]
  },
  {
   "cell_type": "code",
   "execution_count": 166,
   "id": "2f5306da-b0ce-4d9d-82ff-49293c8bbbcd",
   "metadata": {},
   "outputs": [
    {
     "name": "stdout",
     "output_type": "stream",
     "text": [
      "the groceries are apples& mango& ornages \n"
     ]
    }
   ],
   "source": [
    "print('the groceries are apples' , ' mango' , ' ornages ',sep=\"&\")"
   ]
  },
  {
   "cell_type": "code",
   "execution_count": 170,
   "id": "f3d6f276-7b77-44ed-9ab3-f0d03f97e42c",
   "metadata": {},
   "outputs": [
    {
     "name": "stdout",
     "output_type": "stream",
     "text": [
      "hi----hello----friends\n"
     ]
    }
   ],
   "source": [
    "print('hi','hello','friends',sep=\"----\")"
   ]
  },
  {
   "cell_type": "code",
   "execution_count": 172,
   "id": "cfa2f161-b724-47e1-a6ff-94a79b3fba4c",
   "metadata": {},
   "outputs": [
    {
     "name": "stdout",
     "output_type": "stream",
     "text": [
      "hi-->hello-->friends\n"
     ]
    }
   ],
   "source": [
    "print('hi','hello','friends',sep=\"-->\")"
   ]
  },
  {
   "cell_type": "code",
   "execution_count": 174,
   "id": "0bed804b-fda0-4849-a673-0f5a5e7dead8",
   "metadata": {},
   "outputs": [
    {
     "name": "stdout",
     "output_type": "stream",
     "text": [
      "hi,friends,Goodafternoon\n"
     ]
    }
   ],
   "source": [
    "print('hi','friends','Goodafternoon',sep=\",\")"
   ]
  },
  {
   "cell_type": "code",
   "execution_count": null,
   "id": "e6f1d05c-dad3-43de-9ed6-ddc9f6bb90ed",
   "metadata": {},
   "outputs": [],
   "source": []
  }
 ],
 "metadata": {
  "kernelspec": {
   "display_name": "Python 3 (ipykernel)",
   "language": "python",
   "name": "python3"
  },
  "language_info": {
   "codemirror_mode": {
    "name": "ipython",
    "version": 3
   },
   "file_extension": ".py",
   "mimetype": "text/x-python",
   "name": "python",
   "nbconvert_exporter": "python",
   "pygments_lexer": "ipython3",
   "version": "3.12.4"
  }
 },
 "nbformat": 4,
 "nbformat_minor": 5
}
